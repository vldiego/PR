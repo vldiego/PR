{
 "cells": [
  {
   "cell_type": "markdown",
   "metadata": {
    "colab_type": "text",
    "id": "yGGIKXhaNgIg"
   },
   "source": [
    "# Introducción Machine Learning en Python\n",
    "\n",
    "Cargamos datasets con información de admisiones a hospitales de enfermos de diabetes. El objetivo es, una vez limpiado el dataset, estudiarlo para extraer el máximo número de insights de los datos."
   ]
  },
  {
   "cell_type": "markdown",
   "metadata": {
    "colab_type": "text",
    "id": "gPI_r24KN1U3"
   },
   "source": [
    "## 1. Cargar librerías"
   ]
  },
  {
   "cell_type": "code",
   "execution_count": 1,
   "metadata": {
    "colab": {},
    "colab_type": "code",
    "id": "sfrqUMiBM6_5",
    "outputId": "c38420e2-9457-4e54-bb77-882b5c422b28"
   },
   "outputs": [
    {
     "name": "stderr",
     "output_type": "stream",
     "text": [
      "C:\\Anaconda3\\lib\\site-packages\\sklearn\\cross_validation.py:41: DeprecationWarning: This module was deprecated in version 0.18 in favor of the model_selection module into which all the refactored classes and functions are moved. Also note that the interface of the new CV iterators are different from that of this module. This module will be removed in 0.20.\n",
      "  \"This module will be removed in 0.20.\", DeprecationWarning)\n",
      "C:\\Anaconda3\\lib\\site-packages\\sklearn\\grid_search.py:42: DeprecationWarning: This module was deprecated in version 0.18 in favor of the model_selection module into which all the refactored classes and functions are moved. This module will be removed in 0.20.\n",
      "  DeprecationWarning)\n"
     ]
    }
   ],
   "source": [
    "%matplotlib inline\n",
    "\n",
    "import re\n",
    "import random\n",
    "from collections import Counter\n",
    "\n",
    "import pandas as pd\n",
    "import numpy as np\n",
    "import matplotlib.pyplot as plt\n",
    "import seaborn as sns\n",
    "from scipy.stats import kstest\n",
    "sns.set(color_codes=True)\n",
    "\n",
    "from sklearn.preprocessing import MinMaxScaler\n",
    "from sklearn.cross_validation import train_test_split\n",
    "from sklearn.linear_model import LogisticRegression\n",
    "from sklearn.ensemble import RandomForestClassifier, GradientBoostingClassifier\n",
    "from sklearn.cross_validation import train_test_split\n",
    "from sklearn.metrics import  roc_curve, auc, silhouette_score, recall_score, precision_score, confusion_matrix, make_scorer\n",
    "from sklearn.grid_search import GridSearchCV, ParameterGrid\n",
    "from sklearn.cluster import KMeans\n",
    "from sklearn import preprocessing\n",
    "from sklearn.model_selection import train_test_split\n",
    "from sklearn.linear_model import LogisticRegression\n",
    "from sklearn.ensemble import GradientBoostingClassifier\n",
    "from sklearn.model_selection import cross_val_score\n",
    "from sklearn.tree import DecisionTreeClassifier\n",
    "from sklearn.metrics import f1_score, precision_score, recall_score, auc"
   ]
  },
  {
   "cell_type": "markdown",
   "metadata": {
    "colab_type": "text",
    "id": "MCEIEivYN6Fe"
   },
   "source": [
    "## 2. Lectura de datos"
   ]
  },
  {
   "cell_type": "code",
   "execution_count": 2,
   "metadata": {},
   "outputs": [],
   "source": [
    "dfPresDigital = pd.read_csv(\"data/dataBasePrestDigital.csv\",sep=';')\n",
    "\n",
    "\n"
   ]
  },
  {
   "cell_type": "code",
   "execution_count": 3,
   "metadata": {},
   "outputs": [
    {
     "name": "stdout",
     "output_type": "stream",
     "text": [
      "<class 'pandas.core.frame.DataFrame'>\n",
      "RangeIndex: 435083 entries, 0 to 435082\n",
      "Data columns (total 20 columns):\n",
      "mes                  435083 non-null int64\n",
      "cliente              435083 non-null int64\n",
      "estadoCliente        435083 non-null object\n",
      "rngEdad              435083 non-null object\n",
      "genero               435083 non-null object\n",
      "rngSueldo            435083 non-null object\n",
      "procedencia          435083 non-null object\n",
      "operDigital          435083 non-null object\n",
      "trxDigitalUm         435083 non-null int64\n",
      "promTrxDig3Um        435083 non-null float64\n",
      "recCamp              435083 non-null int64\n",
      "frecCamp             435083 non-null int64\n",
      "tenTarjeta           435083 non-null object\n",
      "promConsBanco3Um     435083 non-null float64\n",
      "promSaldoBanco3Um    435083 non-null float64\n",
      "promSaldoTc3Um       435083 non-null float64\n",
      "promSaldoPrest3Um    435083 non-null float64\n",
      "sowTcUm              435083 non-null float64\n",
      "sowPrestUm           435083 non-null int64\n",
      "ventaPrestDig        435083 non-null int64\n",
      "dtypes: float64(6), int64(7), object(7)\n",
      "memory usage: 66.4+ MB\n"
     ]
    }
   ],
   "source": [
    "dfPresDigital.info()"
   ]
  },
  {
   "cell_type": "markdown",
   "metadata": {
    "colab_type": "text",
    "id": "0jb6RtHnN835"
   },
   "source": [
    "### comprobar correcta lectura de los datos"
   ]
  },
  {
   "cell_type": "code",
   "execution_count": 4,
   "metadata": {
    "colab": {
     "base_uri": "https://localhost:8080/",
     "height": 256
    },
    "colab_type": "code",
    "id": "1ZVu1dH0PUAL",
    "outputId": "be56898a-6918-4999-bc64-183e033e46d2"
   },
   "outputs": [
    {
     "data": {
      "text/html": [
       "<div>\n",
       "<style scoped>\n",
       "    .dataframe tbody tr th:only-of-type {\n",
       "        vertical-align: middle;\n",
       "    }\n",
       "\n",
       "    .dataframe tbody tr th {\n",
       "        vertical-align: top;\n",
       "    }\n",
       "\n",
       "    .dataframe thead th {\n",
       "        text-align: right;\n",
       "    }\n",
       "</style>\n",
       "<table border=\"1\" class=\"dataframe\">\n",
       "  <thead>\n",
       "    <tr style=\"text-align: right;\">\n",
       "      <th></th>\n",
       "      <th>mes</th>\n",
       "      <th>cliente</th>\n",
       "      <th>estadoCliente</th>\n",
       "      <th>rngEdad</th>\n",
       "      <th>genero</th>\n",
       "      <th>rngSueldo</th>\n",
       "      <th>procedencia</th>\n",
       "      <th>operDigital</th>\n",
       "      <th>trxDigitalUm</th>\n",
       "      <th>promTrxDig3Um</th>\n",
       "      <th>recCamp</th>\n",
       "      <th>frecCamp</th>\n",
       "      <th>tenTarjeta</th>\n",
       "      <th>promConsBanco3Um</th>\n",
       "      <th>promSaldoBanco3Um</th>\n",
       "      <th>promSaldoTc3Um</th>\n",
       "      <th>promSaldoPrest3Um</th>\n",
       "      <th>sowTcUm</th>\n",
       "      <th>sowPrestUm</th>\n",
       "      <th>ventaPrestDig</th>\n",
       "    </tr>\n",
       "  </thead>\n",
       "  <tbody>\n",
       "    <tr>\n",
       "      <th>0</th>\n",
       "      <td>201608</td>\n",
       "      <td>1</td>\n",
       "      <td>A</td>\n",
       "      <td>&lt;35-45]</td>\n",
       "      <td>M</td>\n",
       "      <td>&lt;3500-4500]</td>\n",
       "      <td>lima</td>\n",
       "      <td>NN</td>\n",
       "      <td>0</td>\n",
       "      <td>0.000000</td>\n",
       "      <td>1</td>\n",
       "      <td>3</td>\n",
       "      <td>TC-TD</td>\n",
       "      <td>5844.17</td>\n",
       "      <td>5844.17</td>\n",
       "      <td>5844.170000</td>\n",
       "      <td>0.0</td>\n",
       "      <td>1.0</td>\n",
       "      <td>0</td>\n",
       "      <td>0</td>\n",
       "    </tr>\n",
       "    <tr>\n",
       "      <th>1</th>\n",
       "      <td>201608</td>\n",
       "      <td>2</td>\n",
       "      <td>A</td>\n",
       "      <td>&lt;25-35]</td>\n",
       "      <td>M</td>\n",
       "      <td>&lt;3500-4500]</td>\n",
       "      <td>lima</td>\n",
       "      <td>BXI-BM</td>\n",
       "      <td>200</td>\n",
       "      <td>192.666667</td>\n",
       "      <td>1</td>\n",
       "      <td>3</td>\n",
       "      <td>TC-TD</td>\n",
       "      <td>0.00</td>\n",
       "      <td>0.00</td>\n",
       "      <td>2701.470000</td>\n",
       "      <td>0.0</td>\n",
       "      <td>0.0</td>\n",
       "      <td>0</td>\n",
       "      <td>0</td>\n",
       "    </tr>\n",
       "    <tr>\n",
       "      <th>2</th>\n",
       "      <td>201608</td>\n",
       "      <td>3</td>\n",
       "      <td>A</td>\n",
       "      <td>&lt;35-45]</td>\n",
       "      <td>F</td>\n",
       "      <td>&lt;4500-6000]</td>\n",
       "      <td>lima</td>\n",
       "      <td>BM</td>\n",
       "      <td>407</td>\n",
       "      <td>332.333333</td>\n",
       "      <td>1</td>\n",
       "      <td>3</td>\n",
       "      <td>TD</td>\n",
       "      <td>0.00</td>\n",
       "      <td>0.00</td>\n",
       "      <td>3148.746667</td>\n",
       "      <td>0.0</td>\n",
       "      <td>0.0</td>\n",
       "      <td>0</td>\n",
       "      <td>0</td>\n",
       "    </tr>\n",
       "  </tbody>\n",
       "</table>\n",
       "</div>"
      ],
      "text/plain": [
       "      mes  cliente estadoCliente  rngEdad genero    rngSueldo procedencia  \\\n",
       "0  201608        1             A  <35-45]      M  <3500-4500]        lima   \n",
       "1  201608        2             A  <25-35]      M  <3500-4500]        lima   \n",
       "2  201608        3             A  <35-45]      F  <4500-6000]        lima   \n",
       "\n",
       "  operDigital  trxDigitalUm  promTrxDig3Um  recCamp  frecCamp tenTarjeta  \\\n",
       "0          NN             0       0.000000        1         3      TC-TD   \n",
       "1      BXI-BM           200     192.666667        1         3      TC-TD   \n",
       "2          BM           407     332.333333        1         3         TD   \n",
       "\n",
       "   promConsBanco3Um  promSaldoBanco3Um  promSaldoTc3Um  promSaldoPrest3Um  \\\n",
       "0           5844.17            5844.17     5844.170000                0.0   \n",
       "1              0.00               0.00     2701.470000                0.0   \n",
       "2              0.00               0.00     3148.746667                0.0   \n",
       "\n",
       "   sowTcUm  sowPrestUm  ventaPrestDig  \n",
       "0      1.0           0              0  \n",
       "1      0.0           0              0  \n",
       "2      0.0           0              0  "
      ]
     },
     "execution_count": 4,
     "metadata": {},
     "output_type": "execute_result"
    }
   ],
   "source": [
    "dfPresDigital.head(3)"
   ]
  },
  {
   "cell_type": "markdown",
   "metadata": {
    "colab_type": "text",
    "id": "IrGTQI87OCUo"
   },
   "source": [
    "### estudiar las dimensiones del dataset\n",
    "\n",
    "> Bloque con sangría\n",
    "\n"
   ]
  },
  {
   "cell_type": "code",
   "execution_count": 5,
   "metadata": {
    "colab": {
     "base_uri": "https://localhost:8080/",
     "height": 54
    },
    "colab_type": "code",
    "id": "C6uMx3cZPTna",
    "outputId": "ef5ae243-d7a5-4ead-ca9c-0839da47c34d"
   },
   "outputs": [
    {
     "name": "stdout",
     "output_type": "stream",
     "text": [
      "Número de filas: 435083\n",
      "Número de columnas: 20\n"
     ]
    }
   ],
   "source": [
    "print(\"Número de filas: \" + str(dfPresDigital.shape[0]))\n",
    "print(\"Número de columnas: \" + str(dfPresDigital.shape[1]))"
   ]
  },
  {
   "cell_type": "code",
   "execution_count": 6,
   "metadata": {
    "colab": {
     "base_uri": "https://localhost:8080/",
     "height": 1072
    },
    "colab_type": "code",
    "id": "Ovd1kzJqSSLR",
    "outputId": "d122d521-7e1e-4023-dc66-9d64ea75f6eb"
   },
   "outputs": [
    {
     "name": "stdout",
     "output_type": "stream",
     "text": [
      "<class 'pandas.core.frame.DataFrame'>\n",
      "RangeIndex: 435083 entries, 0 to 435082\n",
      "Data columns (total 20 columns):\n",
      "mes                  435083 non-null int64\n",
      "cliente              435083 non-null int64\n",
      "estadoCliente        435083 non-null object\n",
      "rngEdad              435083 non-null object\n",
      "genero               435083 non-null object\n",
      "rngSueldo            435083 non-null object\n",
      "procedencia          435083 non-null object\n",
      "operDigital          435083 non-null object\n",
      "trxDigitalUm         435083 non-null int64\n",
      "promTrxDig3Um        435083 non-null float64\n",
      "recCamp              435083 non-null int64\n",
      "frecCamp             435083 non-null int64\n",
      "tenTarjeta           435083 non-null object\n",
      "promConsBanco3Um     435083 non-null float64\n",
      "promSaldoBanco3Um    435083 non-null float64\n",
      "promSaldoTc3Um       435083 non-null float64\n",
      "promSaldoPrest3Um    435083 non-null float64\n",
      "sowTcUm              435083 non-null float64\n",
      "sowPrestUm           435083 non-null int64\n",
      "ventaPrestDig        435083 non-null int64\n",
      "dtypes: float64(6), int64(7), object(7)\n",
      "memory usage: 66.4+ MB\n"
     ]
    }
   ],
   "source": [
    "dfPresDigital.info()"
   ]
  },
  {
   "cell_type": "markdown",
   "metadata": {
    "colab_type": "text",
    "id": "H-6SVaS2OEvp"
   },
   "source": [
    "## 3. Data Wrangling"
   ]
  },
  {
   "cell_type": "markdown",
   "metadata": {
    "colab_type": "text",
    "id": "iBs9Fn3lOIKo"
   },
   "source": [
    "### cambiar los nombres de las columnas para que cumplan buenas prácticas"
   ]
  },
  {
   "cell_type": "markdown",
   "metadata": {
    "colab_type": "text",
    "id": "F6NtWk0MRYPR"
   },
   "source": [
    "Consideramos buenas prácticas nombrar a las columnas con \"ALL_\" en minusculas"
   ]
  },
  {
   "cell_type": "code",
   "execution_count": 7,
   "metadata": {
    "colab": {},
    "colab_type": "code",
    "id": "7gbMLCLjPLwT"
   },
   "outputs": [],
   "source": [
    "columnsNamePresDigital =[\"mes\",\"cliente\",\"estadoCliente\",\"rngEdad\",\"genero\",\"rngSueldo\",\"procedencia\",\"operDigital\",\"trxDigitalUm\",\n",
    "                         \"promTrxDig3Um\",\"recCamp\",\"frecCamp\",\"tenTarjeta\",\"promConsBanco3Um\",\"promSaldoBanco3Um\",\"promSaldoTc3Um\",\n",
    "                         \"promSaldoPrest3Um\",\"sowTcUm\",\"sowPrestUm\",\"ventaPrestDig\"]\n",
    "\n",
    "dfPresDigital.columns = columnsNamePresDigital"
   ]
  },
  {
   "cell_type": "markdown",
   "metadata": {
    "colab_type": "text",
    "id": "oP5gd4ANOLKB"
   },
   "source": [
    "### estudiar el formato de las variables, ver cuáles se deberían modificar y modificarlas cuando se considere oportuno"
   ]
  },
  {
   "cell_type": "markdown",
   "metadata": {
    "colab_type": "text",
    "id": "R0Cl-fezWYEe"
   },
   "source": [
    "Transformar los id a texto"
   ]
  },
  {
   "cell_type": "code",
   "execution_count": 8,
   "metadata": {
    "colab": {},
    "colab_type": "code",
    "id": "fgL_HTloWVVP"
   },
   "outputs": [],
   "source": [
    "columnsId = [\"cliente\"]\n",
    "\n",
    "for columnName in columnsId:\n",
    "  dfPresDigital[columnName] = dfPresDigital[columnName].apply(str)"
   ]
  },
  {
   "cell_type": "markdown",
   "metadata": {
    "colab_type": "text",
    "id": "3ZY-6HogSv_c"
   },
   "source": [
    "Para las variables categorícas se cambia el caracter \"?\" por \"NaN\""
   ]
  },
  {
   "cell_type": "code",
   "execution_count": 9,
   "metadata": {
    "colab": {
     "base_uri": "https://localhost:8080/",
     "height": 254
    },
    "colab_type": "code",
    "id": "Spqym0zGT4KU",
    "outputId": "af979574-bf51-4142-ff6b-d8584ba8328f"
   },
   "outputs": [
    {
     "data": {
      "text/plain": [
       "Index(['cliente', 'estadoCliente', 'rngEdad', 'genero', 'rngSueldo',\n",
       "       'procedencia', 'operDigital', 'tenTarjeta'],\n",
       "      dtype='object')"
      ]
     },
     "execution_count": 9,
     "metadata": {},
     "output_type": "execute_result"
    }
   ],
   "source": [
    "#Variables categoricas\n",
    "dfPresDigital.select_dtypes(\"object\").columns"
   ]
  },
  {
   "cell_type": "code",
   "execution_count": 10,
   "metadata": {
    "colab": {},
    "colab_type": "code",
    "id": "dBzIWU2-PNdh"
   },
   "outputs": [],
   "source": [
    "#Reemplazamos los valores que deben ser nulos\n",
    "for columnName in dfPresDigital.select_dtypes(\"object\").columns:\n",
    "    dfPresDigital[columnName] = dfPresDigital[columnName].replace([\"?\"], [np.nan])\n",
    "    dfPresDigital[columnName] = dfPresDigital[columnName].replace([\"None\"], [np.nan])"
   ]
  },
  {
   "cell_type": "markdown",
   "metadata": {
    "colab_type": "text",
    "id": "rXbSF6YROONo"
   },
   "source": [
    "### estudiar si hay registros repetidos"
   ]
  },
  {
   "cell_type": "code",
   "execution_count": 11,
   "metadata": {
    "colab": {
     "base_uri": "https://localhost:8080/",
     "height": 35
    },
    "colab_type": "code",
    "id": "ho_eg_BXPN98",
    "outputId": "973aa6c8-6280-4c33-acd4-3221f634688b"
   },
   "outputs": [
    {
     "data": {
      "text/plain": [
       "False"
      ]
     },
     "execution_count": 11,
     "metadata": {},
     "output_type": "execute_result"
    }
   ],
   "source": [
    "#La primary key es cliente, entonces\n",
    "dfPresDigital[[\"cliente\"]].duplicated().any()"
   ]
  },
  {
   "cell_type": "markdown",
   "metadata": {
    "colab_type": "text",
    "id": "6rL0ZSiKXTj2"
   },
   "source": [
    "No existen valores duplicados por la llave"
   ]
  },
  {
   "cell_type": "markdown",
   "metadata": {
    "colab_type": "text",
    "id": "BUuK1OGIORO5"
   },
   "source": [
    "### estudiar si hay variables que siempre o prácticamente siempre toman el mismo valor: tomar siempre el mismo valor no aporta información al modelo"
   ]
  },
  {
   "cell_type": "markdown",
   "metadata": {
    "colab_type": "text",
    "id": "JUYgGcwjWEH1"
   },
   "source": [
    "Definimos las variables numéricas y categóricas (despues se irán eliminando algunas en el camino)"
   ]
  },
  {
   "cell_type": "code",
   "execution_count": 12,
   "metadata": {
    "colab": {},
    "colab_type": "code",
    "id": "KuW9Pj3iWImP"
   },
   "outputs": [],
   "source": [
    "columnsNumeric = [\"mes\",\"trxDigitalUm\",\"promTrxDig3Um\",\"recCamp\",\"frecCamp\",\"promConsBanco3Um\",\"promSaldoBanco3Um\",\n",
    "                  \"promSaldoTc3Um\",\"promSaldoPrest3Um\",\"sowTcUm\",\"sowPrestUm\"]\n",
    "\n",
    "columnsString = [\"estadoCliente\", \"rngEdad\", \"genero\", \"rngSueldo\",\"procedencia\", \"operDigital\", \"tenTarjeta\"]\n",
    "\n",
    "columnTarget = \"target\""
   ]
  },
  {
   "cell_type": "markdown",
   "metadata": {
    "colab_type": "text",
    "id": "MpVMKZL6V5qm"
   },
   "source": [
    "Estudiamos las variables numéricas con la varianza, a varianza más cerca de 0, dicha varianza no aporta al modelo."
   ]
  },
  {
   "cell_type": "code",
   "execution_count": 13,
   "metadata": {
    "colab": {
     "base_uri": "https://localhost:8080/",
     "height": 181
    },
    "colab_type": "code",
    "id": "Pgq7GWP9g_Kg",
    "outputId": "d7e45b61-c0a5-4966-ff64-b28f0e6b684a"
   },
   "outputs": [
    {
     "data": {
      "text/plain": [
       "promSaldoPrest3Um    6.026474e+07\n",
       "promSaldoTc3Um       2.646466e+07\n",
       "promConsBanco3Um     2.134199e+07\n",
       "promSaldoBanco3Um    6.415323e+06\n",
       "trxDigitalUm         1.651261e+04\n",
       "promTrxDig3Um        1.309557e+04\n",
       "recCamp              1.302544e+03\n",
       "frecCamp             1.321600e+00\n",
       "sowTcUm              8.441807e-02\n",
       "sowPrestUm           2.298412e-06\n",
       "mes                  0.000000e+00\n",
       "dtype: float64"
      ]
     },
     "execution_count": 13,
     "metadata": {},
     "output_type": "execute_result"
    }
   ],
   "source": [
    "dfPresDigital[columnsNumeric].var().sort_values(ascending = False)"
   ]
  },
  {
   "cell_type": "markdown",
   "metadata": {
    "colab_type": "text",
    "id": "xZNdMMLzXc8F"
   },
   "source": [
    "La variable que tiene varianza más pequeña es \"mes\" ya que es una fecha unica, no influye en el analisis por lo que hay que eliminarla.\n",
    "\n",
    "Otra variables es que tenemos que eliminar es \"sowPrestUm\"\n",
    "\n",
    "Analizamos las demas variables cuyas varianzas sean las menores\n",
    "\n",
    "Realizamos un analisis de frecuencia para ver donde se acumula"
   ]
  },
  {
   "cell_type": "code",
   "execution_count": 14,
   "metadata": {
    "colab": {
     "base_uri": "https://localhost:8080/",
     "height": 545
    },
    "colab_type": "code",
    "id": "HcOpdEYJX1EF",
    "outputId": "64c9ff14-04b8-4b35-c23e-6432ea731bd4"
   },
   "outputs": [
    {
     "data": {
      "text/plain": [
       "array([[<matplotlib.axes._subplots.AxesSubplot object at 0x0000029F37D0AA20>,\n",
       "        <matplotlib.axes._subplots.AxesSubplot object at 0x0000029F351E2208>,\n",
       "        <matplotlib.axes._subplots.AxesSubplot object at 0x0000029F35208C88>],\n",
       "       [<matplotlib.axes._subplots.AxesSubplot object at 0x0000029F35236748>,\n",
       "        <matplotlib.axes._subplots.AxesSubplot object at 0x0000029F35264208>,\n",
       "        <matplotlib.axes._subplots.AxesSubplot object at 0x0000029F35264240>],\n",
       "       [<matplotlib.axes._subplots.AxesSubplot object at 0x0000029F352B7748>,\n",
       "        <matplotlib.axes._subplots.AxesSubplot object at 0x0000029F352E5208>,\n",
       "        <matplotlib.axes._subplots.AxesSubplot object at 0x0000029F3530CC88>],\n",
       "       [<matplotlib.axes._subplots.AxesSubplot object at 0x0000029F35548748>,\n",
       "        <matplotlib.axes._subplots.AxesSubplot object at 0x0000029F35579208>,\n",
       "        <matplotlib.axes._subplots.AxesSubplot object at 0x0000029F3559FC88>]],\n",
       "      dtype=object)"
      ]
     },
     "execution_count": 14,
     "metadata": {},
     "output_type": "execute_result"
    },
    {
     "data": {
      "image/png": "[encoded data removed]",
      "text/plain": [
       "<Figure size 432x288 with 12 Axes>"
      ]
     },
     "metadata": {},
     "output_type": "display_data"
    }
   ],
   "source": [
    "dfPresDigital[columnsNumeric].hist(bins = 40)"
   ]
  },
  {
   "cell_type": "markdown",
   "metadata": {
    "colab_type": "text",
    "id": "aXiTSY8bYQUs"
   },
   "source": [
    "A las siguientes variables hacemos un analisis de frecuencia:\n",
    "\n",
    "\"promSaldoPrest3Um\",\n",
    "\"promSaldoTc3Um\", \n",
    "\"promConsBanco3Um\",\n",
    "\"promSaldoBanco3Um\",\n",
    "\"trxDigitalUm\",\n",
    "\"promTrxDig3Um\",\n",
    "\"recCamp\",\n",
    "\"sowTcUm\",\n",
    "\"sowPrestUm\"\n",
    "\n"
   ]
  },
  {
   "cell_type": "code",
   "execution_count": 15,
   "metadata": {
    "colab": {
     "base_uri": "https://localhost:8080/",
     "height": 1926
    },
    "colab_type": "code",
    "id": "-EytF89AYO_H",
    "outputId": "d570c08c-a6a9-4a22-bc4d-cb3815f48d9d"
   },
   "outputs": [
    {
     "name": "stdout",
     "output_type": "stream",
     "text": [
      "promSaldoPrest3Um\n",
      "0.000000         81.129118\n",
      "0.006670          0.000460\n",
      "0.013300          0.000460\n",
      "0.016700          0.000460\n",
      "0.040000          0.000460\n",
      "0.133333          0.000230\n",
      "0.150000          0.000230\n",
      "0.233333          0.000230\n",
      "0.556667          0.000230\n",
      "0.726667          0.000230\n",
      "1.333333          0.000460\n",
      "1.403333          0.000230\n",
      "1.630000          0.000460\n",
      "1.916667          0.000460\n",
      "2.080000          0.000230\n",
      "2.283333          0.000230\n",
      "2.310000          0.000230\n",
      "2.540000          0.000460\n",
      "3.580000          0.000230\n",
      "3.640000          0.000230\n",
      "3.663333          0.000230\n",
      "3.786667          0.000230\n",
      "3.836667          0.000230\n",
      "4.263333          0.000230\n",
      "4.380000          0.000230\n",
      "4.500000          0.000230\n",
      "5.266667          0.000230\n",
      "5.323333          0.000230\n",
      "5.616667          0.000230\n",
      "6.666667          0.001609\n",
      "                   ...    \n",
      "243310.116700     0.000230\n",
      "261841.533300     0.000230\n",
      "262932.266700     0.000230\n",
      "263435.000000     0.000230\n",
      "263540.020000     0.000230\n",
      "264066.256700     0.000230\n",
      "278216.010000     0.000230\n",
      "278408.620000     0.000230\n",
      "281628.790000     0.000230\n",
      "283194.030000     0.000230\n",
      "283391.523300     0.000230\n",
      "285718.663300     0.000230\n",
      "286393.326700     0.000230\n",
      "286500.996700     0.000230\n",
      "288495.300000     0.000230\n",
      "313880.000000     0.000230\n",
      "326715.810000     0.000460\n",
      "332651.390000     0.000230\n",
      "333687.930000     0.000230\n",
      "349125.106700     0.000230\n",
      "354384.556700     0.000230\n",
      "379152.713300     0.000230\n",
      "380856.003300     0.000230\n",
      "399355.743300     0.000230\n",
      "400153.180000     0.000230\n",
      "454817.760000     0.000460\n",
      "461869.870000     0.000690\n",
      "506330.376700     0.000230\n",
      "556316.670000     0.000230\n",
      "628000.000000     0.000690\n",
      "Name: promSaldoPrest3Um, Length: 76148, dtype: float64\n",
      "\n",
      "\n",
      "promSaldoTc3Um\n",
      "0.000000         38.240520\n",
      "0.003330          0.008504\n",
      "0.006670          0.006895\n",
      "0.010000          0.052634\n",
      "0.013300          0.005746\n",
      "0.016700          0.016089\n",
      "0.020000          0.039763\n",
      "0.023300          0.002298\n",
      "0.026700          0.005057\n",
      "0.030000          0.029420\n",
      "0.033300          0.012182\n",
      "0.036700          0.000460\n",
      "0.040000          0.026662\n",
      "0.043300          0.000690\n",
      "0.046700          0.001149\n",
      "0.050000          0.043900\n",
      "0.053300          0.001839\n",
      "0.056700          0.001149\n",
      "0.060000          0.022295\n",
      "0.063300          0.000230\n",
      "0.066700          0.002758\n",
      "0.070000          0.023444\n",
      "0.073300          0.000919\n",
      "0.076700          0.000460\n",
      "0.080000          0.017928\n",
      "0.083300          0.000919\n",
      "0.086667          0.000460\n",
      "0.090000          0.012641\n",
      "0.093300          0.000919\n",
      "0.096700          0.000460\n",
      "                   ...    \n",
      "113751.980000     0.000230\n",
      "113770.286700     0.000230\n",
      "113881.576700     0.000230\n",
      "114881.923300     0.000230\n",
      "115688.406700     0.000230\n",
      "115802.826700     0.000230\n",
      "117929.310000     0.000230\n",
      "119101.320000     0.000230\n",
      "124367.310000     0.000230\n",
      "124975.380000     0.000230\n",
      "125725.996700     0.000230\n",
      "125814.870000     0.000230\n",
      "127027.673300     0.000230\n",
      "127658.180000     0.000230\n",
      "128354.540000     0.000230\n",
      "128666.496700     0.000230\n",
      "129828.213300     0.000230\n",
      "131432.606700     0.000230\n",
      "137014.076700     0.000230\n",
      "138359.976700     0.000230\n",
      "142799.186700     0.000230\n",
      "143622.736700     0.000230\n",
      "143871.063300     0.000230\n",
      "143984.606700     0.000230\n",
      "147885.346700     0.000230\n",
      "148747.796700     0.000230\n",
      "150010.386700     0.000230\n",
      "150046.563300     0.000230\n",
      "158631.556700     0.000230\n",
      "173735.230000     0.000230\n",
      "Name: promSaldoTc3Um, Length: 231496, dtype: float64\n",
      "\n",
      "\n",
      "promConsBanco3Um\n",
      "0.000000         82.421285\n",
      "0.003330          0.000919\n",
      "0.006670          0.000690\n",
      "0.010000          0.001609\n",
      "0.016700          0.000690\n",
      "0.020000          0.000460\n",
      "0.023300          0.001379\n",
      "0.030000          0.000230\n",
      "0.033300          0.000919\n",
      "0.036700          0.000230\n",
      "0.040000          0.000460\n",
      "0.043300          0.000690\n",
      "0.046700          0.000230\n",
      "0.053300          0.000690\n",
      "0.056700          0.000230\n",
      "0.060000          0.000460\n",
      "0.066700          0.000690\n",
      "0.080000          0.000230\n",
      "0.090000          0.000460\n",
      "0.093300          0.000919\n",
      "0.110000          0.000460\n",
      "0.116667          0.000230\n",
      "0.123333          0.000230\n",
      "0.126667          0.000230\n",
      "0.130000          0.000230\n",
      "0.133333          0.000919\n",
      "0.136667          0.000460\n",
      "0.140000          0.000230\n",
      "0.146667          0.000460\n",
      "0.156667          0.000690\n",
      "                   ...    \n",
      "120870.036700     0.000230\n",
      "121128.970000     0.000230\n",
      "123577.450000     0.000230\n",
      "123726.960000     0.000230\n",
      "123773.670000     0.000230\n",
      "124857.983300     0.000230\n",
      "124920.466700     0.000230\n",
      "125272.720000     0.000230\n",
      "128580.643300     0.000230\n",
      "130382.416700     0.000230\n",
      "133361.086700     0.000230\n",
      "133697.363300     0.000230\n",
      "133880.020000     0.000230\n",
      "138612.463300     0.000230\n",
      "138654.690000     0.000230\n",
      "149434.113300     0.000230\n",
      "149511.763300     0.000230\n",
      "150155.776700     0.000230\n",
      "151680.086700     0.000230\n",
      "153971.113300     0.000230\n",
      "156187.786700     0.000230\n",
      "157095.043300     0.000230\n",
      "159174.770000     0.000230\n",
      "159719.256700     0.000230\n",
      "161220.673300     0.000230\n",
      "163588.460000     0.000230\n",
      "167695.180000     0.000230\n",
      "203621.656700     0.000230\n",
      "243310.116700     0.000230\n",
      "280967.576700     0.000230\n",
      "Name: promConsBanco3Um, Length: 70667, dtype: float64\n",
      "\n",
      "\n",
      "promSaldoBanco3Um\n",
      "0.000000         83.715981\n",
      "0.003330          0.000690\n",
      "0.006670          0.000690\n",
      "0.010000          0.001379\n",
      "0.016700          0.000690\n",
      "0.020000          0.000460\n",
      "0.023300          0.001149\n",
      "0.030000          0.000230\n",
      "0.033300          0.000919\n",
      "0.036700          0.000230\n",
      "0.040000          0.000460\n",
      "0.043300          0.000690\n",
      "0.046700          0.000230\n",
      "0.053300          0.000690\n",
      "0.056700          0.000230\n",
      "0.060000          0.000230\n",
      "0.066700          0.000230\n",
      "0.080000          0.000230\n",
      "0.090000          0.000230\n",
      "0.093300          0.000919\n",
      "0.110000          0.000460\n",
      "0.116667          0.000230\n",
      "0.123333          0.000230\n",
      "0.126667          0.000230\n",
      "0.130000          0.000230\n",
      "0.133333          0.000919\n",
      "0.136667          0.000460\n",
      "0.140000          0.000230\n",
      "0.146667          0.000460\n",
      "0.156667          0.000690\n",
      "                   ...    \n",
      "74611.023330      0.000230\n",
      "74702.066670      0.000230\n",
      "74835.630000      0.000230\n",
      "74865.960000      0.000230\n",
      "75078.030000      0.000230\n",
      "75613.710000      0.000230\n",
      "76105.060000      0.000230\n",
      "76671.700000      0.000230\n",
      "76686.310000      0.000230\n",
      "76845.983330      0.000230\n",
      "77099.726670      0.000230\n",
      "80858.756670      0.000230\n",
      "81363.883330      0.000230\n",
      "81472.130000      0.000230\n",
      "82410.206670      0.000230\n",
      "82507.833330      0.000230\n",
      "83526.943330      0.000230\n",
      "84435.770000      0.000230\n",
      "87383.383330      0.000230\n",
      "89924.253330      0.000230\n",
      "91413.490000      0.000230\n",
      "92165.276670      0.000230\n",
      "95144.923330      0.000230\n",
      "96334.530000      0.000230\n",
      "97374.720000      0.000230\n",
      "100052.506700     0.000230\n",
      "101091.710000     0.000230\n",
      "119120.533300     0.000230\n",
      "121283.250000     0.000230\n",
      "153971.113300     0.000230\n",
      "Name: promSaldoBanco3Um, Length: 65442, dtype: float64\n",
      "\n",
      "\n",
      "trxDigitalUm\n",
      "0       73.675368\n",
      "1        0.019996\n",
      "2        0.092856\n",
      "3        0.008504\n",
      "4        0.024133\n",
      "5        0.040222\n",
      "6        0.148248\n",
      "7        0.308907\n",
      "8        0.385444\n",
      "9        0.365218\n",
      "10       0.275580\n",
      "11       0.187780\n",
      "12       0.183413\n",
      "13       0.169163\n",
      "14       0.208696\n",
      "15       0.204559\n",
      "16       0.234208\n",
      "17       0.202720\n",
      "18       0.226853\n",
      "19       0.186861\n",
      "20       0.205248\n",
      "21       0.173530\n",
      "22       0.176748\n",
      "23       0.164107\n",
      "24       0.175369\n",
      "25       0.164796\n",
      "26       0.167095\n",
      "27       0.160429\n",
      "28       0.175829\n",
      "29       0.160889\n",
      "          ...    \n",
      "2557     0.000230\n",
      "2631     0.000230\n",
      "2634     0.000230\n",
      "2647     0.000230\n",
      "2651     0.000230\n",
      "2656     0.000230\n",
      "2680     0.000230\n",
      "2700     0.000230\n",
      "2706     0.000230\n",
      "2722     0.000230\n",
      "2773     0.000230\n",
      "3008     0.000230\n",
      "3027     0.000230\n",
      "3077     0.000230\n",
      "3387     0.000230\n",
      "3419     0.000230\n",
      "3473     0.000230\n",
      "3621     0.000230\n",
      "3622     0.000230\n",
      "3815     0.000230\n",
      "3835     0.000230\n",
      "3862     0.000230\n",
      "4106     0.000230\n",
      "4613     0.000230\n",
      "4822     0.000230\n",
      "5075     0.000230\n",
      "5384     0.000230\n",
      "6101     0.000230\n",
      "6155     0.000230\n",
      "8267     0.000230\n",
      "Name: trxDigitalUm, Length: 1618, dtype: float64\n",
      "\n",
      "\n",
      "promTrxDig3Um\n",
      "0.000000       70.405647\n",
      "0.333333        0.025742\n",
      "0.666667        0.150086\n",
      "1.000000        0.010343\n",
      "1.333333        0.027351\n",
      "1.666667        0.046658\n",
      "2.000000        0.153764\n",
      "2.333333        0.269144\n",
      "2.666667        0.299713\n",
      "3.000000        0.261100\n",
      "3.333333        0.200422\n",
      "3.666667        0.135836\n",
      "4.000000        0.146409\n",
      "4.333333        0.128711\n",
      "4.666667        0.146869\n",
      "5.000000        0.140433\n",
      "5.333333        0.149627\n",
      "5.666667        0.137675\n",
      "6.000000        0.142731\n",
      "6.333333        0.126643\n",
      "6.666667        0.129171\n",
      "7.000000        0.121586\n",
      "7.333333        0.118828\n",
      "7.666667        0.106646\n",
      "8.000000        0.119058\n",
      "8.333333        0.110783\n",
      "8.666667        0.100441\n",
      "9.000000        0.096763\n",
      "9.333333        0.096993\n",
      "9.666667        0.095614\n",
      "                 ...    \n",
      "2272.000000     0.000230\n",
      "2350.333333     0.000230\n",
      "2368.666667     0.000230\n",
      "2473.333333     0.000230\n",
      "2475.000000     0.000230\n",
      "2500.666667     0.000230\n",
      "2532.333333     0.000230\n",
      "2537.666667     0.000230\n",
      "2556.333333     0.000230\n",
      "2600.333333     0.000230\n",
      "2610.000000     0.000230\n",
      "2643.333333     0.000230\n",
      "2679.666667     0.000230\n",
      "2687.333333     0.000230\n",
      "2695.333333     0.000230\n",
      "2776.333333     0.000230\n",
      "2928.333333     0.000230\n",
      "2931.333333     0.000230\n",
      "2942.000000     0.000230\n",
      "2982.000000     0.000230\n",
      "3074.666667     0.000230\n",
      "3325.666667     0.000230\n",
      "3517.333333     0.000230\n",
      "3853.666667     0.000230\n",
      "4001.666667     0.000230\n",
      "4563.333333     0.000230\n",
      "5405.666667     0.000230\n",
      "5526.666667     0.000230\n",
      "5574.000000     0.000230\n",
      "6291.333333     0.000230\n",
      "Name: promTrxDig3Um, Length: 3396, dtype: float64\n",
      "\n",
      "\n"
     ]
    },
    {
     "name": "stdout",
     "output_type": "stream",
     "text": [
      "recCamp\n",
      "1     79.753518\n",
      "2      2.719481\n",
      "3      1.321357\n",
      "99    16.205644\n",
      "Name: recCamp, dtype: float64\n",
      "\n",
      "\n",
      "sowTcUm\n",
      "0.000000    86.124487\n",
      "0.000002     0.000230\n",
      "0.000003     0.000230\n",
      "0.000007     0.000230\n",
      "0.000011     0.000230\n",
      "0.000012     0.000230\n",
      "0.000019     0.000230\n",
      "0.000023     0.000230\n",
      "0.000028     0.000230\n",
      "0.000033     0.000230\n",
      "0.000042     0.000230\n",
      "0.000055     0.000230\n",
      "0.000056     0.000230\n",
      "0.000079     0.000230\n",
      "0.000092     0.000230\n",
      "0.000098     0.000230\n",
      "0.000105     0.000230\n",
      "0.000109     0.000230\n",
      "0.000112     0.000230\n",
      "0.000114     0.000230\n",
      "0.000115     0.000230\n",
      "0.000116     0.000230\n",
      "0.000117     0.000230\n",
      "0.000121     0.000230\n",
      "0.000122     0.000230\n",
      "0.000135     0.000230\n",
      "0.000150     0.000230\n",
      "0.000151     0.000230\n",
      "0.000152     0.000230\n",
      "0.000160     0.000230\n",
      "              ...    \n",
      "0.999997     0.000230\n",
      "0.999997     0.000230\n",
      "0.999997     0.000230\n",
      "0.999997     0.000230\n",
      "0.999997     0.000230\n",
      "0.999998     0.000230\n",
      "0.999998     0.000230\n",
      "0.999998     0.000230\n",
      "0.999998     0.000230\n",
      "0.999998     0.000230\n",
      "0.999998     0.000230\n",
      "0.999998     0.000230\n",
      "0.999998     0.000230\n",
      "0.999998     0.000230\n",
      "0.999998     0.000230\n",
      "0.999998     0.000230\n",
      "0.999998     0.000230\n",
      "0.999998     0.000230\n",
      "0.999998     0.000230\n",
      "0.999998     0.000230\n",
      "0.999998     0.000230\n",
      "0.999998     0.000230\n",
      "0.999999     0.000230\n",
      "0.999999     0.000230\n",
      "0.999999     0.000230\n",
      "0.999999     0.000230\n",
      "0.999999     0.000230\n",
      "0.999999     0.000230\n",
      "1.000000     0.000230\n",
      "1.000000     6.796634\n",
      "Name: sowTcUm, Length: 28414, dtype: float64\n",
      "\n",
      "\n",
      "sowPrestUm\n",
      "0    99.99977\n",
      "1     0.00023\n",
      "Name: sowPrestUm, dtype: float64\n",
      "\n",
      "\n"
     ]
    }
   ],
   "source": [
    "for columnName in [\"promSaldoPrest3Um\",\"promSaldoTc3Um\",\"promConsBanco3Um\",\"promSaldoBanco3Um\",\n",
    "                   \"trxDigitalUm\",\"promTrxDig3Um\",\"recCamp\",\"sowTcUm\",\"sowPrestUm\"]:\n",
    "  print(dfPresDigital.fillna(\"--NULL\").groupby(columnName)[columnName].count() / dfPresDigital.shape[0] * 100)\n",
    "  print(\"\\n\")"
   ]
  },
  {
   "cell_type": "markdown",
   "metadata": {
    "colab_type": "text",
    "id": "azAvjQEARkfw"
   },
   "source": [
    "Solo la variable \"sowPrestUm\" se acumulan en 0 en mas del 90% pero las demas variables no, lo tendremos en cuenta en la exploración de datos para descartarlas de ser necesario con más evidencia (mean encoding)."
   ]
  },
  {
   "cell_type": "markdown",
   "metadata": {
    "colab_type": "text",
    "id": "SwwwJ2DcXmcD"
   },
   "source": [
    "#### Para las variables categoricas vemos sus distribuciones"
   ]
  },
  {
   "cell_type": "code",
   "execution_count": 16,
   "metadata": {
    "colab": {
     "base_uri": "https://localhost:8080/",
     "height": 10581
    },
    "colab_type": "code",
    "id": "bBUX3iqymCU6",
    "outputId": "40f043ee-8614-4949-8074-6fba711af344"
   },
   "outputs": [
    {
     "name": "stdout",
     "output_type": "stream",
     "text": [
      "estadoCliente\n",
      "A    90.072239\n",
      "I     9.879494\n",
      "M     0.048267\n",
      "Name: estadoCliente, dtype: float64\n",
      "\n",
      "\n",
      "rngEdad\n",
      "<25-35]    30.703567\n",
      "<35-45]    30.573936\n",
      "<45-55]    21.062648\n",
      ">55        13.488691\n",
      "<=25        4.171158\n",
      "Name: rngEdad, dtype: float64\n",
      "\n",
      "\n",
      "genero\n",
      "M    56.220307\n",
      "F    43.779693\n",
      "Name: genero, dtype: float64\n",
      "\n",
      "\n",
      "rngSueldo\n",
      "<1000-2500]    42.929050\n",
      "<3500-4500]    20.843379\n",
      "<=1000         15.002195\n",
      ">6000          12.748602\n",
      "<4500-6000]     8.476773\n",
      "Name: rngSueldo, dtype: float64\n",
      "\n",
      "\n",
      "procedencia\n",
      "provincia    57.016707\n",
      "lima         42.983293\n",
      "Name: procedencia, dtype: float64\n",
      "\n",
      "\n",
      "operDigital\n",
      "NN        73.675368\n",
      "BXI       13.499263\n",
      "BXI-BM     6.618967\n",
      "BM         6.206402\n",
      "Name: operDigital, dtype: float64\n",
      "\n",
      "\n",
      "tenTarjeta\n",
      "TD       51.660488\n",
      "TC-TD    23.775004\n",
      "NN       19.590285\n",
      "TC        4.974223\n",
      "Name: tenTarjeta, dtype: float64\n",
      "\n",
      "\n"
     ]
    }
   ],
   "source": [
    "for columnName in columnsString:\n",
    "  print(dfPresDigital.fillna(\"--NULL\").groupby(columnName)[columnName].count().sort_values(ascending = False) / dfPresDigital.shape[0] * 100)\n",
    "  print(\"\\n\")"
   ]
  },
  {
   "cell_type": "markdown",
   "metadata": {
    "colab_type": "text",
    "id": "jr21AR4Rpo2i"
   },
   "source": [
    "Consideramos que si se acumula mayor o igual del 90% en su distribución la variable no aporta  \n",
    "Agregamos a la lista \"columnsStringDrop\" aquellas donde se acumule más del 90%"
   ]
  },
  {
   "cell_type": "code",
   "execution_count": 17,
   "metadata": {
    "colab": {
     "base_uri": "https://localhost:8080/",
     "height": 74
    },
    "colab_type": "code",
    "id": "1QMI26kHTNbd",
    "outputId": "17a907b7-fa6f-40b5-c4ab-22b5f7659229"
   },
   "outputs": [
    {
     "name": "stdout",
     "output_type": "stream",
     "text": [
      "variables donde se acumula en un solo rango más del 90% de población (incluyendo nulos): ['estadoCliente']\n",
      "Variables categoricas: ['procedencia', 'rngEdad', 'rngSueldo', 'genero', 'operDigital', 'tenTarjeta']\n"
     ]
    }
   ],
   "source": [
    "limite = 0.9\n",
    "columnsStringDrop = []\n",
    "for columnName in columnsString:\n",
    "  tmp = dfPresDigital.fillna(\"NULL\").groupby(columnName)[columnName].count() / dfPresDigital.shape[0]\n",
    "  for value in tmp:\n",
    "    if value >= limite:\n",
    "      columnsStringDrop.append(columnName)\n",
    "      break\n",
    "\n",
    "columnsString = list(set(columnsString) - set(columnsStringDrop))\n",
    "print(\"variables donde se acumula en un solo rango más del 90% de población (incluyendo nulos): \" + str(columnsStringDrop))\n",
    "print(\"Variables categoricas: \" + str(columnsString))"
   ]
  },
  {
   "cell_type": "code",
   "execution_count": 18,
   "metadata": {
    "colab": {},
    "colab_type": "code",
    "id": "VHpT9PjEtCuK"
   },
   "outputs": [],
   "source": [
    "dfPresDigital[\"genero\"] = dfPresDigital[\"genero\"].replace(\"Unknown/Invalid\", np.nan)"
   ]
  },
  {
   "cell_type": "code",
   "execution_count": 19,
   "metadata": {},
   "outputs": [],
   "source": [
    "for columnName in columnsString:\n",
    "  dfPresDigital[columnsString] = dfPresDigital[columnsString].fillna(\"NONE\")"
   ]
  },
  {
   "cell_type": "markdown",
   "metadata": {
    "colab_type": "text",
    "id": "36bX3Culs93S"
   },
   "source": [
    "Para la variable genero reemplazamos el valor undefined por NULL"
   ]
  },
  {
   "cell_type": "markdown",
   "metadata": {
    "colab_type": "text",
    "id": "skTpL9FKxk8F"
   },
   "source": [
    "Graficamos con un diagrama de barras cada variable categoirica sin considerar las que tienen acumulación >= 90% en un rango"
   ]
  },
  {
   "cell_type": "code",
   "execution_count": 20,
   "metadata": {},
   "outputs": [
    {
     "data": {
      "image/png": "[encoded data removed]",
      "text/plain": [
       "<Figure size 432x288 with 1 Axes>"
      ]
     },
     "metadata": {},
     "output_type": "display_data"
    },
    {
     "data": {
      "image/png": "[encoded data removed]",
      "text/plain": [
       "<Figure size 432x288 with 1 Axes>"
      ]
     },
     "metadata": {},
     "output_type": "display_data"
    },
    {
     "data": {
      "image/png": "[encoded data removed]",
      "text/plain": [
       "<Figure size 432x288 with 1 Axes>"
      ]
     },
     "metadata": {},
     "output_type": "display_data"
    },
    {
     "data": {
      "image/png": "[encoded data removed]",
      "text/plain": [
       "<Figure size 432x288 with 1 Axes>"
      ]
     },
     "metadata": {},
     "output_type": "display_data"
    },
    {
     "data": {
      "image/png": "[encoded data removed]",
      "text/plain": [
       "<Figure size 432x288 with 1 Axes>"
      ]
     },
     "metadata": {},
     "output_type": "display_data"
    },
    {
     "data": {
      "image/png": "[encoded data removed]",
      "text/plain": [
       "<Figure size 432x288 with 1 Axes>"
      ]
     },
     "metadata": {},
     "output_type": "display_data"
    }
   ],
   "source": [
    "for columnName in columnsString:\n",
    "  plt.title(columnName)\n",
    "  dfPresDigital.groupby(columnName)[columnName].count().plot(kind = \"bar\")\n",
    "  plt.show()"
   ]
  },
  {
   "cell_type": "markdown",
   "metadata": {
    "colab_type": "text",
    "id": "tQ0HUvSWSzcL"
   },
   "source": [
    "No se observa que existan variables cuyos valores en su mayoria sean numericas, pero igual daremos un vistazo al porcentaje de numericas, no numericas y nulos de algunos \"operDigital\" y \"procedencia\" a manera de ejemplo."
   ]
  },
  {
   "cell_type": "code",
   "execution_count": 21,
   "metadata": {
    "colab": {},
    "colab_type": "code",
    "id": "gRU3xQSLS9kJ"
   },
   "outputs": [],
   "source": [
    "def changeType(x):\n",
    "  try:\n",
    "    a = float(x)\n",
    "    if(np.isnan(a)):\n",
    "      return -1\n",
    "    else:\n",
    "      return 1\n",
    "  except:\n",
    "    return 0\n",
    "  \n",
    "def diagToNumber(x):\n",
    "  try:\n",
    "    a = float(x)\n",
    "    if(np.isnan(a)):\n",
    "      return float(\"nan\")\n",
    "    else:\n",
    "      return a\n",
    "  except:\n",
    "    return float(\"nan\")"
   ]
  },
  {
   "cell_type": "code",
   "execution_count": 22,
   "metadata": {
    "colab": {
     "base_uri": "https://localhost:8080/",
     "height": 345
    },
    "colab_type": "code",
    "id": "3cnAX46LVj54",
    "outputId": "a25bed53-cac8-4e2a-8777-b6f87c8745e0"
   },
   "outputs": [
    {
     "name": "stdout",
     "output_type": "stream",
     "text": [
      "operDigital\n",
      "Numeros: 0.0%\n",
      "String: 100.0%\n",
      "Nulos: 0.0%\n",
      "\n",
      "\n",
      "procedencia\n",
      "Numeros: 0.0%\n",
      "String: 100.0%\n",
      "Nulos: 0.0%\n",
      "\n",
      "\n"
     ]
    }
   ],
   "source": [
    "for columnName in [\"operDigital\",\"procedencia\"]:\n",
    "  numNumeric = dfPresDigital[dfPresDigital[columnName].apply(changeType) == 1].shape[0]\n",
    "  numString = dfPresDigital[dfPresDigital[columnName].apply(changeType) == 0].shape[0]\n",
    "  numNull = dfPresDigital[dfPresDigital[columnName].apply(changeType) == -1].shape[0]\n",
    "  print(columnName)\n",
    "  print(\"Numeros: \" + str(np.round(numNumeric / dfPresDigital.shape[0] * 100, 2)) + \"%\")\n",
    "  print(\"String: \" + str(np.round(numString / dfPresDigital.shape[0] * 100, 2)) + \"%\")\n",
    "  print(\"Nulos: \" + str(np.round(numNull / dfPresDigital.shape[0] * 100, 2)) + \"%\")\n",
    "  print(\"\\n\")"
   ]
  },
  {
   "cell_type": "markdown",
   "metadata": {
    "colab_type": "text",
    "id": "EoP30bayZKK7"
   },
   "source": [
    "Todos los numericos son 0%."
   ]
  },
  {
   "cell_type": "markdown",
   "metadata": {
    "colab_type": "text",
    "id": "AZaWXReOp4LN"
   },
   "source": [
    "Graficamos las variables numéricas"
   ]
  },
  {
   "cell_type": "code",
   "execution_count": 23,
   "metadata": {
    "colab": {
     "base_uri": "https://localhost:8080/",
     "height": 1135
    },
    "colab_type": "code",
    "id": "t8CZsGDDpMPe",
    "outputId": "905e78d9-a3a5-4f84-b150-466a71bdc12a"
   },
   "outputs": [
    {
     "data": {
      "text/plain": [
       "array([[<matplotlib.axes._subplots.AxesSubplot object at 0x0000029F358FBA58>,\n",
       "        <matplotlib.axes._subplots.AxesSubplot object at 0x0000029F360A3CF8>,\n",
       "        <matplotlib.axes._subplots.AxesSubplot object at 0x0000029F360D17B8>],\n",
       "       [<matplotlib.axes._subplots.AxesSubplot object at 0x0000029F36100278>,\n",
       "        <matplotlib.axes._subplots.AxesSubplot object at 0x0000029F36122CF8>,\n",
       "        <matplotlib.axes._subplots.AxesSubplot object at 0x0000029F36122D30>],\n",
       "       [<matplotlib.axes._subplots.AxesSubplot object at 0x0000029F36183240>,\n",
       "        <matplotlib.axes._subplots.AxesSubplot object at 0x0000029F361A7CC0>,\n",
       "        <matplotlib.axes._subplots.AxesSubplot object at 0x0000029F361D8780>],\n",
       "       [<matplotlib.axes._subplots.AxesSubplot object at 0x0000029F36266240>,\n",
       "        <matplotlib.axes._subplots.AxesSubplot object at 0x0000029F3628ACC0>,\n",
       "        <matplotlib.axes._subplots.AxesSubplot object at 0x0000029F362BC780>]],\n",
       "      dtype=object)"
      ]
     },
     "execution_count": 23,
     "metadata": {},
     "output_type": "execute_result"
    },
    {
     "data": {
      "image/png": "[encoded data removed]",
      "text/plain": [
       "<Figure size 1440x1080 with 12 Axes>"
      ]
     },
     "metadata": {},
     "output_type": "display_data"
    }
   ],
   "source": [
    "dfPresDigital[columnsNumeric].hist(bins = 100, figsize=(20,15))"
   ]
  },
  {
   "cell_type": "markdown",
   "metadata": {
    "colab_type": "text",
    "id": "BwEl0I65a-fE"
   },
   "source": [
    "Columnas categoricas"
   ]
  },
  {
   "cell_type": "code",
   "execution_count": 24,
   "metadata": {
    "colab": {
     "base_uri": "https://localhost:8080/",
     "height": 6548
    },
    "colab_type": "code",
    "id": "YaKzUs7Ja9g6",
    "outputId": "083f6e0f-8d63-4c9c-eafd-f27be99e3c39"
   },
   "outputs": [
    {
     "data": {
      "image/png": "[encoded data removed]",
      "text/plain": [
       "<Figure size 432x288 with 1 Axes>"
      ]
     },
     "metadata": {},
     "output_type": "display_data"
    },
    {
     "data": {
      "image/png": "[encoded data removed]",
      "text/plain": [
       "<Figure size 432x288 with 1 Axes>"
      ]
     },
     "metadata": {},
     "output_type": "display_data"
    },
    {
     "data": {
      "image/png": "[encoded data removed]",
      "text/plain": [
       "<Figure size 432x288 with 1 Axes>"
      ]
     },
     "metadata": {},
     "output_type": "display_data"
    },
    {
     "data": {
      "image/png": "[encoded data removed]",
      "text/plain": [
       "<Figure size 432x288 with 1 Axes>"
      ]
     },
     "metadata": {},
     "output_type": "display_data"
    },
    {
     "data": {
      "image/png": "[encoded data removed]",
      "text/plain": [
       "<Figure size 432x288 with 1 Axes>"
      ]
     },
     "metadata": {},
     "output_type": "display_data"
    },
    {
     "data": {
      "image/png": "[encoded data removed]",
      "text/plain": [
       "<Figure size 432x288 with 1 Axes>"
      ]
     },
     "metadata": {},
     "output_type": "display_data"
    }
   ],
   "source": [
    "for columnName in columnsString:\n",
    "  plt.title(columnName)\n",
    "  dfPresDigital.fillna(\"--NULL\").groupby(columnName)[columnName].count().plot(kind = \"bar\")\n",
    "  plt.show()"
   ]
  },
  {
   "cell_type": "markdown",
   "metadata": {
    "colab_type": "text",
    "id": "KVSmkMfDOTiB"
   },
   "source": [
    "### estudiar los nulos en el dataset"
   ]
  },
  {
   "cell_type": "markdown",
   "metadata": {
    "colab_type": "text",
    "id": "mrqn7Ld7pOzh"
   },
   "source": [
    "De las districuciones anteriores tenemos ya una idea del impacto de los nulos, repasando:"
   ]
  },
  {
   "cell_type": "code",
   "execution_count": 25,
   "metadata": {
    "colab": {
     "base_uri": "https://localhost:8080/",
     "height": 290
    },
    "colab_type": "code",
    "id": "3hMH-oZUPO0z",
    "outputId": "3df887ee-c744-4d86-f9d7-45c74a7f29d3"
   },
   "outputs": [],
   "source": [
    "#Porcentaje y número de nulos por variables\n",
    "numTotal = dfPresDigital.shape[0]\n",
    "for columnName in list(set(columnsString).union(set(columnsNumeric))):\n",
    "  numNull = dfPresDigital[dfPresDigital[columnName].isnull()].shape[0]\n",
    "  if numNull > 0:\n",
    "    print(columnName)\n",
    "    print(\"Número de valores null: \" + str(numNull))\n",
    "    print(\"Porcentaje: \" + str(np.round(numNull * 100 / numTotal, 2)) + \"%\")\n",
    "    print(\"\\n\")"
   ]
  },
  {
   "cell_type": "markdown",
   "metadata": {
    "colab_type": "text",
    "id": "k1ey6fcxccw6"
   },
   "source": [
    "Como se observa ya no existen valores nulos en las variables"
   ]
  },
  {
   "cell_type": "markdown",
   "metadata": {
    "colab_type": "text",
    "id": "hzr5_qEeOWeI"
   },
   "source": [
    "### 4. Estudiar los outliers"
   ]
  },
  {
   "cell_type": "code",
   "execution_count": 30,
   "metadata": {
    "colab": {
     "base_uri": "https://localhost:8080/",
     "height": 3817
    },
    "colab_type": "code",
    "id": "dccZNa2hj_bS",
    "outputId": "879b5e08-9d3c-4641-f7cb-dd3d25bfffc7"
   },
   "outputs": [
    {
     "data": {
      "image/png": "[encoded data removed]",
      "text/plain": [
       "<Figure size 432x288 with 1 Axes>"
      ]
     },
     "metadata": {},
     "output_type": "display_data"
    },
    {
     "data": {
      "image/png": "[encoded data removed]",
      "text/plain": [
       "<Figure size 432x288 with 1 Axes>"
      ]
     },
     "metadata": {},
     "output_type": "display_data"
    },
    {
     "data": {
      "image/png": "[encoded data removed]",
      "text/plain": [
       "<Figure size 432x288 with 1 Axes>"
      ]
     },
     "metadata": {},
     "output_type": "display_data"
    },
    {
     "data": {
      "image/png": "[encoded data removed]",
      "text/plain": [
       "<Figure size 432x288 with 1 Axes>"
      ]
     },
     "metadata": {},
     "output_type": "display_data"
    },
    {
     "data": {
      "image/png": "[encoded data removed]",
      "text/plain": [
       "<Figure size 432x288 with 1 Axes>"
      ]
     },
     "metadata": {},
     "output_type": "display_data"
    },
    {
     "data": {
      "image/png": "[encoded data removed]",
      "text/plain": [
       "<Figure size 432x288 with 1 Axes>"
      ]
     },
     "metadata": {},
     "output_type": "display_data"
    },
    {
     "data": {
      "image/png": "[encoded data removed]",
      "text/plain": [
       "<Figure size 432x288 with 1 Axes>"
      ]
     },
     "metadata": {},
     "output_type": "display_data"
    },
    {
     "data": {
      "image/png": "[encoded data removed]",
      "text/plain": [
       "<Figure size 432x288 with 1 Axes>"
      ]
     },
     "metadata": {},
     "output_type": "display_data"
    },
    {
     "data": {
      "image/png": "[encoded data removed]",
      "text/plain": [
       "<Figure size 432x288 with 1 Axes>"
      ]
     },
     "metadata": {},
     "output_type": "display_data"
    },
    {
     "data": {
      "image/png": "[encoded data removed]",
      "text/plain": [
       "<Figure size 432x288 with 1 Axes>"
      ]
     },
     "metadata": {},
     "output_type": "display_data"
    },
    {
     "data": {
      "image/png": "[encoded data removed]",
      "text/plain": [
       "<Figure size 432x288 with 1 Axes>"
      ]
     },
     "metadata": {},
     "output_type": "display_data"
    }
   ],
   "source": [
    "for columnName in dfPresDigital[columnsNumeric].columns:\n",
    "  plt.title(columnName)\n",
    "  \n",
    "  plt.boxplot(dfPresDigital[columnName], 0, 'gD')\n",
    "  \n",
    "  plt.show()"
   ]
  },
  {
   "cell_type": "code",
   "execution_count": 31,
   "metadata": {},
   "outputs": [],
   "source": [
    "# Función de Identificar Outliers:\n",
    "def calculateNumOutliars(serie):\n",
    "  Q01 = serie.quantile(0.25)\n",
    "  Q03 = serie.quantile(0.75)\n",
    "  IQR = Q03 - Q01\n",
    "  a = (serie < (Q01 - 1.5 * IQR)) | (serie > (Q03 + 1.5 * IQR))\n",
    "  numOutliars = a[a == True].shape[0]\n",
    "  return numOutliars"
   ]
  },
  {
   "cell_type": "code",
   "execution_count": 32,
   "metadata": {
    "colab": {
     "base_uri": "https://localhost:8080/",
     "height": 1145
    },
    "colab_type": "code",
    "id": "GOf6WgLKNV_S",
    "outputId": "e879d420-48de-4a56-9a94-f554ed9cec99"
   },
   "outputs": [
    {
     "name": "stdout",
     "output_type": "stream",
     "text": [
      "trxDigitalUm\n",
      "****aplicar log\n",
      "\n",
      "\n",
      "promTrxDig3Um\n",
      "****aplicar log\n",
      "\n",
      "\n",
      "recCamp\n",
      "Número de valores outliars: 88089\n",
      "Porcentaje: 20.25%\n",
      "Número de valores outliars con log: 88089\n",
      "Porcentaje con log: 20.25%\n",
      "\n",
      "\n",
      "promConsBanco3Um\n",
      "****aplicar log\n",
      "\n",
      "\n",
      "promSaldoBanco3Um\n",
      "****aplicar log\n",
      "\n",
      "\n",
      "promSaldoTc3Um\n",
      "****aplicar log\n",
      "\n",
      "\n",
      "promSaldoPrest3Um\n",
      "****aplicar log\n",
      "\n",
      "\n",
      "sowTcUm\n",
      "****aplicar log\n",
      "\n",
      "\n",
      "sowPrestUm\n",
      "****aplicar log\n",
      "\n",
      "\n"
     ]
    }
   ],
   "source": [
    "#Porcentaje y número de outliars\n",
    "numTotal = dfPresDigital.shape[0]\n",
    "for columnName in columnsNumeric:\n",
    "  numOutliars = calculateNumOutliars(dfPresDigital[columnName])\n",
    "  if numOutliars > 0:\n",
    "    \n",
    "    numOutliarsLog = calculateNumOutliars(dfPresDigital[columnName].apply(np.log))\n",
    "    \n",
    "    print(columnName)\n",
    "    if numOutliarsLog > 0:\n",
    "      print(\"Número de valores outliars: \" + str(numOutliars))\n",
    "      print(\"Porcentaje: \" + str(np.round(numOutliars * 100 / numTotal, 2)) + \"%\")\n",
    "      print(\"Número de valores outliars con log: \" + str(numOutliarsLog))\n",
    "      print(\"Porcentaje con log: \" + str(np.round(numOutliarsLog * 100 / numTotal, 2)) + \"%\")\n",
    "    else:\n",
    "      print(\"****aplicar log\")\n",
    "    \n",
    "    print(\"\\n\")"
   ]
  },
  {
   "cell_type": "markdown",
   "metadata": {
    "colab_type": "text",
    "id": "cLKGXDEgOY0x"
   },
   "source": [
    "### crear variables dummy en caso que sea conveniente"
   ]
  },
  {
   "cell_type": "markdown",
   "metadata": {
    "colab_type": "text",
    "id": "hoRT7Z_F49ZM"
   },
   "source": [
    "Para las variables categoricas se ha usado mean encoding"
   ]
  },
  {
   "cell_type": "markdown",
   "metadata": {
    "colab_type": "text",
    "id": "E0V3PYa8ObDT"
   },
   "source": [
    "### estudiar que todas las variables ahora sí tengan el formato y contenido adecuado. si todavía no, arreglarlas."
   ]
  },
  {
   "cell_type": "markdown",
   "metadata": {
    "colab_type": "text",
    "id": "6LhlINlyJw36"
   },
   "source": [
    "Se verifica que los valores de las variables sean los adecuados"
   ]
  },
  {
   "cell_type": "code",
   "execution_count": 33,
   "metadata": {
    "colab": {
     "base_uri": "https://localhost:8080/",
     "height": 1072
    },
    "colab_type": "code",
    "id": "1wKbYiicq8Vp",
    "outputId": "86d791f9-3ff0-4970-d9a4-5a289d18ec62"
   },
   "outputs": [
    {
     "name": "stdout",
     "output_type": "stream",
     "text": [
      "<class 'pandas.core.frame.DataFrame'>\n",
      "Int64Index: 435083 entries, 0 to 435082\n",
      "Data columns (total 20 columns):\n",
      "mes                  435083 non-null int64\n",
      "cliente              435083 non-null object\n",
      "estadoCliente        435083 non-null object\n",
      "rngEdad              435083 non-null object\n",
      "genero               435083 non-null object\n",
      "rngSueldo            435083 non-null object\n",
      "procedencia          435083 non-null object\n",
      "operDigital          435083 non-null object\n",
      "trxDigitalUm         435083 non-null int64\n",
      "promTrxDig3Um        435083 non-null float64\n",
      "recCamp              435083 non-null int64\n",
      "frecCamp             435083 non-null int64\n",
      "tenTarjeta           435083 non-null object\n",
      "promConsBanco3Um     435083 non-null float64\n",
      "promSaldoBanco3Um    435083 non-null float64\n",
      "promSaldoTc3Um       435083 non-null float64\n",
      "promSaldoPrest3Um    435083 non-null float64\n",
      "sowTcUm              435083 non-null float64\n",
      "sowPrestUm           435083 non-null int64\n",
      "ventaPrestDig        435083 non-null int64\n",
      "dtypes: float64(6), int64(6), object(8)\n",
      "memory usage: 69.7+ MB\n"
     ]
    }
   ],
   "source": [
    "dfPresDigital.info()"
   ]
  },
  {
   "cell_type": "markdown",
   "metadata": {
    "colab_type": "text",
    "id": "AJH2S-oLOdtD"
   },
   "source": [
    "### Antes de estudiar el comportamiento de las variables, veremos si hay alguna variable derivada a crear\n",
    "### Definición de Target:"
   ]
  },
  {
   "cell_type": "markdown",
   "metadata": {
    "colab_type": "text",
    "id": "HAKqAeyG65hG"
   },
   "source": [
    "Ya se agregaron las variables necesarias en pasos anteriores."
   ]
  },
  {
   "cell_type": "code",
   "execution_count": 34,
   "metadata": {
    "colab": {},
    "colab_type": "code",
    "id": "FFmTw_N_q0ka"
   },
   "outputs": [],
   "source": [
    "dfPresDigital[columnTarget] = dfPresDigital[\"ventaPrestDig\"]"
   ]
  },
  {
   "cell_type": "code",
   "execution_count": 35,
   "metadata": {
    "colab": {
     "base_uri": "https://localhost:8080/",
     "height": 35
    },
    "colab_type": "code",
    "id": "9PhNq1W0u7Oo",
    "outputId": "fd794309-b8a5-44e7-b1bd-b3e723b7ea80"
   },
   "outputs": [
    {
     "name": "stdout",
     "output_type": "stream",
     "text": [
      "Porcentaje de target: 0.28%\n"
     ]
    }
   ],
   "source": [
    "print(\"Porcentaje de target: \" + str(np.round(dfPresDigital[columnTarget].sum() * 100 / dfPresDigital.shape[0], 2)) + \"%\")"
   ]
  },
  {
   "cell_type": "markdown",
   "metadata": {
    "colab_type": "text",
    "id": "3MOH_mvjjSD2"
   },
   "source": [
    "Ejecutamos mean encoder"
   ]
  },
  {
   "cell_type": "code",
   "execution_count": 36,
   "metadata": {},
   "outputs": [],
   "source": [
    "#Mean encoder\n",
    "for columnName in columnsString:\n",
    "  mapColumn = dfPresDigital.groupby(columnName)[columnTarget].mean()\n",
    "  dfPresDigital[columnName + \"_number\"] = dfPresDigital[columnName].map(mapColumn)"
   ]
  },
  {
   "cell_type": "code",
   "execution_count": 37,
   "metadata": {
    "colab": {
     "base_uri": "https://localhost:8080/",
     "height": 55
    },
    "colab_type": "code",
    "id": "utMDZVCjfbg1",
    "outputId": "e1ec2a49-e21c-46b1-876f-391193653833"
   },
   "outputs": [
    {
     "name": "stdout",
     "output_type": "stream",
     "text": [
      "Variables a evaluar: ['mes', 'trxDigitalUm', 'promTrxDig3Um', 'recCamp', 'frecCamp', 'promConsBanco3Um', 'promSaldoBanco3Um', 'promSaldoTc3Um', 'promSaldoPrest3Um', 'sowTcUm', 'sowPrestUm', 'procedencia_number', 'rngEdad_number', 'rngSueldo_number', 'genero_number', 'operDigital_number', 'tenTarjeta_number']\n"
     ]
    }
   ],
   "source": [
    "columnsToEvaluate = columnsNumeric + [columnName + \"_number\" for columnName in columnsString]\n",
    "print(\"Variables a evaluar: \" + str(columnsToEvaluate))"
   ]
  },
  {
   "cell_type": "code",
   "execution_count": 38,
   "metadata": {
    "colab": {},
    "colab_type": "code",
    "id": "H5-DkKRYlZf6"
   },
   "outputs": [],
   "source": [
    "for columnName in columnsNumeric:\n",
    "  dfPresDigital[columnName].fillna(dfPresDigital[columnName].mean(), inplace = True)"
   ]
  },
  {
   "cell_type": "code",
   "execution_count": 39,
   "metadata": {},
   "outputs": [
    {
     "data": {
      "text/html": [
       "<div>\n",
       "<style scoped>\n",
       "    .dataframe tbody tr th:only-of-type {\n",
       "        vertical-align: middle;\n",
       "    }\n",
       "\n",
       "    .dataframe tbody tr th {\n",
       "        vertical-align: top;\n",
       "    }\n",
       "\n",
       "    .dataframe thead th {\n",
       "        text-align: right;\n",
       "    }\n",
       "</style>\n",
       "<table border=\"1\" class=\"dataframe\">\n",
       "  <thead>\n",
       "    <tr style=\"text-align: right;\">\n",
       "      <th></th>\n",
       "      <th>mes</th>\n",
       "      <th>cliente</th>\n",
       "      <th>estadoCliente</th>\n",
       "      <th>rngEdad</th>\n",
       "      <th>genero</th>\n",
       "      <th>rngSueldo</th>\n",
       "      <th>procedencia</th>\n",
       "      <th>operDigital</th>\n",
       "      <th>trxDigitalUm</th>\n",
       "      <th>promTrxDig3Um</th>\n",
       "      <th>...</th>\n",
       "      <th>sowTcUm</th>\n",
       "      <th>sowPrestUm</th>\n",
       "      <th>ventaPrestDig</th>\n",
       "      <th>target</th>\n",
       "      <th>procedencia_number</th>\n",
       "      <th>rngEdad_number</th>\n",
       "      <th>rngSueldo_number</th>\n",
       "      <th>genero_number</th>\n",
       "      <th>operDigital_number</th>\n",
       "      <th>tenTarjeta_number</th>\n",
       "    </tr>\n",
       "  </thead>\n",
       "  <tbody>\n",
       "    <tr>\n",
       "      <th>0</th>\n",
       "      <td>201608</td>\n",
       "      <td>1</td>\n",
       "      <td>A</td>\n",
       "      <td>&lt;35-45]</td>\n",
       "      <td>M</td>\n",
       "      <td>&lt;3500-4500]</td>\n",
       "      <td>lima</td>\n",
       "      <td>NN</td>\n",
       "      <td>0</td>\n",
       "      <td>0.000000</td>\n",
       "      <td>...</td>\n",
       "      <td>1.0</td>\n",
       "      <td>0</td>\n",
       "      <td>0</td>\n",
       "      <td>0</td>\n",
       "      <td>0.002893</td>\n",
       "      <td>0.001789</td>\n",
       "      <td>0.002713</td>\n",
       "      <td>0.003336</td>\n",
       "      <td>0.000671</td>\n",
       "      <td>0.004553</td>\n",
       "    </tr>\n",
       "    <tr>\n",
       "      <th>1</th>\n",
       "      <td>201608</td>\n",
       "      <td>2</td>\n",
       "      <td>A</td>\n",
       "      <td>&lt;25-35]</td>\n",
       "      <td>M</td>\n",
       "      <td>&lt;3500-4500]</td>\n",
       "      <td>lima</td>\n",
       "      <td>BXI-BM</td>\n",
       "      <td>200</td>\n",
       "      <td>192.666667</td>\n",
       "      <td>...</td>\n",
       "      <td>0.0</td>\n",
       "      <td>0</td>\n",
       "      <td>0</td>\n",
       "      <td>0</td>\n",
       "      <td>0.002893</td>\n",
       "      <td>0.004619</td>\n",
       "      <td>0.002713</td>\n",
       "      <td>0.003336</td>\n",
       "      <td>0.013022</td>\n",
       "      <td>0.004553</td>\n",
       "    </tr>\n",
       "    <tr>\n",
       "      <th>2</th>\n",
       "      <td>201608</td>\n",
       "      <td>3</td>\n",
       "      <td>A</td>\n",
       "      <td>&lt;35-45]</td>\n",
       "      <td>F</td>\n",
       "      <td>&lt;4500-6000]</td>\n",
       "      <td>lima</td>\n",
       "      <td>BM</td>\n",
       "      <td>407</td>\n",
       "      <td>332.333333</td>\n",
       "      <td>...</td>\n",
       "      <td>0.0</td>\n",
       "      <td>0</td>\n",
       "      <td>0</td>\n",
       "      <td>0</td>\n",
       "      <td>0.002893</td>\n",
       "      <td>0.001789</td>\n",
       "      <td>0.002576</td>\n",
       "      <td>0.002047</td>\n",
       "      <td>0.011814</td>\n",
       "      <td>0.003154</td>\n",
       "    </tr>\n",
       "    <tr>\n",
       "      <th>3</th>\n",
       "      <td>201608</td>\n",
       "      <td>4</td>\n",
       "      <td>A</td>\n",
       "      <td>&lt;25-35]</td>\n",
       "      <td>F</td>\n",
       "      <td>&lt;3500-4500]</td>\n",
       "      <td>lima</td>\n",
       "      <td>NN</td>\n",
       "      <td>0</td>\n",
       "      <td>0.000000</td>\n",
       "      <td>...</td>\n",
       "      <td>1.0</td>\n",
       "      <td>0</td>\n",
       "      <td>0</td>\n",
       "      <td>0</td>\n",
       "      <td>0.002893</td>\n",
       "      <td>0.004619</td>\n",
       "      <td>0.002713</td>\n",
       "      <td>0.002047</td>\n",
       "      <td>0.000671</td>\n",
       "      <td>0.000199</td>\n",
       "    </tr>\n",
       "  </tbody>\n",
       "</table>\n",
       "<p>4 rows × 27 columns</p>\n",
       "</div>"
      ],
      "text/plain": [
       "      mes cliente estadoCliente  rngEdad genero    rngSueldo procedencia  \\\n",
       "0  201608       1             A  <35-45]      M  <3500-4500]        lima   \n",
       "1  201608       2             A  <25-35]      M  <3500-4500]        lima   \n",
       "2  201608       3             A  <35-45]      F  <4500-6000]        lima   \n",
       "3  201608       4             A  <25-35]      F  <3500-4500]        lima   \n",
       "\n",
       "  operDigital  trxDigitalUm  promTrxDig3Um        ...          sowTcUm  \\\n",
       "0          NN             0       0.000000        ...              1.0   \n",
       "1      BXI-BM           200     192.666667        ...              0.0   \n",
       "2          BM           407     332.333333        ...              0.0   \n",
       "3          NN             0       0.000000        ...              1.0   \n",
       "\n",
       "   sowPrestUm ventaPrestDig  target  procedencia_number  rngEdad_number  \\\n",
       "0           0             0       0            0.002893        0.001789   \n",
       "1           0             0       0            0.002893        0.004619   \n",
       "2           0             0       0            0.002893        0.001789   \n",
       "3           0             0       0            0.002893        0.004619   \n",
       "\n",
       "   rngSueldo_number  genero_number  operDigital_number  tenTarjeta_number  \n",
       "0          0.002713       0.003336            0.000671           0.004553  \n",
       "1          0.002713       0.003336            0.013022           0.004553  \n",
       "2          0.002576       0.002047            0.011814           0.003154  \n",
       "3          0.002713       0.002047            0.000671           0.000199  \n",
       "\n",
       "[4 rows x 27 columns]"
      ]
     },
     "execution_count": 39,
     "metadata": {},
     "output_type": "execute_result"
    }
   ],
   "source": [
    "dfPresDigital.head(4)"
   ]
  },
  {
   "cell_type": "code",
   "execution_count": 40,
   "metadata": {
    "colab": {
     "base_uri": "https://localhost:8080/",
     "height": 345
    },
    "colab_type": "code",
    "id": "SyzeyNmSbgSf",
    "outputId": "9ef65829-c6b0-4c85-c052-b16b4a1d07d5"
   },
   "outputs": [
    {
     "data": {
      "text/plain": [
       "procedencia_number    1.103055e-08\n",
       "rngEdad_number        6.934099e-06\n",
       "rngSueldo_number      3.166203e-07\n",
       "genero_number         4.086416e-07\n",
       "operDigital_number    1.598511e-05\n",
       "tenTarjeta_number     2.402576e-06\n",
       "dtype: float64"
      ]
     },
     "execution_count": 40,
     "metadata": {},
     "output_type": "execute_result"
    }
   ],
   "source": [
    "#Evaluamos la varianza de las variables nuevas categoricas\n",
    "dfPresDigital[[x + \"_number\" for x in columnsString]].var()"
   ]
  },
  {
   "cell_type": "code",
   "execution_count": 41,
   "metadata": {
    "colab": {
     "base_uri": "https://localhost:8080/",
     "height": 1280
    },
    "colab_type": "code",
    "id": "k_XaiDZpcBC3",
    "outputId": "39a8ec3a-f46d-4888-a21a-2827555a2e5d"
   },
   "outputs": [
    {
     "data": {
      "text/plain": [
       "array([[<matplotlib.axes._subplots.AxesSubplot object at 0x0000029F49A029E8>,\n",
       "        <matplotlib.axes._subplots.AxesSubplot object at 0x0000029F49A33BE0>],\n",
       "       [<matplotlib.axes._subplots.AxesSubplot object at 0x0000029F469A5320>,\n",
       "        <matplotlib.axes._subplots.AxesSubplot object at 0x0000029F469CAA20>],\n",
       "       [<matplotlib.axes._subplots.AxesSubplot object at 0x0000029F469FD160>,\n",
       "        <matplotlib.axes._subplots.AxesSubplot object at 0x0000029F469FD198>]],\n",
       "      dtype=object)"
      ]
     },
     "execution_count": 41,
     "metadata": {},
     "output_type": "execute_result"
    },
    {
     "data": {
      "image/png": "[encoded data removed]",
      "text/plain": [
       "<Figure size 1440x1080 with 6 Axes>"
      ]
     },
     "metadata": {},
     "output_type": "display_data"
    }
   ],
   "source": [
    "dfPresDigital[[x + \"_number\" for x in columnsString]].hist(bins = 20, figsize=(20,15))"
   ]
  },
  {
   "cell_type": "markdown",
   "metadata": {
    "colab_type": "text",
    "id": "UXcXfhlTjqsn"
   },
   "source": [
    "## 6. Estandarizamos"
   ]
  },
  {
   "cell_type": "code",
   "execution_count": 42,
   "metadata": {
    "colab": {
     "base_uri": "https://localhost:8080/",
     "height": 74
    },
    "colab_type": "code",
    "id": "o28VBG6Ojp85",
    "outputId": "d875d9ce-12ee-4bd8-a097-4afacc2a5f8c"
   },
   "outputs": [
    {
     "name": "stderr",
     "output_type": "stream",
     "text": [
      "C:\\Anaconda3\\lib\\site-packages\\sklearn\\utils\\validation.py:475: DataConversionWarning: Data with input dtype int64 was converted to float64 by StandardScaler.\n",
      "  warnings.warn(msg, DataConversionWarning)\n",
      "C:\\Anaconda3\\lib\\site-packages\\sklearn\\utils\\validation.py:475: DataConversionWarning: Data with input dtype int64 was converted to float64 by StandardScaler.\n",
      "  warnings.warn(msg, DataConversionWarning)\n",
      "C:\\Anaconda3\\lib\\site-packages\\sklearn\\utils\\validation.py:475: DataConversionWarning: Data with input dtype int64 was converted to float64 by StandardScaler.\n",
      "  warnings.warn(msg, DataConversionWarning)\n",
      "C:\\Anaconda3\\lib\\site-packages\\sklearn\\utils\\validation.py:475: DataConversionWarning: Data with input dtype int64 was converted to float64 by StandardScaler.\n",
      "  warnings.warn(msg, DataConversionWarning)\n",
      "C:\\Anaconda3\\lib\\site-packages\\sklearn\\utils\\validation.py:475: DataConversionWarning: Data with input dtype int64 was converted to float64 by StandardScaler.\n",
      "  warnings.warn(msg, DataConversionWarning)\n",
      "C:\\Anaconda3\\lib\\site-packages\\sklearn\\utils\\validation.py:475: DataConversionWarning: Data with input dtype int64 was converted to float64 by StandardScaler.\n",
      "  warnings.warn(msg, DataConversionWarning)\n",
      "C:\\Anaconda3\\lib\\site-packages\\sklearn\\utils\\validation.py:475: DataConversionWarning: Data with input dtype int64 was converted to float64 by StandardScaler.\n",
      "  warnings.warn(msg, DataConversionWarning)\n",
      "C:\\Anaconda3\\lib\\site-packages\\sklearn\\utils\\validation.py:475: DataConversionWarning: Data with input dtype int64 was converted to float64 by StandardScaler.\n",
      "  warnings.warn(msg, DataConversionWarning)\n",
      "C:\\Anaconda3\\lib\\site-packages\\sklearn\\utils\\validation.py:475: DataConversionWarning: Data with input dtype int64 was converted to float64 by StandardScaler.\n",
      "  warnings.warn(msg, DataConversionWarning)\n",
      "C:\\Anaconda3\\lib\\site-packages\\sklearn\\utils\\validation.py:475: DataConversionWarning: Data with input dtype int64 was converted to float64 by StandardScaler.\n",
      "  warnings.warn(msg, DataConversionWarning)\n"
     ]
    }
   ],
   "source": [
    "# Creamos el objeto para escalar\n",
    "#scaler = preprocessing.MinMaxScaler(feature_range=(0, 1))\n",
    "scaler = preprocessing.StandardScaler()\n",
    "\n",
    "# Lo aplicamos\n",
    "for columnName in columnsNumeric:\n",
    "  dfPresDigital[columnName] = scaler.fit_transform(dfPresDigital[columnName].values.reshape(-1, 1))"
   ]
  },
  {
   "cell_type": "code",
   "execution_count": 43,
   "metadata": {},
   "outputs": [
    {
     "data": {
      "text/html": [
       "<div>\n",
       "<style scoped>\n",
       "    .dataframe tbody tr th:only-of-type {\n",
       "        vertical-align: middle;\n",
       "    }\n",
       "\n",
       "    .dataframe tbody tr th {\n",
       "        vertical-align: top;\n",
       "    }\n",
       "\n",
       "    .dataframe thead th {\n",
       "        text-align: right;\n",
       "    }\n",
       "</style>\n",
       "<table border=\"1\" class=\"dataframe\">\n",
       "  <thead>\n",
       "    <tr style=\"text-align: right;\">\n",
       "      <th></th>\n",
       "      <th>mes</th>\n",
       "      <th>trxDigitalUm</th>\n",
       "      <th>promTrxDig3Um</th>\n",
       "      <th>recCamp</th>\n",
       "      <th>frecCamp</th>\n",
       "      <th>promConsBanco3Um</th>\n",
       "      <th>promSaldoBanco3Um</th>\n",
       "      <th>promSaldoTc3Um</th>\n",
       "      <th>promSaldoPrest3Um</th>\n",
       "      <th>sowTcUm</th>\n",
       "      <th>sowPrestUm</th>\n",
       "    </tr>\n",
       "  </thead>\n",
       "  <tbody>\n",
       "    <tr>\n",
       "      <th>0</th>\n",
       "      <td>0.0</td>\n",
       "      <td>-0.331530</td>\n",
       "      <td>-0.341882</td>\n",
       "      <td>-0.44153</td>\n",
       "      <td>0.924803</td>\n",
       "      <td>1.086986</td>\n",
       "      <td>2.113434</td>\n",
       "      <td>0.746825</td>\n",
       "      <td>-0.214486</td>\n",
       "      <td>3.077828</td>\n",
       "      <td>-0.001516</td>\n",
       "    </tr>\n",
       "    <tr>\n",
       "      <th>1</th>\n",
       "      <td>0.0</td>\n",
       "      <td>1.224875</td>\n",
       "      <td>1.341741</td>\n",
       "      <td>-0.44153</td>\n",
       "      <td>0.924803</td>\n",
       "      <td>-0.178059</td>\n",
       "      <td>-0.193919</td>\n",
       "      <td>0.135925</td>\n",
       "      <td>-0.214486</td>\n",
       "      <td>-0.363950</td>\n",
       "      <td>-0.001516</td>\n",
       "    </tr>\n",
       "    <tr>\n",
       "      <th>2</th>\n",
       "      <td>0.0</td>\n",
       "      <td>2.835755</td>\n",
       "      <td>2.562223</td>\n",
       "      <td>-0.44153</td>\n",
       "      <td>0.924803</td>\n",
       "      <td>-0.178059</td>\n",
       "      <td>-0.193919</td>\n",
       "      <td>0.222870</td>\n",
       "      <td>-0.214486</td>\n",
       "      <td>-0.363950</td>\n",
       "      <td>-0.001516</td>\n",
       "    </tr>\n",
       "    <tr>\n",
       "      <th>3</th>\n",
       "      <td>0.0</td>\n",
       "      <td>-0.331530</td>\n",
       "      <td>-0.341882</td>\n",
       "      <td>-0.44153</td>\n",
       "      <td>-0.814921</td>\n",
       "      <td>-0.163411</td>\n",
       "      <td>-0.167202</td>\n",
       "      <td>-0.376052</td>\n",
       "      <td>-0.214486</td>\n",
       "      <td>3.077828</td>\n",
       "      <td>-0.001516</td>\n",
       "    </tr>\n",
       "    <tr>\n",
       "      <th>4</th>\n",
       "      <td>0.0</td>\n",
       "      <td>-0.331530</td>\n",
       "      <td>-0.341882</td>\n",
       "      <td>-0.44153</td>\n",
       "      <td>-0.814921</td>\n",
       "      <td>-0.178059</td>\n",
       "      <td>-0.193919</td>\n",
       "      <td>-0.389206</td>\n",
       "      <td>-0.214486</td>\n",
       "      <td>-0.363950</td>\n",
       "      <td>-0.001516</td>\n",
       "    </tr>\n",
       "  </tbody>\n",
       "</table>\n",
       "</div>"
      ],
      "text/plain": [
       "   mes  trxDigitalUm  promTrxDig3Um  recCamp  frecCamp  promConsBanco3Um  \\\n",
       "0  0.0     -0.331530      -0.341882 -0.44153  0.924803          1.086986   \n",
       "1  0.0      1.224875       1.341741 -0.44153  0.924803         -0.178059   \n",
       "2  0.0      2.835755       2.562223 -0.44153  0.924803         -0.178059   \n",
       "3  0.0     -0.331530      -0.341882 -0.44153 -0.814921         -0.163411   \n",
       "4  0.0     -0.331530      -0.341882 -0.44153 -0.814921         -0.178059   \n",
       "\n",
       "   promSaldoBanco3Um  promSaldoTc3Um  promSaldoPrest3Um   sowTcUm  sowPrestUm  \n",
       "0           2.113434        0.746825          -0.214486  3.077828   -0.001516  \n",
       "1          -0.193919        0.135925          -0.214486 -0.363950   -0.001516  \n",
       "2          -0.193919        0.222870          -0.214486 -0.363950   -0.001516  \n",
       "3          -0.167202       -0.376052          -0.214486  3.077828   -0.001516  \n",
       "4          -0.193919       -0.389206          -0.214486 -0.363950   -0.001516  "
      ]
     },
     "execution_count": 43,
     "metadata": {},
     "output_type": "execute_result"
    }
   ],
   "source": [
    "dfPresDigital[columnsNumeric].head()"
   ]
  },
  {
   "cell_type": "markdown",
   "metadata": {},
   "source": [
    "## 7. Asignación de Muestra Train - Test"
   ]
  },
  {
   "cell_type": "markdown",
   "metadata": {
    "colab_type": "text",
    "id": "l4805B0QjkAq"
   },
   "source": [
    "Selecionamos una muestra"
   ]
  },
  {
   "cell_type": "code",
   "execution_count": 44,
   "metadata": {
    "colab": {},
    "colab_type": "code",
    "id": "YbCZQD8MhqGu"
   },
   "outputs": [],
   "source": [
    "X = dfPresDigital[columnsToEvaluate].values\n",
    "y = dfPresDigital[[columnTarget]].values\n",
    "X_train, X_test, y_train, y_test = train_test_split(X, y, test_size = 0.3, random_state = 43)"
   ]
  },
  {
   "cell_type": "markdown",
   "metadata": {
    "colab_type": "text",
    "id": "UfaFtMVBfchk"
   },
   "source": [
    "Aplicamos mean encoder a las variables categoricas"
   ]
  },
  {
   "cell_type": "markdown",
   "metadata": {
    "colab_type": "text",
    "id": "nO_tXKnZO1bn"
   },
   "source": [
    "### crear la matriz de correlación"
   ]
  },
  {
   "cell_type": "code",
   "execution_count": 45,
   "metadata": {
    "colab": {},
    "colab_type": "code",
    "id": "8Xann1pEthiw"
   },
   "outputs": [],
   "source": [
    "pdX_train = pd.DataFrame(X_train, columns = columnsToEvaluate)\n",
    "pdy_train = pd.DataFrame(y_train, columns = [\"target\"])\n",
    "pdX_test = pd.DataFrame(X_test, columns = columnsToEvaluate)\n",
    "pdy_test = pd.DataFrame(y_test, columns = [\"target\"])"
   ]
  },
  {
   "cell_type": "markdown",
   "metadata": {
    "colab_type": "text",
    "id": "bdTlliKDO1_2"
   },
   "source": [
    "### pintar la matriz de correlación"
   ]
  },
  {
   "cell_type": "code",
   "execution_count": 46,
   "metadata": {
    "colab": {
     "base_uri": "https://localhost:8080/",
     "height": 817
    },
    "colab_type": "code",
    "id": "WVBwvT9lOywN",
    "outputId": "32f8b7ab-6423-4153-a513-152e9572b80f"
   },
   "outputs": [
    {
     "data": {
      "text/html": [
       "<div>\n",
       "<style scoped>\n",
       "    .dataframe tbody tr th:only-of-type {\n",
       "        vertical-align: middle;\n",
       "    }\n",
       "\n",
       "    .dataframe tbody tr th {\n",
       "        vertical-align: top;\n",
       "    }\n",
       "\n",
       "    .dataframe thead th {\n",
       "        text-align: right;\n",
       "    }\n",
       "</style>\n",
       "<table border=\"1\" class=\"dataframe\">\n",
       "  <thead>\n",
       "    <tr style=\"text-align: right;\">\n",
       "      <th></th>\n",
       "      <th>mes</th>\n",
       "      <th>trxDigitalUm</th>\n",
       "      <th>promTrxDig3Um</th>\n",
       "      <th>recCamp</th>\n",
       "      <th>frecCamp</th>\n",
       "      <th>promConsBanco3Um</th>\n",
       "      <th>promSaldoBanco3Um</th>\n",
       "      <th>promSaldoTc3Um</th>\n",
       "      <th>promSaldoPrest3Um</th>\n",
       "      <th>sowTcUm</th>\n",
       "      <th>sowPrestUm</th>\n",
       "      <th>procedencia_number</th>\n",
       "      <th>rngEdad_number</th>\n",
       "      <th>rngSueldo_number</th>\n",
       "      <th>genero_number</th>\n",
       "      <th>operDigital_number</th>\n",
       "      <th>tenTarjeta_number</th>\n",
       "    </tr>\n",
       "  </thead>\n",
       "  <tbody>\n",
       "    <tr>\n",
       "      <th>mes</th>\n",
       "      <td>NaN</td>\n",
       "      <td>NaN</td>\n",
       "      <td>NaN</td>\n",
       "      <td>NaN</td>\n",
       "      <td>NaN</td>\n",
       "      <td>NaN</td>\n",
       "      <td>NaN</td>\n",
       "      <td>NaN</td>\n",
       "      <td>NaN</td>\n",
       "      <td>NaN</td>\n",
       "      <td>NaN</td>\n",
       "      <td>NaN</td>\n",
       "      <td>NaN</td>\n",
       "      <td>NaN</td>\n",
       "      <td>NaN</td>\n",
       "      <td>NaN</td>\n",
       "      <td>NaN</td>\n",
       "    </tr>\n",
       "    <tr>\n",
       "      <th>trxDigitalUm</th>\n",
       "      <td>NaN</td>\n",
       "      <td>1.000000</td>\n",
       "      <td>0.948522</td>\n",
       "      <td>-0.037273</td>\n",
       "      <td>0.071760</td>\n",
       "      <td>0.172104</td>\n",
       "      <td>0.194485</td>\n",
       "      <td>0.126101</td>\n",
       "      <td>-0.029827</td>\n",
       "      <td>0.288456</td>\n",
       "      <td>0.002188</td>\n",
       "      <td>0.067524</td>\n",
       "      <td>0.160240</td>\n",
       "      <td>-0.084065</td>\n",
       "      <td>0.034307</td>\n",
       "      <td>0.636868</td>\n",
       "      <td>0.256958</td>\n",
       "    </tr>\n",
       "    <tr>\n",
       "      <th>promTrxDig3Um</th>\n",
       "      <td>NaN</td>\n",
       "      <td>0.948522</td>\n",
       "      <td>1.000000</td>\n",
       "      <td>-0.041024</td>\n",
       "      <td>0.074780</td>\n",
       "      <td>0.182743</td>\n",
       "      <td>0.204902</td>\n",
       "      <td>0.132936</td>\n",
       "      <td>-0.031697</td>\n",
       "      <td>0.300753</td>\n",
       "      <td>0.002456</td>\n",
       "      <td>0.063512</td>\n",
       "      <td>0.165435</td>\n",
       "      <td>-0.090708</td>\n",
       "      <td>0.034769</td>\n",
       "      <td>0.644558</td>\n",
       "      <td>0.267013</td>\n",
       "    </tr>\n",
       "    <tr>\n",
       "      <th>recCamp</th>\n",
       "      <td>NaN</td>\n",
       "      <td>-0.037273</td>\n",
       "      <td>-0.041024</td>\n",
       "      <td>1.000000</td>\n",
       "      <td>-0.742052</td>\n",
       "      <td>-0.009803</td>\n",
       "      <td>-0.016761</td>\n",
       "      <td>0.006179</td>\n",
       "      <td>0.032891</td>\n",
       "      <td>-0.051487</td>\n",
       "      <td>-0.000800</td>\n",
       "      <td>0.016723</td>\n",
       "      <td>0.082328</td>\n",
       "      <td>0.030900</td>\n",
       "      <td>0.020724</td>\n",
       "      <td>-0.038662</td>\n",
       "      <td>-0.088077</td>\n",
       "    </tr>\n",
       "    <tr>\n",
       "      <th>frecCamp</th>\n",
       "      <td>NaN</td>\n",
       "      <td>0.071760</td>\n",
       "      <td>0.074780</td>\n",
       "      <td>-0.742052</td>\n",
       "      <td>1.000000</td>\n",
       "      <td>0.014387</td>\n",
       "      <td>0.020387</td>\n",
       "      <td>-0.028620</td>\n",
       "      <td>-0.062407</td>\n",
       "      <td>0.077819</td>\n",
       "      <td>-0.001475</td>\n",
       "      <td>0.044224</td>\n",
       "      <td>-0.113575</td>\n",
       "      <td>-0.062271</td>\n",
       "      <td>-0.031337</td>\n",
       "      <td>0.075276</td>\n",
       "      <td>0.142099</td>\n",
       "    </tr>\n",
       "    <tr>\n",
       "      <th>promConsBanco3Um</th>\n",
       "      <td>NaN</td>\n",
       "      <td>0.172104</td>\n",
       "      <td>0.182743</td>\n",
       "      <td>-0.009803</td>\n",
       "      <td>0.014387</td>\n",
       "      <td>1.000000</td>\n",
       "      <td>0.636183</td>\n",
       "      <td>0.382488</td>\n",
       "      <td>0.013842</td>\n",
       "      <td>0.319349</td>\n",
       "      <td>0.005354</td>\n",
       "      <td>0.025315</td>\n",
       "      <td>-0.004279</td>\n",
       "      <td>-0.131207</td>\n",
       "      <td>0.036348</td>\n",
       "      <td>0.160946</td>\n",
       "      <td>0.141229</td>\n",
       "    </tr>\n",
       "    <tr>\n",
       "      <th>promSaldoBanco3Um</th>\n",
       "      <td>NaN</td>\n",
       "      <td>0.194485</td>\n",
       "      <td>0.204902</td>\n",
       "      <td>-0.016761</td>\n",
       "      <td>0.020387</td>\n",
       "      <td>0.636183</td>\n",
       "      <td>1.000000</td>\n",
       "      <td>0.588392</td>\n",
       "      <td>-0.008665</td>\n",
       "      <td>0.464796</td>\n",
       "      <td>0.006830</td>\n",
       "      <td>0.040614</td>\n",
       "      <td>-0.003004</td>\n",
       "      <td>-0.143459</td>\n",
       "      <td>0.036169</td>\n",
       "      <td>0.186828</td>\n",
       "      <td>0.165283</td>\n",
       "    </tr>\n",
       "    <tr>\n",
       "      <th>promSaldoTc3Um</th>\n",
       "      <td>NaN</td>\n",
       "      <td>0.126101</td>\n",
       "      <td>0.132936</td>\n",
       "      <td>0.006179</td>\n",
       "      <td>-0.028620</td>\n",
       "      <td>0.382488</td>\n",
       "      <td>0.588392</td>\n",
       "      <td>1.000000</td>\n",
       "      <td>0.026372</td>\n",
       "      <td>0.179378</td>\n",
       "      <td>0.004745</td>\n",
       "      <td>0.066440</td>\n",
       "      <td>-0.059104</td>\n",
       "      <td>-0.175450</td>\n",
       "      <td>0.029636</td>\n",
       "      <td>0.120938</td>\n",
       "      <td>0.041228</td>\n",
       "    </tr>\n",
       "    <tr>\n",
       "      <th>promSaldoPrest3Um</th>\n",
       "      <td>NaN</td>\n",
       "      <td>-0.029827</td>\n",
       "      <td>-0.031697</td>\n",
       "      <td>0.032891</td>\n",
       "      <td>-0.062407</td>\n",
       "      <td>0.013842</td>\n",
       "      <td>-0.008665</td>\n",
       "      <td>0.026372</td>\n",
       "      <td>1.000000</td>\n",
       "      <td>-0.044111</td>\n",
       "      <td>0.002445</td>\n",
       "      <td>-0.044820</td>\n",
       "      <td>-0.047462</td>\n",
       "      <td>-0.028625</td>\n",
       "      <td>0.010680</td>\n",
       "      <td>-0.044413</td>\n",
       "      <td>-0.056704</td>\n",
       "    </tr>\n",
       "    <tr>\n",
       "      <th>sowTcUm</th>\n",
       "      <td>NaN</td>\n",
       "      <td>0.288456</td>\n",
       "      <td>0.300753</td>\n",
       "      <td>-0.051487</td>\n",
       "      <td>0.077819</td>\n",
       "      <td>0.319349</td>\n",
       "      <td>0.464796</td>\n",
       "      <td>0.179378</td>\n",
       "      <td>-0.044111</td>\n",
       "      <td>1.000000</td>\n",
       "      <td>0.003750</td>\n",
       "      <td>0.051755</td>\n",
       "      <td>0.115831</td>\n",
       "      <td>-0.113367</td>\n",
       "      <td>0.023343</td>\n",
       "      <td>0.316751</td>\n",
       "      <td>0.297760</td>\n",
       "    </tr>\n",
       "    <tr>\n",
       "      <th>sowPrestUm</th>\n",
       "      <td>NaN</td>\n",
       "      <td>0.002188</td>\n",
       "      <td>0.002456</td>\n",
       "      <td>-0.000800</td>\n",
       "      <td>-0.001475</td>\n",
       "      <td>0.005354</td>\n",
       "      <td>0.006830</td>\n",
       "      <td>0.004745</td>\n",
       "      <td>0.002445</td>\n",
       "      <td>0.003750</td>\n",
       "      <td>1.000000</td>\n",
       "      <td>0.002087</td>\n",
       "      <td>-0.001352</td>\n",
       "      <td>-0.000189</td>\n",
       "      <td>0.001599</td>\n",
       "      <td>0.004644</td>\n",
       "      <td>0.002083</td>\n",
       "    </tr>\n",
       "    <tr>\n",
       "      <th>procedencia_number</th>\n",
       "      <td>NaN</td>\n",
       "      <td>0.067524</td>\n",
       "      <td>0.063512</td>\n",
       "      <td>0.016723</td>\n",
       "      <td>0.044224</td>\n",
       "      <td>0.025315</td>\n",
       "      <td>0.040614</td>\n",
       "      <td>0.066440</td>\n",
       "      <td>-0.044820</td>\n",
       "      <td>0.051755</td>\n",
       "      <td>0.002087</td>\n",
       "      <td>1.000000</td>\n",
       "      <td>-0.006800</td>\n",
       "      <td>-0.033044</td>\n",
       "      <td>-0.040131</td>\n",
       "      <td>0.069518</td>\n",
       "      <td>0.018885</td>\n",
       "    </tr>\n",
       "    <tr>\n",
       "      <th>rngEdad_number</th>\n",
       "      <td>NaN</td>\n",
       "      <td>0.160240</td>\n",
       "      <td>0.165435</td>\n",
       "      <td>0.082328</td>\n",
       "      <td>-0.113575</td>\n",
       "      <td>-0.004279</td>\n",
       "      <td>-0.003004</td>\n",
       "      <td>-0.059104</td>\n",
       "      <td>-0.047462</td>\n",
       "      <td>0.115831</td>\n",
       "      <td>-0.001352</td>\n",
       "      <td>-0.006800</td>\n",
       "      <td>1.000000</td>\n",
       "      <td>0.181091</td>\n",
       "      <td>-0.016770</td>\n",
       "      <td>0.244584</td>\n",
       "      <td>0.091765</td>\n",
       "    </tr>\n",
       "    <tr>\n",
       "      <th>rngSueldo_number</th>\n",
       "      <td>NaN</td>\n",
       "      <td>-0.084065</td>\n",
       "      <td>-0.090708</td>\n",
       "      <td>0.030900</td>\n",
       "      <td>-0.062271</td>\n",
       "      <td>-0.131207</td>\n",
       "      <td>-0.143459</td>\n",
       "      <td>-0.175450</td>\n",
       "      <td>-0.028625</td>\n",
       "      <td>-0.113367</td>\n",
       "      <td>-0.000189</td>\n",
       "      <td>-0.033044</td>\n",
       "      <td>0.181091</td>\n",
       "      <td>1.000000</td>\n",
       "      <td>-0.002499</td>\n",
       "      <td>-0.053944</td>\n",
       "      <td>-0.021990</td>\n",
       "    </tr>\n",
       "    <tr>\n",
       "      <th>genero_number</th>\n",
       "      <td>NaN</td>\n",
       "      <td>0.034307</td>\n",
       "      <td>0.034769</td>\n",
       "      <td>0.020724</td>\n",
       "      <td>-0.031337</td>\n",
       "      <td>0.036348</td>\n",
       "      <td>0.036169</td>\n",
       "      <td>0.029636</td>\n",
       "      <td>0.010680</td>\n",
       "      <td>0.023343</td>\n",
       "      <td>0.001599</td>\n",
       "      <td>-0.040131</td>\n",
       "      <td>-0.016770</td>\n",
       "      <td>-0.002499</td>\n",
       "      <td>1.000000</td>\n",
       "      <td>0.035957</td>\n",
       "      <td>0.022551</td>\n",
       "    </tr>\n",
       "    <tr>\n",
       "      <th>operDigital_number</th>\n",
       "      <td>NaN</td>\n",
       "      <td>0.636868</td>\n",
       "      <td>0.644558</td>\n",
       "      <td>-0.038662</td>\n",
       "      <td>0.075276</td>\n",
       "      <td>0.160946</td>\n",
       "      <td>0.186828</td>\n",
       "      <td>0.120938</td>\n",
       "      <td>-0.044413</td>\n",
       "      <td>0.316751</td>\n",
       "      <td>0.004644</td>\n",
       "      <td>0.069518</td>\n",
       "      <td>0.244584</td>\n",
       "      <td>-0.053944</td>\n",
       "      <td>0.035957</td>\n",
       "      <td>1.000000</td>\n",
       "      <td>0.341426</td>\n",
       "    </tr>\n",
       "    <tr>\n",
       "      <th>tenTarjeta_number</th>\n",
       "      <td>NaN</td>\n",
       "      <td>0.256958</td>\n",
       "      <td>0.267013</td>\n",
       "      <td>-0.088077</td>\n",
       "      <td>0.142099</td>\n",
       "      <td>0.141229</td>\n",
       "      <td>0.165283</td>\n",
       "      <td>0.041228</td>\n",
       "      <td>-0.056704</td>\n",
       "      <td>0.297760</td>\n",
       "      <td>0.002083</td>\n",
       "      <td>0.018885</td>\n",
       "      <td>0.091765</td>\n",
       "      <td>-0.021990</td>\n",
       "      <td>0.022551</td>\n",
       "      <td>0.341426</td>\n",
       "      <td>1.000000</td>\n",
       "    </tr>\n",
       "  </tbody>\n",
       "</table>\n",
       "</div>"
      ],
      "text/plain": [
       "                    mes  trxDigitalUm  promTrxDig3Um   recCamp  frecCamp  \\\n",
       "mes                 NaN           NaN            NaN       NaN       NaN   \n",
       "trxDigitalUm        NaN      1.000000       0.948522 -0.037273  0.071760   \n",
       "promTrxDig3Um       NaN      0.948522       1.000000 -0.041024  0.074780   \n",
       "recCamp             NaN     -0.037273      -0.041024  1.000000 -0.742052   \n",
       "frecCamp            NaN      0.071760       0.074780 -0.742052  1.000000   \n",
       "promConsBanco3Um    NaN      0.172104       0.182743 -0.009803  0.014387   \n",
       "promSaldoBanco3Um   NaN      0.194485       0.204902 -0.016761  0.020387   \n",
       "promSaldoTc3Um      NaN      0.126101       0.132936  0.006179 -0.028620   \n",
       "promSaldoPrest3Um   NaN     -0.029827      -0.031697  0.032891 -0.062407   \n",
       "sowTcUm             NaN      0.288456       0.300753 -0.051487  0.077819   \n",
       "sowPrestUm          NaN      0.002188       0.002456 -0.000800 -0.001475   \n",
       "procedencia_number  NaN      0.067524       0.063512  0.016723  0.044224   \n",
       "rngEdad_number      NaN      0.160240       0.165435  0.082328 -0.113575   \n",
       "rngSueldo_number    NaN     -0.084065      -0.090708  0.030900 -0.062271   \n",
       "genero_number       NaN      0.034307       0.034769  0.020724 -0.031337   \n",
       "operDigital_number  NaN      0.636868       0.644558 -0.038662  0.075276   \n",
       "tenTarjeta_number   NaN      0.256958       0.267013 -0.088077  0.142099   \n",
       "\n",
       "                    promConsBanco3Um  promSaldoBanco3Um  promSaldoTc3Um  \\\n",
       "mes                              NaN                NaN             NaN   \n",
       "trxDigitalUm                0.172104           0.194485        0.126101   \n",
       "promTrxDig3Um               0.182743           0.204902        0.132936   \n",
       "recCamp                    -0.009803          -0.016761        0.006179   \n",
       "frecCamp                    0.014387           0.020387       -0.028620   \n",
       "promConsBanco3Um            1.000000           0.636183        0.382488   \n",
       "promSaldoBanco3Um           0.636183           1.000000        0.588392   \n",
       "promSaldoTc3Um              0.382488           0.588392        1.000000   \n",
       "promSaldoPrest3Um           0.013842          -0.008665        0.026372   \n",
       "sowTcUm                     0.319349           0.464796        0.179378   \n",
       "sowPrestUm                  0.005354           0.006830        0.004745   \n",
       "procedencia_number          0.025315           0.040614        0.066440   \n",
       "rngEdad_number             -0.004279          -0.003004       -0.059104   \n",
       "rngSueldo_number           -0.131207          -0.143459       -0.175450   \n",
       "genero_number               0.036348           0.036169        0.029636   \n",
       "operDigital_number          0.160946           0.186828        0.120938   \n",
       "tenTarjeta_number           0.141229           0.165283        0.041228   \n",
       "\n",
       "                    promSaldoPrest3Um   sowTcUm  sowPrestUm  \\\n",
       "mes                               NaN       NaN         NaN   \n",
       "trxDigitalUm                -0.029827  0.288456    0.002188   \n",
       "promTrxDig3Um               -0.031697  0.300753    0.002456   \n",
       "recCamp                      0.032891 -0.051487   -0.000800   \n",
       "frecCamp                    -0.062407  0.077819   -0.001475   \n",
       "promConsBanco3Um             0.013842  0.319349    0.005354   \n",
       "promSaldoBanco3Um           -0.008665  0.464796    0.006830   \n",
       "promSaldoTc3Um               0.026372  0.179378    0.004745   \n",
       "promSaldoPrest3Um            1.000000 -0.044111    0.002445   \n",
       "sowTcUm                     -0.044111  1.000000    0.003750   \n",
       "sowPrestUm                   0.002445  0.003750    1.000000   \n",
       "procedencia_number          -0.044820  0.051755    0.002087   \n",
       "rngEdad_number              -0.047462  0.115831   -0.001352   \n",
       "rngSueldo_number            -0.028625 -0.113367   -0.000189   \n",
       "genero_number                0.010680  0.023343    0.001599   \n",
       "operDigital_number          -0.044413  0.316751    0.004644   \n",
       "tenTarjeta_number           -0.056704  0.297760    0.002083   \n",
       "\n",
       "                    procedencia_number  rngEdad_number  rngSueldo_number  \\\n",
       "mes                                NaN             NaN               NaN   \n",
       "trxDigitalUm                  0.067524        0.160240         -0.084065   \n",
       "promTrxDig3Um                 0.063512        0.165435         -0.090708   \n",
       "recCamp                       0.016723        0.082328          0.030900   \n",
       "frecCamp                      0.044224       -0.113575         -0.062271   \n",
       "promConsBanco3Um              0.025315       -0.004279         -0.131207   \n",
       "promSaldoBanco3Um             0.040614       -0.003004         -0.143459   \n",
       "promSaldoTc3Um                0.066440       -0.059104         -0.175450   \n",
       "promSaldoPrest3Um            -0.044820       -0.047462         -0.028625   \n",
       "sowTcUm                       0.051755        0.115831         -0.113367   \n",
       "sowPrestUm                    0.002087       -0.001352         -0.000189   \n",
       "procedencia_number            1.000000       -0.006800         -0.033044   \n",
       "rngEdad_number               -0.006800        1.000000          0.181091   \n",
       "rngSueldo_number             -0.033044        0.181091          1.000000   \n",
       "genero_number                -0.040131       -0.016770         -0.002499   \n",
       "operDigital_number            0.069518        0.244584         -0.053944   \n",
       "tenTarjeta_number             0.018885        0.091765         -0.021990   \n",
       "\n",
       "                    genero_number  operDigital_number  tenTarjeta_number  \n",
       "mes                           NaN                 NaN                NaN  \n",
       "trxDigitalUm             0.034307            0.636868           0.256958  \n",
       "promTrxDig3Um            0.034769            0.644558           0.267013  \n",
       "recCamp                  0.020724           -0.038662          -0.088077  \n",
       "frecCamp                -0.031337            0.075276           0.142099  \n",
       "promConsBanco3Um         0.036348            0.160946           0.141229  \n",
       "promSaldoBanco3Um        0.036169            0.186828           0.165283  \n",
       "promSaldoTc3Um           0.029636            0.120938           0.041228  \n",
       "promSaldoPrest3Um        0.010680           -0.044413          -0.056704  \n",
       "sowTcUm                  0.023343            0.316751           0.297760  \n",
       "sowPrestUm               0.001599            0.004644           0.002083  \n",
       "procedencia_number      -0.040131            0.069518           0.018885  \n",
       "rngEdad_number          -0.016770            0.244584           0.091765  \n",
       "rngSueldo_number        -0.002499           -0.053944          -0.021990  \n",
       "genero_number            1.000000            0.035957           0.022551  \n",
       "operDigital_number       0.035957            1.000000           0.341426  \n",
       "tenTarjeta_number        0.022551            0.341426           1.000000  "
      ]
     },
     "execution_count": 46,
     "metadata": {},
     "output_type": "execute_result"
    }
   ],
   "source": [
    "pdX_train.corr()"
   ]
  },
  {
   "cell_type": "markdown",
   "metadata": {
    "colab_type": "text",
    "id": "RQVJ-e8CO581"
   },
   "source": [
    "### determinar qué par de variables están correlacionadas"
   ]
  },
  {
   "cell_type": "code",
   "execution_count": 47,
   "metadata": {
    "colab": {
     "base_uri": "https://localhost:8080/",
     "height": 308
    },
    "colab_type": "code",
    "id": "9OGSLe_ztdac",
    "outputId": "5e2381d1-fed5-4eae-c4d0-766849a402c6"
   },
   "outputs": [
    {
     "name": "stdout",
     "output_type": "stream",
     "text": [
      "trxDigitalUm\n",
      "promTrxDig3Um         0.948522\n",
      "operDigital_number    0.636868\n",
      "Name: trxDigitalUm, dtype: float64\n",
      "\n",
      "\n",
      "promTrxDig3Um\n",
      "trxDigitalUm          0.948522\n",
      "operDigital_number    0.644558\n",
      "Name: promTrxDig3Um, dtype: float64\n",
      "\n",
      "\n",
      "recCamp\n",
      "frecCamp   -0.742052\n",
      "Name: recCamp, dtype: float64\n",
      "\n",
      "\n",
      "frecCamp\n",
      "recCamp   -0.742052\n",
      "Name: frecCamp, dtype: float64\n",
      "\n",
      "\n",
      "promConsBanco3Um\n",
      "promSaldoBanco3Um    0.636183\n",
      "Name: promConsBanco3Um, dtype: float64\n",
      "\n",
      "\n",
      "promSaldoBanco3Um\n",
      "promConsBanco3Um    0.636183\n",
      "promSaldoTc3Um      0.588392\n",
      "Name: promSaldoBanco3Um, dtype: float64\n",
      "\n",
      "\n",
      "promSaldoTc3Um\n",
      "promSaldoBanco3Um    0.588392\n",
      "Name: promSaldoTc3Um, dtype: float64\n",
      "\n",
      "\n",
      "operDigital_number\n",
      "trxDigitalUm     0.636868\n",
      "promTrxDig3Um    0.644558\n",
      "Name: operDigital_number, dtype: float64\n",
      "\n",
      "\n"
     ]
    }
   ],
   "source": [
    "for columnName in columnsToEvaluate:\n",
    "  dfPresDigital_corr = pdX_train.corr()[columnName]\n",
    "  df_numerical_most_corr = dfPresDigital_corr[(abs(dfPresDigital_corr) > 0.5) & (abs(dfPresDigital_corr) < 1.0)]\n",
    "  if df_numerical_most_corr.shape[0] > 0:\n",
    "    print(columnName)\n",
    "    print(df_numerical_most_corr)\n",
    "    print(\"\\n\")"
   ]
  },
  {
   "cell_type": "markdown",
   "metadata": {
    "colab_type": "text",
    "id": "qTE3QuHMv8fj"
   },
   "source": [
    "Obtenemos el valor de significacia de cada variable"
   ]
  },
  {
   "cell_type": "markdown",
   "metadata": {
    "colab_type": "text",
    "id": "FUj6_fUPO8QV"
   },
   "source": [
    "### estudiar los pares de variables correlacionadas para quedarse solamente con una del par"
   ]
  },
  {
   "cell_type": "code",
   "execution_count": 48,
   "metadata": {
    "colab": {
     "base_uri": "https://localhost:8080/",
     "height": 126
    },
    "colab_type": "code",
    "id": "QG9eWT7lxhYs",
    "outputId": "76a0340c-6283-4251-ec72-2bc993f8e507"
   },
   "outputs": [
    {
     "name": "stdout",
     "output_type": "stream",
     "text": [
      "                  promConsBanco3Um    target\n",
      "promConsBanco3Um          1.000000  0.014541\n",
      "target                    0.014541  1.000000\n",
      "                   promSaldoBanco3Um    target\n",
      "promSaldoBanco3Um           1.000000  0.018538\n",
      "target                      0.018538  1.000000\n"
     ]
    }
   ],
   "source": [
    "pd1 = pdX_train.join(pd.DataFrame(y_train, columns = [\"target\"]))\n",
    "print(pd1[[\"promConsBanco3Um\", \"target\"]].corr())\n",
    "print(pd1[[\"promSaldoBanco3Um\", \"target\"]].corr())"
   ]
  },
  {
   "cell_type": "markdown",
   "metadata": {
    "colab_type": "text",
    "id": "il_c_Gf111Zc"
   },
   "source": [
    "Eliminamos \"change_number\" y con esto todas las correlaciones se resuelven"
   ]
  },
  {
   "cell_type": "code",
   "execution_count": 61,
   "metadata": {
    "colab": {},
    "colab_type": "code",
    "id": "H-HxIizY17-a"
   },
   "outputs": [],
   "source": [
    "columnsToEvaluate.remove(\"change_number\")"
   ]
  },
  {
   "cell_type": "markdown",
   "metadata": {
    "colab_type": "text",
    "id": "Ot8ytwqIOjyh"
   },
   "source": [
    "# 8. Modelado y Evaluación:"
   ]
  },
  {
   "cell_type": "markdown",
   "metadata": {
    "colab_type": "text",
    "id": "FWLJrQBJNw9v"
   },
   "source": [
    "### Estandarizar variables"
   ]
  },
  {
   "cell_type": "code",
   "execution_count": 62,
   "metadata": {
    "colab": {},
    "colab_type": "code",
    "id": "c_ayWKmRObA8"
   },
   "outputs": [],
   "source": [
    "#Ya está Estandarizado"
   ]
  },
  {
   "cell_type": "markdown",
   "metadata": {},
   "source": [
    "### 8.0 Random Forest (selección de variables):"
   ]
  },
  {
   "cell_type": "code",
   "execution_count": 49,
   "metadata": {},
   "outputs": [
    {
     "name": "stderr",
     "output_type": "stream",
     "text": [
      "C:\\Anaconda3\\lib\\site-packages\\ipykernel_launcher.py:4: DataConversionWarning: A column-vector y was passed when a 1d array was expected. Please change the shape of y to (n_samples,), for example using ravel().\n",
      "  after removing the cwd from sys.path.\n"
     ]
    }
   ],
   "source": [
    "rf = RandomForestClassifier(n_estimators = 10, random_state = 3)\n",
    "\n",
    "# Entrenamiento del modelo\n",
    "rf.fit(pdX_train[columnsToEvaluate], y_train);"
   ]
  },
  {
   "cell_type": "code",
   "execution_count": 50,
   "metadata": {},
   "outputs": [],
   "source": [
    "# Extrayendo la importancia de variables:\n",
    "importances = list(rf.feature_importances_)"
   ]
  },
  {
   "cell_type": "code",
   "execution_count": 51,
   "metadata": {},
   "outputs": [
    {
     "name": "stdout",
     "output_type": "stream",
     "text": [
      "Variable: promTrxDig3Um                  Importance: 0.19\n",
      "Variable: promSaldoTc3Um                 Importance: 0.18\n",
      "Variable: trxDigitalUm                   Importance: 0.16\n",
      "Variable: promSaldoPrest3Um              Importance: 0.1\n",
      "Variable: promConsBanco3Um               Importance: 0.08\n",
      "Variable: promSaldoBanco3Um              Importance: 0.07\n",
      "Variable: sowTcUm                        Importance: 0.04\n",
      "Variable: rngEdad_number                 Importance: 0.03\n",
      "Variable: rngSueldo_number               Importance: 0.03\n",
      "Variable: operDigital_number             Importance: 0.03\n",
      "Variable: frecCamp                       Importance: 0.02\n",
      "Variable: procedencia_number             Importance: 0.02\n",
      "Variable: tenTarjeta_number              Importance: 0.02\n",
      "Variable: recCamp                        Importance: 0.01\n",
      "Variable: genero_number                  Importance: 0.01\n",
      "Variable: mes                            Importance: 0.0\n",
      "Variable: sowPrestUm                     Importance: 0.0\n"
     ]
    }
   ],
   "source": [
    "# Ubicamos a la importancia y nombre de varoables en una lista\n",
    "feature_importances = [(feature, round(importance, 2)) for feature, importance in zip(columnsToEvaluate, importances)]\n",
    "\n",
    "# Ordenamos las variables conforme al grado de importancia\n",
    "feature_importances = sorted(feature_importances, key = lambda x: x[1], reverse = True)\n",
    "\n",
    "# Visualizamos la importancia de las variables:\n",
    "[print('Variable: {:30} Importance: {}'.format(*pair)) for pair in feature_importances];"
   ]
  },
  {
   "cell_type": "markdown",
   "metadata": {
    "colab_type": "text",
    "id": "j2yxlQTVNxAS"
   },
   "source": [
    "### 8.1 Regresión Logística:"
   ]
  },
  {
   "cell_type": "code",
   "execution_count": 52,
   "metadata": {
    "colab": {},
    "colab_type": "code",
    "id": "UZ6mYNpPOWiz"
   },
   "outputs": [
    {
     "name": "stderr",
     "output_type": "stream",
     "text": [
      "C:\\Anaconda3\\lib\\site-packages\\sklearn\\utils\\validation.py:578: DataConversionWarning: A column-vector y was passed when a 1d array was expected. Please change the shape of y to (n_samples, ), for example using ravel().\n",
      "  y = column_or_1d(y, warn=True)\n"
     ]
    },
    {
     "data": {
      "text/plain": [
       "LogisticRegression(C=1.0, class_weight=None, dual=False, fit_intercept=True,\n",
       "          intercept_scaling=1, max_iter=100, multi_class='ovr', n_jobs=1,\n",
       "          penalty='l2', random_state=None, solver='liblinear', tol=0.0001,\n",
       "          verbose=0, warm_start=False)"
      ]
     },
     "execution_count": 52,
     "metadata": {},
     "output_type": "execute_result"
    }
   ],
   "source": [
    "# Regresión Logístico:\n",
    "classifier = LogisticRegression()\n",
    "classifier.fit(pdX_train[columnsToEvaluate], y_train)"
   ]
  },
  {
   "cell_type": "markdown",
   "metadata": {},
   "source": [
    "Predicción:"
   ]
  },
  {
   "cell_type": "code",
   "execution_count": 54,
   "metadata": {},
   "outputs": [],
   "source": [
    "prediction_train = classifier.score(pdX_train[columnsToEvaluate], y_train)\n",
    "prediction_test = classifier.score(pdX_test[columnsToEvaluate], y_test)"
   ]
  },
  {
   "cell_type": "code",
   "execution_count": 55,
   "metadata": {
    "colab": {
     "base_uri": "https://localhost:8080/",
     "height": 110
    },
    "colab_type": "code",
    "id": "B1z1F0BnEhd2",
    "outputId": "48b62b78-40b4-4edd-8f50-2677a923b8f0"
   },
   "outputs": [
    {
     "name": "stdout",
     "output_type": "stream",
     "text": [
      "--------------------------\n",
      "    Indicador Training\n",
      "--------------------------\n",
      "\n",
      "Regresión logística - AUC: 99.7%\n",
      "Regresión logística - F1: 0.0%\n",
      "\n",
      "--------------------------\n",
      "    Indicador Testing\n",
      "--------------------------\n",
      "\n",
      "Regresión logística - AUC: 99.7%\n",
      "Regresión logística - F1: 0.0%\n"
     ]
    }
   ],
   "source": [
    "print('--------------------------')\n",
    "print('    Indicador Training')\n",
    "print('--------------------------\\n')\n",
    "print(\"Regresión logística - AUC: \" + str(np.round(prediction_train * 100, 1)) + \"%\")\n",
    "y_pred = classifier.predict(pdX_train[columnsToEvaluate])\n",
    "print(\"Regresión logística - F1: \" + str(np.round(f1_score(y_train, y_pred) * 100, 1)) + \"%\")\n",
    "\n",
    "print('\\n--------------------------')\n",
    "print('    Indicador Testing')\n",
    "print('--------------------------\\n')\n",
    "print(\"Regresión logística - AUC: \" + str(np.round(prediction_test * 100, 1)) + \"%\")\n",
    "y_pred = classifier.predict(pdX_test[columnsToEvaluate])\n",
    "print(\"Regresión logística - F1: \" + str(np.round(f1_score(y_test, y_pred) * 100, 1)) + \"%\")"
   ]
  },
  {
   "cell_type": "markdown",
   "metadata": {
    "colab_type": "text",
    "id": "LinmkOKqCmHj"
   },
   "source": [
    "### 8.2 Arboles de Decisiones:"
   ]
  },
  {
   "cell_type": "code",
   "execution_count": 56,
   "metadata": {},
   "outputs": [
    {
     "data": {
      "text/plain": [
       "DecisionTreeClassifier(class_weight=None, criterion='gini', max_depth=10,\n",
       "            max_features=None, max_leaf_nodes=None,\n",
       "            min_impurity_decrease=0.0, min_impurity_split=None,\n",
       "            min_samples_leaf=1, min_samples_split=2,\n",
       "            min_weight_fraction_leaf=0.0, presort=False, random_state=None,\n",
       "            splitter='best')"
      ]
     },
     "execution_count": 56,
     "metadata": {},
     "output_type": "execute_result"
    }
   ],
   "source": [
    "reg = DecisionTreeClassifier(max_depth = 10)\n",
    "reg.fit(pdX_train[columnsToEvaluate], y_train)"
   ]
  },
  {
   "cell_type": "code",
   "execution_count": 57,
   "metadata": {},
   "outputs": [],
   "source": [
    "prediction2_train = reg.score(pdX_train[columnsToEvaluate], y_train)\n",
    "prediction2_test = reg.score(pdX_test[columnsToEvaluate], y_test)"
   ]
  },
  {
   "cell_type": "code",
   "execution_count": 58,
   "metadata": {
    "colab": {
     "base_uri": "https://localhost:8080/",
     "height": 54
    },
    "colab_type": "code",
    "id": "xKXYl8zfClgO",
    "outputId": "46c7126a-e2f5-4fa4-d4dd-2ee9d43a895c"
   },
   "outputs": [
    {
     "name": "stdout",
     "output_type": "stream",
     "text": [
      "\n",
      "--------------------------\n",
      "    Indicador Training\n",
      "--------------------------\n",
      "\n",
      "Árbol de decisión - AUC: 99.8%\n",
      "Árbol de decisión - F1: 24.9%\n",
      "\n",
      "--------------------------\n",
      "    Indicador Testing\n",
      "--------------------------\n",
      "\n",
      "Árbol de decisión - AUC: 99.7%\n",
      "Árbol de decisión - F1: 0.5%\n"
     ]
    }
   ],
   "source": [
    "print('\\n--------------------------')\n",
    "print('    Indicador Training')\n",
    "print('--------------------------\\n')\n",
    "print(\"Árbol de decisión - AUC: \" + str(np.round(prediction2_train * 100, 1)) + \"%\")\n",
    "y_pred = reg.predict(pdX_train[columnsToEvaluate])\n",
    "print(\"Árbol de decisión - F1: \" + str(np.round(f1_score(y_train, y_pred) * 100, 1)) + \"%\")\n",
    "\n",
    "print('\\n--------------------------')\n",
    "print('    Indicador Testing')\n",
    "print('--------------------------\\n')\n",
    "print(\"Árbol de decisión - AUC: \" + str(np.round(prediction2_test * 100, 1)) + \"%\")\n",
    "y_pred = reg.predict(pdX_test[columnsToEvaluate])\n",
    "print(\"Árbol de decisión - F1: \" + str(np.round(f1_score(y_test, y_pred) * 100, 1)) + \"%\")"
   ]
  },
  {
   "cell_type": "markdown",
   "metadata": {
    "colab_type": "text",
    "id": "9Ee6XkjHOgOQ"
   },
   "source": [
    "### 8.3 Modelo GBoosting:"
   ]
  },
  {
   "cell_type": "code",
   "execution_count": 59,
   "metadata": {},
   "outputs": [
    {
     "name": "stderr",
     "output_type": "stream",
     "text": [
      "C:\\Anaconda3\\lib\\site-packages\\sklearn\\utils\\validation.py:578: DataConversionWarning: A column-vector y was passed when a 1d array was expected. Please change the shape of y to (n_samples, ), for example using ravel().\n",
      "  y = column_or_1d(y, warn=True)\n"
     ]
    },
    {
     "data": {
      "text/plain": [
       "GradientBoostingClassifier(criterion='friedman_mse', init=None,\n",
       "              learning_rate=0.4, loss='deviance', max_depth=4,\n",
       "              max_features=None, max_leaf_nodes=None,\n",
       "              min_impurity_decrease=0.0, min_impurity_split=None,\n",
       "              min_samples_leaf=1, min_samples_split=2,\n",
       "              min_weight_fraction_leaf=0.0, n_estimators=200,\n",
       "              presort='auto', random_state=None, subsample=1.0, verbose=0,\n",
       "              warm_start=False)"
      ]
     },
     "execution_count": 59,
     "metadata": {},
     "output_type": "execute_result"
    }
   ],
   "source": [
    "clf = GradientBoostingClassifier(n_estimators=200, max_depth = 4, learning_rate = .4)\n",
    "clf.fit(pdX_train[columnsToEvaluate], pdy_train)"
   ]
  },
  {
   "cell_type": "code",
   "execution_count": 60,
   "metadata": {},
   "outputs": [],
   "source": [
    "prediction3_train = clf.score(pdX_train[columnsToEvaluate], pdy_train)\n",
    "prediction3_test = clf.score(pdX_test[columnsToEvaluate], pdy_test)"
   ]
  },
  {
   "cell_type": "code",
   "execution_count": 61,
   "metadata": {
    "colab": {
     "base_uri": "https://localhost:8080/",
     "height": 110
    },
    "colab_type": "code",
    "id": "KSI3azFuEMJX",
    "outputId": "82d80370-bb72-4413-9571-5bbe25808916"
   },
   "outputs": [
    {
     "name": "stdout",
     "output_type": "stream",
     "text": [
      "\n",
      "--------------------------\n",
      "    Indicador Training\n",
      "--------------------------\n",
      "\n",
      "Modelo GBoost - AUC: 99.8%\n",
      "Modelo GBoost - F1: 39.6%\n",
      "\n",
      "--------------------------\n",
      "    Indicador Testing\n",
      "--------------------------\n",
      "\n",
      "Modelo GBoost - AUC: 99.7%\n",
      "Modelo GBoost - F1: 0.9%\n"
     ]
    }
   ],
   "source": [
    "print('\\n--------------------------')\n",
    "print('    Indicador Training')\n",
    "print('--------------------------\\n')\n",
    "print(\"Modelo GBoost - AUC: \" + str(np.round(prediction3_train * 100, 1)) + \"%\")\n",
    "y_pred = clf.predict(pdX_train[columnsToEvaluate])\n",
    "print(\"Modelo GBoost - F1: \" + str(np.round(f1_score(y_train, y_pred) * 100, 1)) + \"%\")\n",
    "\n",
    "print('\\n--------------------------')\n",
    "print('    Indicador Testing')\n",
    "print('--------------------------\\n')\n",
    "print(\"Modelo GBoost - AUC: \" + str(np.round(prediction3_test * 100, 1)) + \"%\")\n",
    "y_pred = clf.predict(pdX_test[columnsToEvaluate])\n",
    "print(\"Modelo GBoost - F1: \" + str(np.round(f1_score(y_test, y_pred) * 100, 1)) + \"%\")"
   ]
  },
  {
   "cell_type": "markdown",
   "metadata": {
    "colab_type": "text",
    "id": "P07Us_uINxCo"
   },
   "source": [
    "## 9. Decisión:"
   ]
  },
  {
   "cell_type": "markdown",
   "metadata": {
    "colab_type": "text",
    "id": "ST4-kjsCtmUf"
   },
   "source": [
    "De las ejecuciones hechas el mejor indicador sería el GBUST"
   ]
  },
  {
   "cell_type": "code",
   "execution_count": 62,
   "metadata": {
    "colab": {
     "base_uri": "https://localhost:8080/",
     "height": 35
    },
    "colab_type": "code",
    "id": "KQS9dBo3OEu6",
    "outputId": "065c6f12-4a0c-4c2f-aeb4-354044f6afaa"
   },
   "outputs": [
    {
     "name": "stdout",
     "output_type": "stream",
     "text": [
      "Mejor modelo => GBoost - AUC: 99.7%\n"
     ]
    }
   ],
   "source": [
    "print(\"Mejor modelo => GBoost - AUC: \" + str(np.round(prediction3_test * 100, 1)) + \"%\")"
   ]
  },
  {
   "cell_type": "markdown",
   "metadata": {},
   "source": [
    "## 10. Réplica del modelo elegido:"
   ]
  },
  {
   "cell_type": "code",
   "execution_count": 63,
   "metadata": {},
   "outputs": [],
   "source": [
    "# Luego de la elección del mejor modelo:\n",
    "prediction = classifier.predict(pdX_train[columnsToEvaluate])"
   ]
  },
  {
   "cell_type": "code",
   "execution_count": 64,
   "metadata": {},
   "outputs": [
    {
     "data": {
      "text/html": [
       "<div>\n",
       "<style scoped>\n",
       "    .dataframe tbody tr th:only-of-type {\n",
       "        vertical-align: middle;\n",
       "    }\n",
       "\n",
       "    .dataframe tbody tr th {\n",
       "        vertical-align: top;\n",
       "    }\n",
       "\n",
       "    .dataframe thead th {\n",
       "        text-align: right;\n",
       "    }\n",
       "</style>\n",
       "<table border=\"1\" class=\"dataframe\">\n",
       "  <thead>\n",
       "    <tr style=\"text-align: right;\">\n",
       "      <th></th>\n",
       "      <th>mes</th>\n",
       "      <th>trxDigitalUm</th>\n",
       "      <th>promTrxDig3Um</th>\n",
       "      <th>recCamp</th>\n",
       "      <th>frecCamp</th>\n",
       "      <th>promConsBanco3Um</th>\n",
       "      <th>promSaldoBanco3Um</th>\n",
       "      <th>promSaldoTc3Um</th>\n",
       "      <th>promSaldoPrest3Um</th>\n",
       "      <th>sowTcUm</th>\n",
       "      <th>sowPrestUm</th>\n",
       "      <th>procedencia_number</th>\n",
       "      <th>rngEdad_number</th>\n",
       "      <th>rngSueldo_number</th>\n",
       "      <th>genero_number</th>\n",
       "      <th>operDigital_number</th>\n",
       "      <th>tenTarjeta_number</th>\n",
       "      <th>target</th>\n",
       "      <th>prediction</th>\n",
       "    </tr>\n",
       "  </thead>\n",
       "  <tbody>\n",
       "    <tr>\n",
       "      <th>0</th>\n",
       "      <td>0.0</td>\n",
       "      <td>-0.331530</td>\n",
       "      <td>-0.341882</td>\n",
       "      <td>-0.441530</td>\n",
       "      <td>0.924803</td>\n",
       "      <td>-0.178059</td>\n",
       "      <td>-0.193919</td>\n",
       "      <td>0.326282</td>\n",
       "      <td>-0.214486</td>\n",
       "      <td>-0.36395</td>\n",
       "      <td>-0.001516</td>\n",
       "      <td>0.002893</td>\n",
       "      <td>0.004619</td>\n",
       "      <td>0.003346</td>\n",
       "      <td>0.002047</td>\n",
       "      <td>0.000671</td>\n",
       "      <td>0.003154</td>\n",
       "      <td>0</td>\n",
       "      <td>0</td>\n",
       "    </tr>\n",
       "    <tr>\n",
       "      <th>1</th>\n",
       "      <td>0.0</td>\n",
       "      <td>1.863002</td>\n",
       "      <td>0.479540</td>\n",
       "      <td>-0.441530</td>\n",
       "      <td>0.924803</td>\n",
       "      <td>-0.178059</td>\n",
       "      <td>-0.193919</td>\n",
       "      <td>-0.052693</td>\n",
       "      <td>-0.214486</td>\n",
       "      <td>-0.36395</td>\n",
       "      <td>-0.001516</td>\n",
       "      <td>0.002681</td>\n",
       "      <td>0.000808</td>\n",
       "      <td>0.001947</td>\n",
       "      <td>0.002047</td>\n",
       "      <td>0.013022</td>\n",
       "      <td>0.003154</td>\n",
       "      <td>0</td>\n",
       "      <td>0</td>\n",
       "    </tr>\n",
       "    <tr>\n",
       "      <th>2</th>\n",
       "      <td>0.0</td>\n",
       "      <td>-0.331530</td>\n",
       "      <td>-0.341882</td>\n",
       "      <td>2.273848</td>\n",
       "      <td>-1.684784</td>\n",
       "      <td>-0.178059</td>\n",
       "      <td>-0.193919</td>\n",
       "      <td>-0.389206</td>\n",
       "      <td>0.054200</td>\n",
       "      <td>-0.36395</td>\n",
       "      <td>-0.001516</td>\n",
       "      <td>0.002681</td>\n",
       "      <td>0.001789</td>\n",
       "      <td>0.003346</td>\n",
       "      <td>0.003336</td>\n",
       "      <td>0.000671</td>\n",
       "      <td>0.003154</td>\n",
       "      <td>0</td>\n",
       "      <td>0</td>\n",
       "    </tr>\n",
       "    <tr>\n",
       "      <th>3</th>\n",
       "      <td>0.0</td>\n",
       "      <td>-0.331530</td>\n",
       "      <td>-0.341882</td>\n",
       "      <td>-0.441530</td>\n",
       "      <td>0.924803</td>\n",
       "      <td>-0.178059</td>\n",
       "      <td>-0.193919</td>\n",
       "      <td>-0.374581</td>\n",
       "      <td>-0.214486</td>\n",
       "      <td>-0.36395</td>\n",
       "      <td>-0.001516</td>\n",
       "      <td>0.002681</td>\n",
       "      <td>0.001789</td>\n",
       "      <td>0.003346</td>\n",
       "      <td>0.002047</td>\n",
       "      <td>0.000671</td>\n",
       "      <td>0.003154</td>\n",
       "      <td>0</td>\n",
       "      <td>0</td>\n",
       "    </tr>\n",
       "    <tr>\n",
       "      <th>4</th>\n",
       "      <td>0.0</td>\n",
       "      <td>-0.331530</td>\n",
       "      <td>-0.341882</td>\n",
       "      <td>-0.441530</td>\n",
       "      <td>0.924803</td>\n",
       "      <td>-0.172856</td>\n",
       "      <td>-0.184429</td>\n",
       "      <td>-0.009763</td>\n",
       "      <td>-0.214486</td>\n",
       "      <td>-0.36395</td>\n",
       "      <td>-0.001516</td>\n",
       "      <td>0.002681</td>\n",
       "      <td>0.000808</td>\n",
       "      <td>0.001947</td>\n",
       "      <td>0.002047</td>\n",
       "      <td>0.000671</td>\n",
       "      <td>0.004553</td>\n",
       "      <td>0</td>\n",
       "      <td>0</td>\n",
       "    </tr>\n",
       "  </tbody>\n",
       "</table>\n",
       "</div>"
      ],
      "text/plain": [
       "   mes  trxDigitalUm  promTrxDig3Um   recCamp  frecCamp  promConsBanco3Um  \\\n",
       "0  0.0     -0.331530      -0.341882 -0.441530  0.924803         -0.178059   \n",
       "1  0.0      1.863002       0.479540 -0.441530  0.924803         -0.178059   \n",
       "2  0.0     -0.331530      -0.341882  2.273848 -1.684784         -0.178059   \n",
       "3  0.0     -0.331530      -0.341882 -0.441530  0.924803         -0.178059   \n",
       "4  0.0     -0.331530      -0.341882 -0.441530  0.924803         -0.172856   \n",
       "\n",
       "   promSaldoBanco3Um  promSaldoTc3Um  promSaldoPrest3Um  sowTcUm  sowPrestUm  \\\n",
       "0          -0.193919        0.326282          -0.214486 -0.36395   -0.001516   \n",
       "1          -0.193919       -0.052693          -0.214486 -0.36395   -0.001516   \n",
       "2          -0.193919       -0.389206           0.054200 -0.36395   -0.001516   \n",
       "3          -0.193919       -0.374581          -0.214486 -0.36395   -0.001516   \n",
       "4          -0.184429       -0.009763          -0.214486 -0.36395   -0.001516   \n",
       "\n",
       "   procedencia_number  rngEdad_number  rngSueldo_number  genero_number  \\\n",
       "0            0.002893        0.004619          0.003346       0.002047   \n",
       "1            0.002681        0.000808          0.001947       0.002047   \n",
       "2            0.002681        0.001789          0.003346       0.003336   \n",
       "3            0.002681        0.001789          0.003346       0.002047   \n",
       "4            0.002681        0.000808          0.001947       0.002047   \n",
       "\n",
       "   operDigital_number  tenTarjeta_number  target  prediction  \n",
       "0            0.000671           0.003154       0           0  \n",
       "1            0.013022           0.003154       0           0  \n",
       "2            0.000671           0.003154       0           0  \n",
       "3            0.000671           0.003154       0           0  \n",
       "4            0.000671           0.004553       0           0  "
      ]
     },
     "execution_count": 64,
     "metadata": {},
     "output_type": "execute_result"
    }
   ],
   "source": [
    "dataBaseFinal = pdX_train[columnsToEvaluate] \n",
    "dataBaseFinal['target'] = pd.DataFrame(y_train)\n",
    "dataBaseFinal['prediction'] = pd.DataFrame(prediction)\n",
    "dataBaseFinal.head()"
   ]
  },
  {
   "cell_type": "code",
   "execution_count": null,
   "metadata": {},
   "outputs": [],
   "source": []
  }
 ],
 "metadata": {
  "colab": {
   "collapsed_sections": [],
   "name": "ws_python_01_oscar_dueñas_jean_perez.ipynb",
   "provenance": [],
   "version": "0.3.2"
  },
  "kernelspec": {
   "display_name": "Python 3",
   "language": "python",
   "name": "python3"
  },
  "language_info": {
   "codemirror_mode": {
    "name": "ipython",
    "version": 3
   },
   "file_extension": ".py",
   "mimetype": "text/x-python",
   "name": "python",
   "nbconvert_exporter": "python",
   "pygments_lexer": "ipython3",
   "version": "3.6.5"
  }
 },
 "nbformat": 4,
 "nbformat_minor": 1
}
