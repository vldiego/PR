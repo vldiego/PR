{
 "cells": [
  {
   "cell_type": "markdown",
   "metadata": {
    "colab_type": "text",
    "id": "yGGIKXhaNgIg"
   },
   "source": [
    "# Introducción Machine Learning en Python\n",
    "\n",
    "Cargamos datasets con información de admisiones a hospitales de enfermos de diabetes. El objetivo es, una vez limpiado el dataset, estudiarlo para extraer el máximo número de insights de los datos."
   ]
  },
  {
   "cell_type": "markdown",
   "metadata": {
    "colab_type": "text",
    "id": "gPI_r24KN1U3"
   },
   "source": [
    "## 1. Cargar librerías"
   ]
  },
  {
   "cell_type": "code",
   "execution_count": 1,
   "metadata": {
    "colab": {},
    "colab_type": "code",
    "id": "sfrqUMiBM6_5",
    "outputId": "c38420e2-9457-4e54-bb77-882b5c422b28"
   },
   "outputs": [
    {
     "name": "stderr",
     "output_type": "stream",
     "text": [
      "C:\\Anaconda3\\lib\\site-packages\\sklearn\\cross_validation.py:41: DeprecationWarning: This module was deprecated in version 0.18 in favor of the model_selection module into which all the refactored classes and functions are moved. Also note that the interface of the new CV iterators are different from that of this module. This module will be removed in 0.20.\n",
      "  \"This module will be removed in 0.20.\", DeprecationWarning)\n",
      "C:\\Anaconda3\\lib\\site-packages\\sklearn\\grid_search.py:42: DeprecationWarning: This module was deprecated in version 0.18 in favor of the model_selection module into which all the refactored classes and functions are moved. This module will be removed in 0.20.\n",
      "  DeprecationWarning)\n"
     ]
    }
   ],
   "source": [
    "%matplotlib inline\n",
    "\n",
    "import re\n",
    "import random\n",
    "from collections import Counter\n",
    "\n",
    "import pandas as pd\n",
    "import numpy as np\n",
    "import matplotlib.pyplot as plt\n",
    "import seaborn as sns\n",
    "from scipy.stats import kstest\n",
    "sns.set(color_codes=True)\n",
    "\n",
    "from sklearn.preprocessing import MinMaxScaler\n",
    "from sklearn.cross_validation import train_test_split\n",
    "from sklearn.linear_model import LogisticRegression\n",
    "from sklearn.ensemble import RandomForestClassifier, GradientBoostingClassifier\n",
    "from sklearn.cross_validation import train_test_split\n",
    "from sklearn.metrics import  roc_curve, auc, silhouette_score, recall_score, precision_score, confusion_matrix, make_scorer\n",
    "from sklearn.grid_search import GridSearchCV, ParameterGrid\n",
    "from sklearn.cluster import KMeans\n",
    "from sklearn import preprocessing\n",
    "from sklearn.model_selection import train_test_split\n",
    "from sklearn.linear_model import LogisticRegression\n",
    "from sklearn.ensemble import GradientBoostingClassifier\n",
    "from sklearn.model_selection import cross_val_score\n",
    "from sklearn.tree import DecisionTreeClassifier\n",
    "from sklearn.metrics import f1_score, precision_score, recall_score, auc"
   ]
  },
  {
   "cell_type": "markdown",
   "metadata": {
    "colab_type": "text",
    "id": "MCEIEivYN6Fe"
   },
   "source": [
    "## 2. Lectura de datos"
   ]
  },
  {
   "cell_type": "code",
   "execution_count": 2,
   "metadata": {},
   "outputs": [],
   "source": [
    "dfDiabetes = pd.read_csv(\"data/diabetic_data.csv\")\n",
    "dfAdmissionSource = pd.read_csv(\"data/admission_source_id.csv\")\n",
    "dfAdmissionType = pd.read_csv(\"data/admission_type_id.csv\")\n",
    "dfDischargeDisposition = pd.read_csv(\"data/discharge_disposition_id.csv\")"
   ]
  },
  {
   "cell_type": "code",
   "execution_count": 3,
   "metadata": {},
   "outputs": [
    {
     "name": "stdout",
     "output_type": "stream",
     "text": [
      "<class 'pandas.core.frame.DataFrame'>\n",
      "RangeIndex: 101766 entries, 0 to 101765\n",
      "Data columns (total 50 columns):\n",
      "encounter_id                101766 non-null int64\n",
      "patient_nbr                 101766 non-null int64\n",
      "race                        101766 non-null object\n",
      "gender                      101766 non-null object\n",
      "age                         101766 non-null object\n",
      "weight                      101766 non-null object\n",
      "admission_type_id           101766 non-null int64\n",
      "discharge_disposition_id    101766 non-null int64\n",
      "admission_source_id         101766 non-null int64\n",
      "time_in_hospital            101766 non-null int64\n",
      "payer_code                  101766 non-null object\n",
      "medical_specialty           101766 non-null object\n",
      "num_lab_procedures          101766 non-null int64\n",
      "num_procedures              101766 non-null int64\n",
      "num_medications             101766 non-null int64\n",
      "number_outpatient           101766 non-null int64\n",
      "number_emergency            101766 non-null int64\n",
      "number_inpatient            101766 non-null int64\n",
      "diag_1                      101766 non-null object\n",
      "diag_2                      101766 non-null object\n",
      "diag_3                      101766 non-null object\n",
      "number_diagnoses            101766 non-null int64\n",
      "max_glu_serum               101766 non-null object\n",
      "A1Cresult                   101766 non-null object\n",
      "metformin                   101766 non-null object\n",
      "repaglinide                 101766 non-null object\n",
      "nateglinide                 101766 non-null object\n",
      "chlorpropamide              101766 non-null object\n",
      "glimepiride                 101766 non-null object\n",
      "acetohexamide               101766 non-null object\n",
      "glipizide                   101766 non-null object\n",
      "glyburide                   101766 non-null object\n",
      "tolbutamide                 101766 non-null object\n",
      "pioglitazone                101766 non-null object\n",
      "rosiglitazone               101766 non-null object\n",
      "acarbose                    101766 non-null object\n",
      "miglitol                    101766 non-null object\n",
      "troglitazone                101766 non-null object\n",
      "tolazamide                  101766 non-null object\n",
      "examide                     101766 non-null object\n",
      "citoglipton                 101766 non-null object\n",
      "insulin                     101766 non-null object\n",
      "glyburide-metformin         101766 non-null object\n",
      "glipizide-metformin         101766 non-null object\n",
      "glimepiride-pioglitazone    101766 non-null object\n",
      "metformin-rosiglitazone     101766 non-null object\n",
      "metformin-pioglitazone      101766 non-null object\n",
      "change                      101766 non-null object\n",
      "diabetesMed                 101766 non-null object\n",
      "readmitted                  101766 non-null object\n",
      "dtypes: int64(13), object(37)\n",
      "memory usage: 38.8+ MB\n"
     ]
    }
   ],
   "source": [
    "dfDiabetes.info()"
   ]
  },
  {
   "cell_type": "markdown",
   "metadata": {
    "colab_type": "text",
    "id": "0jb6RtHnN835"
   },
   "source": [
    "### comprobar correcta lectura de los datos"
   ]
  },
  {
   "cell_type": "code",
   "execution_count": 4,
   "metadata": {
    "colab": {
     "base_uri": "https://localhost:8080/",
     "height": 256
    },
    "colab_type": "code",
    "id": "1ZVu1dH0PUAL",
    "outputId": "be56898a-6918-4999-bc64-183e033e46d2"
   },
   "outputs": [
    {
     "data": {
      "text/html": [
       "<div>\n",
       "<style scoped>\n",
       "    .dataframe tbody tr th:only-of-type {\n",
       "        vertical-align: middle;\n",
       "    }\n",
       "\n",
       "    .dataframe tbody tr th {\n",
       "        vertical-align: top;\n",
       "    }\n",
       "\n",
       "    .dataframe thead th {\n",
       "        text-align: right;\n",
       "    }\n",
       "</style>\n",
       "<table border=\"1\" class=\"dataframe\">\n",
       "  <thead>\n",
       "    <tr style=\"text-align: right;\">\n",
       "      <th></th>\n",
       "      <th>encounter_id</th>\n",
       "      <th>patient_nbr</th>\n",
       "      <th>race</th>\n",
       "      <th>gender</th>\n",
       "      <th>age</th>\n",
       "      <th>weight</th>\n",
       "      <th>admission_type_id</th>\n",
       "      <th>discharge_disposition_id</th>\n",
       "      <th>admission_source_id</th>\n",
       "      <th>time_in_hospital</th>\n",
       "      <th>...</th>\n",
       "      <th>citoglipton</th>\n",
       "      <th>insulin</th>\n",
       "      <th>glyburide-metformin</th>\n",
       "      <th>glipizide-metformin</th>\n",
       "      <th>glimepiride-pioglitazone</th>\n",
       "      <th>metformin-rosiglitazone</th>\n",
       "      <th>metformin-pioglitazone</th>\n",
       "      <th>change</th>\n",
       "      <th>diabetesMed</th>\n",
       "      <th>readmitted</th>\n",
       "    </tr>\n",
       "  </thead>\n",
       "  <tbody>\n",
       "    <tr>\n",
       "      <th>0</th>\n",
       "      <td>2278392</td>\n",
       "      <td>8222157</td>\n",
       "      <td>Caucasian</td>\n",
       "      <td>Female</td>\n",
       "      <td>[0-10)</td>\n",
       "      <td>?</td>\n",
       "      <td>6</td>\n",
       "      <td>25</td>\n",
       "      <td>1</td>\n",
       "      <td>1</td>\n",
       "      <td>...</td>\n",
       "      <td>No</td>\n",
       "      <td>No</td>\n",
       "      <td>No</td>\n",
       "      <td>No</td>\n",
       "      <td>No</td>\n",
       "      <td>No</td>\n",
       "      <td>No</td>\n",
       "      <td>No</td>\n",
       "      <td>No</td>\n",
       "      <td>NO</td>\n",
       "    </tr>\n",
       "    <tr>\n",
       "      <th>1</th>\n",
       "      <td>149190</td>\n",
       "      <td>55629189</td>\n",
       "      <td>Caucasian</td>\n",
       "      <td>Female</td>\n",
       "      <td>[10-20)</td>\n",
       "      <td>?</td>\n",
       "      <td>1</td>\n",
       "      <td>1</td>\n",
       "      <td>7</td>\n",
       "      <td>3</td>\n",
       "      <td>...</td>\n",
       "      <td>No</td>\n",
       "      <td>Up</td>\n",
       "      <td>No</td>\n",
       "      <td>No</td>\n",
       "      <td>No</td>\n",
       "      <td>No</td>\n",
       "      <td>No</td>\n",
       "      <td>Ch</td>\n",
       "      <td>Yes</td>\n",
       "      <td>&gt;30</td>\n",
       "    </tr>\n",
       "    <tr>\n",
       "      <th>2</th>\n",
       "      <td>64410</td>\n",
       "      <td>86047875</td>\n",
       "      <td>AfricanAmerican</td>\n",
       "      <td>Female</td>\n",
       "      <td>[20-30)</td>\n",
       "      <td>?</td>\n",
       "      <td>1</td>\n",
       "      <td>1</td>\n",
       "      <td>7</td>\n",
       "      <td>2</td>\n",
       "      <td>...</td>\n",
       "      <td>No</td>\n",
       "      <td>No</td>\n",
       "      <td>No</td>\n",
       "      <td>No</td>\n",
       "      <td>No</td>\n",
       "      <td>No</td>\n",
       "      <td>No</td>\n",
       "      <td>No</td>\n",
       "      <td>Yes</td>\n",
       "      <td>NO</td>\n",
       "    </tr>\n",
       "  </tbody>\n",
       "</table>\n",
       "<p>3 rows × 50 columns</p>\n",
       "</div>"
      ],
      "text/plain": [
       "   encounter_id  patient_nbr             race  gender      age weight  \\\n",
       "0       2278392      8222157        Caucasian  Female   [0-10)      ?   \n",
       "1        149190     55629189        Caucasian  Female  [10-20)      ?   \n",
       "2         64410     86047875  AfricanAmerican  Female  [20-30)      ?   \n",
       "\n",
       "   admission_type_id  discharge_disposition_id  admission_source_id  \\\n",
       "0                  6                        25                    1   \n",
       "1                  1                         1                    7   \n",
       "2                  1                         1                    7   \n",
       "\n",
       "   time_in_hospital    ...     citoglipton insulin  glyburide-metformin  \\\n",
       "0                 1    ...              No      No                   No   \n",
       "1                 3    ...              No      Up                   No   \n",
       "2                 2    ...              No      No                   No   \n",
       "\n",
       "   glipizide-metformin  glimepiride-pioglitazone  metformin-rosiglitazone  \\\n",
       "0                   No                        No                       No   \n",
       "1                   No                        No                       No   \n",
       "2                   No                        No                       No   \n",
       "\n",
       "   metformin-pioglitazone  change diabetesMed readmitted  \n",
       "0                      No      No          No         NO  \n",
       "1                      No      Ch         Yes        >30  \n",
       "2                      No      No         Yes         NO  \n",
       "\n",
       "[3 rows x 50 columns]"
      ]
     },
     "execution_count": 4,
     "metadata": {},
     "output_type": "execute_result"
    }
   ],
   "source": [
    "dfDiabetes.head(3)"
   ]
  },
  {
   "cell_type": "code",
   "execution_count": 5,
   "metadata": {
    "colab": {
     "base_uri": "https://localhost:8080/",
     "height": 138
    },
    "colab_type": "code",
    "id": "Ge6ouy_1QG2R",
    "outputId": "ef5c6b57-7fed-40a6-a549-f7e571261c80"
   },
   "outputs": [
    {
     "data": {
      "text/html": [
       "<div>\n",
       "<style scoped>\n",
       "    .dataframe tbody tr th:only-of-type {\n",
       "        vertical-align: middle;\n",
       "    }\n",
       "\n",
       "    .dataframe tbody tr th {\n",
       "        vertical-align: top;\n",
       "    }\n",
       "\n",
       "    .dataframe thead th {\n",
       "        text-align: right;\n",
       "    }\n",
       "</style>\n",
       "<table border=\"1\" class=\"dataframe\">\n",
       "  <thead>\n",
       "    <tr style=\"text-align: right;\">\n",
       "      <th></th>\n",
       "      <th>admission_source_id</th>\n",
       "      <th>description</th>\n",
       "    </tr>\n",
       "  </thead>\n",
       "  <tbody>\n",
       "    <tr>\n",
       "      <th>0</th>\n",
       "      <td>1</td>\n",
       "      <td>Physician Referral</td>\n",
       "    </tr>\n",
       "    <tr>\n",
       "      <th>1</th>\n",
       "      <td>2</td>\n",
       "      <td>Clinic Referral</td>\n",
       "    </tr>\n",
       "    <tr>\n",
       "      <th>2</th>\n",
       "      <td>3</td>\n",
       "      <td>HMO Referral</td>\n",
       "    </tr>\n",
       "  </tbody>\n",
       "</table>\n",
       "</div>"
      ],
      "text/plain": [
       "   admission_source_id          description\n",
       "0                    1   Physician Referral\n",
       "1                    2      Clinic Referral\n",
       "2                    3         HMO Referral"
      ]
     },
     "execution_count": 5,
     "metadata": {},
     "output_type": "execute_result"
    }
   ],
   "source": [
    "dfAdmissionSource.head(3)"
   ]
  },
  {
   "cell_type": "code",
   "execution_count": 6,
   "metadata": {
    "colab": {
     "base_uri": "https://localhost:8080/",
     "height": 138
    },
    "colab_type": "code",
    "id": "pZ6M9_TiQG-3",
    "outputId": "ecc01bc5-6ef6-45d0-9d58-6155d6060c0a"
   },
   "outputs": [
    {
     "data": {
      "text/html": [
       "<div>\n",
       "<style scoped>\n",
       "    .dataframe tbody tr th:only-of-type {\n",
       "        vertical-align: middle;\n",
       "    }\n",
       "\n",
       "    .dataframe tbody tr th {\n",
       "        vertical-align: top;\n",
       "    }\n",
       "\n",
       "    .dataframe thead th {\n",
       "        text-align: right;\n",
       "    }\n",
       "</style>\n",
       "<table border=\"1\" class=\"dataframe\">\n",
       "  <thead>\n",
       "    <tr style=\"text-align: right;\">\n",
       "      <th></th>\n",
       "      <th>admission_type_id</th>\n",
       "      <th>description</th>\n",
       "    </tr>\n",
       "  </thead>\n",
       "  <tbody>\n",
       "    <tr>\n",
       "      <th>0</th>\n",
       "      <td>1</td>\n",
       "      <td>Emergency</td>\n",
       "    </tr>\n",
       "    <tr>\n",
       "      <th>1</th>\n",
       "      <td>2</td>\n",
       "      <td>Urgent</td>\n",
       "    </tr>\n",
       "    <tr>\n",
       "      <th>2</th>\n",
       "      <td>3</td>\n",
       "      <td>Elective</td>\n",
       "    </tr>\n",
       "  </tbody>\n",
       "</table>\n",
       "</div>"
      ],
      "text/plain": [
       "   admission_type_id description\n",
       "0                  1   Emergency\n",
       "1                  2      Urgent\n",
       "2                  3    Elective"
      ]
     },
     "execution_count": 6,
     "metadata": {},
     "output_type": "execute_result"
    }
   ],
   "source": [
    "dfAdmissionType.head(3)"
   ]
  },
  {
   "cell_type": "code",
   "execution_count": 7,
   "metadata": {
    "colab": {
     "base_uri": "https://localhost:8080/",
     "height": 138
    },
    "colab_type": "code",
    "id": "N0S1u2xtQHI8",
    "outputId": "cff9f9ef-8847-4b4b-d600-72300a527555"
   },
   "outputs": [
    {
     "data": {
      "text/html": [
       "<div>\n",
       "<style scoped>\n",
       "    .dataframe tbody tr th:only-of-type {\n",
       "        vertical-align: middle;\n",
       "    }\n",
       "\n",
       "    .dataframe tbody tr th {\n",
       "        vertical-align: top;\n",
       "    }\n",
       "\n",
       "    .dataframe thead th {\n",
       "        text-align: right;\n",
       "    }\n",
       "</style>\n",
       "<table border=\"1\" class=\"dataframe\">\n",
       "  <thead>\n",
       "    <tr style=\"text-align: right;\">\n",
       "      <th></th>\n",
       "      <th>discharge_disposition_id</th>\n",
       "      <th>description</th>\n",
       "    </tr>\n",
       "  </thead>\n",
       "  <tbody>\n",
       "    <tr>\n",
       "      <th>0</th>\n",
       "      <td>1</td>\n",
       "      <td>Discharged to home</td>\n",
       "    </tr>\n",
       "    <tr>\n",
       "      <th>1</th>\n",
       "      <td>2</td>\n",
       "      <td>Discharged/transferred to another short term h...</td>\n",
       "    </tr>\n",
       "    <tr>\n",
       "      <th>2</th>\n",
       "      <td>3</td>\n",
       "      <td>Discharged/transferred to SNF</td>\n",
       "    </tr>\n",
       "  </tbody>\n",
       "</table>\n",
       "</div>"
      ],
      "text/plain": [
       "   discharge_disposition_id                                        description\n",
       "0                         1                                 Discharged to home\n",
       "1                         2  Discharged/transferred to another short term h...\n",
       "2                         3                      Discharged/transferred to SNF"
      ]
     },
     "execution_count": 7,
     "metadata": {},
     "output_type": "execute_result"
    }
   ],
   "source": [
    "dfDischargeDisposition.head(3)"
   ]
  },
  {
   "cell_type": "markdown",
   "metadata": {
    "colab_type": "text",
    "id": "qC9of4feN_ti"
   },
   "source": [
    "### juntar todos los datos en el mismo DataFrame"
   ]
  },
  {
   "cell_type": "code",
   "execution_count": 8,
   "metadata": {
    "colab": {
     "base_uri": "https://localhost:8080/",
     "height": 351
    },
    "colab_type": "code",
    "id": "bsyuYPhKPTHa",
    "outputId": "8aa58b02-e8de-475e-c189-a3ffad31c703"
   },
   "outputs": [
    {
     "data": {
      "text/html": [
       "<div>\n",
       "<style scoped>\n",
       "    .dataframe tbody tr th:only-of-type {\n",
       "        vertical-align: middle;\n",
       "    }\n",
       "\n",
       "    .dataframe tbody tr th {\n",
       "        vertical-align: top;\n",
       "    }\n",
       "\n",
       "    .dataframe thead th {\n",
       "        text-align: right;\n",
       "    }\n",
       "</style>\n",
       "<table border=\"1\" class=\"dataframe\">\n",
       "  <thead>\n",
       "    <tr style=\"text-align: right;\">\n",
       "      <th></th>\n",
       "      <th>encounter_id</th>\n",
       "      <th>patient_nbr</th>\n",
       "      <th>race</th>\n",
       "      <th>gender</th>\n",
       "      <th>age</th>\n",
       "      <th>weight</th>\n",
       "      <th>admission_type_id</th>\n",
       "      <th>discharge_disposition_id</th>\n",
       "      <th>admission_source_id</th>\n",
       "      <th>time_in_hospital</th>\n",
       "      <th>...</th>\n",
       "      <th>glipizide-metformin</th>\n",
       "      <th>glimepiride-pioglitazone</th>\n",
       "      <th>metformin-rosiglitazone</th>\n",
       "      <th>metformin-pioglitazone</th>\n",
       "      <th>change</th>\n",
       "      <th>diabetesMed</th>\n",
       "      <th>readmitted</th>\n",
       "      <th>description_x</th>\n",
       "      <th>description_y</th>\n",
       "      <th>description</th>\n",
       "    </tr>\n",
       "  </thead>\n",
       "  <tbody>\n",
       "    <tr>\n",
       "      <th>0</th>\n",
       "      <td>2278392</td>\n",
       "      <td>8222157</td>\n",
       "      <td>Caucasian</td>\n",
       "      <td>Female</td>\n",
       "      <td>[0-10)</td>\n",
       "      <td>?</td>\n",
       "      <td>6</td>\n",
       "      <td>25</td>\n",
       "      <td>1</td>\n",
       "      <td>1</td>\n",
       "      <td>...</td>\n",
       "      <td>No</td>\n",
       "      <td>No</td>\n",
       "      <td>No</td>\n",
       "      <td>No</td>\n",
       "      <td>No</td>\n",
       "      <td>No</td>\n",
       "      <td>NO</td>\n",
       "      <td>Physician Referral</td>\n",
       "      <td>None</td>\n",
       "      <td>Not Mapped</td>\n",
       "    </tr>\n",
       "    <tr>\n",
       "      <th>1</th>\n",
       "      <td>149190</td>\n",
       "      <td>55629189</td>\n",
       "      <td>Caucasian</td>\n",
       "      <td>Female</td>\n",
       "      <td>[10-20)</td>\n",
       "      <td>?</td>\n",
       "      <td>1</td>\n",
       "      <td>1</td>\n",
       "      <td>7</td>\n",
       "      <td>3</td>\n",
       "      <td>...</td>\n",
       "      <td>No</td>\n",
       "      <td>No</td>\n",
       "      <td>No</td>\n",
       "      <td>No</td>\n",
       "      <td>Ch</td>\n",
       "      <td>Yes</td>\n",
       "      <td>&gt;30</td>\n",
       "      <td>Emergency Room</td>\n",
       "      <td>Emergency</td>\n",
       "      <td>Discharged to home</td>\n",
       "    </tr>\n",
       "    <tr>\n",
       "      <th>2</th>\n",
       "      <td>64410</td>\n",
       "      <td>86047875</td>\n",
       "      <td>AfricanAmerican</td>\n",
       "      <td>Female</td>\n",
       "      <td>[20-30)</td>\n",
       "      <td>?</td>\n",
       "      <td>1</td>\n",
       "      <td>1</td>\n",
       "      <td>7</td>\n",
       "      <td>2</td>\n",
       "      <td>...</td>\n",
       "      <td>No</td>\n",
       "      <td>No</td>\n",
       "      <td>No</td>\n",
       "      <td>No</td>\n",
       "      <td>No</td>\n",
       "      <td>Yes</td>\n",
       "      <td>NO</td>\n",
       "      <td>Emergency Room</td>\n",
       "      <td>Emergency</td>\n",
       "      <td>Discharged to home</td>\n",
       "    </tr>\n",
       "    <tr>\n",
       "      <th>3</th>\n",
       "      <td>500364</td>\n",
       "      <td>82442376</td>\n",
       "      <td>Caucasian</td>\n",
       "      <td>Male</td>\n",
       "      <td>[30-40)</td>\n",
       "      <td>?</td>\n",
       "      <td>1</td>\n",
       "      <td>1</td>\n",
       "      <td>7</td>\n",
       "      <td>2</td>\n",
       "      <td>...</td>\n",
       "      <td>No</td>\n",
       "      <td>No</td>\n",
       "      <td>No</td>\n",
       "      <td>No</td>\n",
       "      <td>Ch</td>\n",
       "      <td>Yes</td>\n",
       "      <td>NO</td>\n",
       "      <td>Emergency Room</td>\n",
       "      <td>Emergency</td>\n",
       "      <td>Discharged to home</td>\n",
       "    </tr>\n",
       "    <tr>\n",
       "      <th>4</th>\n",
       "      <td>16680</td>\n",
       "      <td>42519267</td>\n",
       "      <td>Caucasian</td>\n",
       "      <td>Male</td>\n",
       "      <td>[40-50)</td>\n",
       "      <td>?</td>\n",
       "      <td>1</td>\n",
       "      <td>1</td>\n",
       "      <td>7</td>\n",
       "      <td>1</td>\n",
       "      <td>...</td>\n",
       "      <td>No</td>\n",
       "      <td>No</td>\n",
       "      <td>No</td>\n",
       "      <td>No</td>\n",
       "      <td>Ch</td>\n",
       "      <td>Yes</td>\n",
       "      <td>NO</td>\n",
       "      <td>Emergency Room</td>\n",
       "      <td>Emergency</td>\n",
       "      <td>Discharged to home</td>\n",
       "    </tr>\n",
       "  </tbody>\n",
       "</table>\n",
       "<p>5 rows × 53 columns</p>\n",
       "</div>"
      ],
      "text/plain": [
       "   encounter_id  patient_nbr             race  gender      age weight  \\\n",
       "0       2278392      8222157        Caucasian  Female   [0-10)      ?   \n",
       "1        149190     55629189        Caucasian  Female  [10-20)      ?   \n",
       "2         64410     86047875  AfricanAmerican  Female  [20-30)      ?   \n",
       "3        500364     82442376        Caucasian    Male  [30-40)      ?   \n",
       "4         16680     42519267        Caucasian    Male  [40-50)      ?   \n",
       "\n",
       "   admission_type_id  discharge_disposition_id  admission_source_id  \\\n",
       "0                  6                        25                    1   \n",
       "1                  1                         1                    7   \n",
       "2                  1                         1                    7   \n",
       "3                  1                         1                    7   \n",
       "4                  1                         1                    7   \n",
       "\n",
       "   time_in_hospital         ...         glipizide-metformin  \\\n",
       "0                 1         ...                          No   \n",
       "1                 3         ...                          No   \n",
       "2                 2         ...                          No   \n",
       "3                 2         ...                          No   \n",
       "4                 1         ...                          No   \n",
       "\n",
       "  glimepiride-pioglitazone  metformin-rosiglitazone  metformin-pioglitazone  \\\n",
       "0                       No                       No                      No   \n",
       "1                       No                       No                      No   \n",
       "2                       No                       No                      No   \n",
       "3                       No                       No                      No   \n",
       "4                       No                       No                      No   \n",
       "\n",
       "   change  diabetesMed  readmitted        description_x description_y  \\\n",
       "0      No           No          NO   Physician Referral          None   \n",
       "1      Ch          Yes         >30       Emergency Room     Emergency   \n",
       "2      No          Yes          NO       Emergency Room     Emergency   \n",
       "3      Ch          Yes          NO       Emergency Room     Emergency   \n",
       "4      Ch          Yes          NO       Emergency Room     Emergency   \n",
       "\n",
       "          description  \n",
       "0          Not Mapped  \n",
       "1  Discharged to home  \n",
       "2  Discharged to home  \n",
       "3  Discharged to home  \n",
       "4  Discharged to home  \n",
       "\n",
       "[5 rows x 53 columns]"
      ]
     },
     "execution_count": 8,
     "metadata": {},
     "output_type": "execute_result"
    }
   ],
   "source": [
    "dfDiabetes2 = pd.merge(dfDiabetes, dfAdmissionSource, on = \"admission_source_id\", how = \"left\")\n",
    "dfDiabetes3 = pd.merge(dfDiabetes2, dfAdmissionType, on = \"admission_type_id\", how = \"left\")\n",
    "dfDiabetesFull = pd.merge(dfDiabetes3, dfDischargeDisposition, on = \"discharge_disposition_id\", how = \"left\")\n",
    "dfDiabetesFull.head()"
   ]
  },
  {
   "cell_type": "markdown",
   "metadata": {
    "colab_type": "text",
    "id": "IrGTQI87OCUo"
   },
   "source": [
    "### estudiar las dimensiones del dataset\n",
    "\n",
    "> Bloque con sangría\n",
    "\n"
   ]
  },
  {
   "cell_type": "code",
   "execution_count": 9,
   "metadata": {
    "colab": {
     "base_uri": "https://localhost:8080/",
     "height": 54
    },
    "colab_type": "code",
    "id": "C6uMx3cZPTna",
    "outputId": "ef5ae243-d7a5-4ead-ca9c-0839da47c34d"
   },
   "outputs": [
    {
     "name": "stdout",
     "output_type": "stream",
     "text": [
      "Número de filas: 101766\n",
      "Número de columnas: 53\n"
     ]
    }
   ],
   "source": [
    "print(\"Número de filas: \" + str(dfDiabetesFull.shape[0]))\n",
    "print(\"Número de columnas: \" + str(dfDiabetesFull.shape[1]))"
   ]
  },
  {
   "cell_type": "code",
   "execution_count": 10,
   "metadata": {
    "colab": {
     "base_uri": "https://localhost:8080/",
     "height": 1072
    },
    "colab_type": "code",
    "id": "Ovd1kzJqSSLR",
    "outputId": "d122d521-7e1e-4023-dc66-9d64ea75f6eb"
   },
   "outputs": [
    {
     "name": "stdout",
     "output_type": "stream",
     "text": [
      "<class 'pandas.core.frame.DataFrame'>\n",
      "Int64Index: 101766 entries, 0 to 101765\n",
      "Data columns (total 53 columns):\n",
      "encounter_id                101766 non-null int64\n",
      "patient_nbr                 101766 non-null int64\n",
      "race                        101766 non-null object\n",
      "gender                      101766 non-null object\n",
      "age                         101766 non-null object\n",
      "weight                      101766 non-null object\n",
      "admission_type_id           101766 non-null int64\n",
      "discharge_disposition_id    101766 non-null int64\n",
      "admission_source_id         101766 non-null int64\n",
      "time_in_hospital            101766 non-null int64\n",
      "payer_code                  101766 non-null object\n",
      "medical_specialty           101766 non-null object\n",
      "num_lab_procedures          101766 non-null int64\n",
      "num_procedures              101766 non-null int64\n",
      "num_medications             101766 non-null int64\n",
      "number_outpatient           101766 non-null int64\n",
      "number_emergency            101766 non-null int64\n",
      "number_inpatient            101766 non-null int64\n",
      "diag_1                      101766 non-null object\n",
      "diag_2                      101766 non-null object\n",
      "diag_3                      101766 non-null object\n",
      "number_diagnoses            101766 non-null int64\n",
      "max_glu_serum               101766 non-null object\n",
      "A1Cresult                   101766 non-null object\n",
      "metformin                   101766 non-null object\n",
      "repaglinide                 101766 non-null object\n",
      "nateglinide                 101766 non-null object\n",
      "chlorpropamide              101766 non-null object\n",
      "glimepiride                 101766 non-null object\n",
      "acetohexamide               101766 non-null object\n",
      "glipizide                   101766 non-null object\n",
      "glyburide                   101766 non-null object\n",
      "tolbutamide                 101766 non-null object\n",
      "pioglitazone                101766 non-null object\n",
      "rosiglitazone               101766 non-null object\n",
      "acarbose                    101766 non-null object\n",
      "miglitol                    101766 non-null object\n",
      "troglitazone                101766 non-null object\n",
      "tolazamide                  101766 non-null object\n",
      "examide                     101766 non-null object\n",
      "citoglipton                 101766 non-null object\n",
      "insulin                     101766 non-null object\n",
      "glyburide-metformin         101766 non-null object\n",
      "glipizide-metformin         101766 non-null object\n",
      "glimepiride-pioglitazone    101766 non-null object\n",
      "metformin-rosiglitazone     101766 non-null object\n",
      "metformin-pioglitazone      101766 non-null object\n",
      "change                      101766 non-null object\n",
      "diabetesMed                 101766 non-null object\n",
      "readmitted                  101766 non-null object\n",
      "description_x               101766 non-null object\n",
      "description_y               101766 non-null object\n",
      "description                 101766 non-null object\n",
      "dtypes: int64(13), object(40)\n",
      "memory usage: 41.9+ MB\n"
     ]
    }
   ],
   "source": [
    "dfDiabetesFull.info()"
   ]
  },
  {
   "cell_type": "markdown",
   "metadata": {
    "colab_type": "text",
    "id": "H-6SVaS2OEvp"
   },
   "source": [
    "## 3. Data Wrangling"
   ]
  },
  {
   "cell_type": "markdown",
   "metadata": {
    "colab_type": "text",
    "id": "iBs9Fn3lOIKo"
   },
   "source": [
    "### cambiar los nombres de las columnas para que cumplan buenas prácticas"
   ]
  },
  {
   "cell_type": "markdown",
   "metadata": {
    "colab_type": "text",
    "id": "F6NtWk0MRYPR"
   },
   "source": [
    "Consideramos buenas prácticas nombrar a las columnas con \"ALL_\" en minusculas"
   ]
  },
  {
   "cell_type": "code",
   "execution_count": 11,
   "metadata": {
    "colab": {},
    "colab_type": "code",
    "id": "7gbMLCLjPLwT"
   },
   "outputs": [],
   "source": [
    "columnsNameDiabetes = [\"encounter_id\", \"patient_nbr\", \"race\", \"gender\", \"age\", \"weight\", \"admission_type_id\", \"discharge_disposition_id\",\n",
    "                       \"admission_source_id\", \"time_in_hospital\", \"payer_code\", \"medical_specialty\", \"num_lab_procedures\", \"num_procedures\",\n",
    "                       \"num_medications\", \"number_outpatient\", \"number_emergency\", \"number_inpatient\", \"diag_1\", \"diag_2\", \"diag_3\",\n",
    "                       \"number_diagnoses\", \"max_glu_serum\", \"a1c_result\", \"metformin\", \"repaglinide\", \"nateglinide\", \"chlorpropamide\",\n",
    "                       \"glimepiride\", \"acetohexamide\", \"glipizide\", \"glyburide\", \"tolbutamide\", \"pioglitazone\", \"rosiglitazone\", \"acarbose\",\n",
    "                       \"miglitol\", \"troglitazone\", \"tolazamide\", \"examide\", \"citoglipton\", \"insulin\", \"glyburide_metformin\", \"glipizide_metformin\",\n",
    "                       \"glimepiride_pioglitazone\", \"metformin_rosiglitazone\", \"metformin_pioglitazone\", \"change\", \"diabetes_med\", \"readmitted\",\n",
    "                       \"description_x\", \"description_y\", \"description\"]\n",
    "dfDiabetesFull.columns = columnsNameDiabetes"
   ]
  },
  {
   "cell_type": "markdown",
   "metadata": {
    "colab_type": "text",
    "id": "oP5gd4ANOLKB"
   },
   "source": [
    "### estudiar el formato de las variables, ver cuáles se deberían modificar y modificarlas cuando se considere oportuno"
   ]
  },
  {
   "cell_type": "markdown",
   "metadata": {
    "colab_type": "text",
    "id": "R0Cl-fezWYEe"
   },
   "source": [
    "Transformar los id a texto"
   ]
  },
  {
   "cell_type": "code",
   "execution_count": 12,
   "metadata": {
    "colab": {},
    "colab_type": "code",
    "id": "fgL_HTloWVVP"
   },
   "outputs": [],
   "source": [
    "columnsId = [\"encounter_id\", \"patient_nbr\", \"admission_type_id\", \"discharge_disposition_id\", \"admission_source_id\"]\n",
    "\n",
    "for columnName in columnsId:\n",
    "  dfDiabetesFull[columnName] = dfDiabetesFull[columnName].apply(str)"
   ]
  },
  {
   "cell_type": "markdown",
   "metadata": {
    "colab_type": "text",
    "id": "3ZY-6HogSv_c"
   },
   "source": [
    "Para las variables categorícas se cambia el caracter \"?\" por \"NaN\""
   ]
  },
  {
   "cell_type": "code",
   "execution_count": 13,
   "metadata": {
    "colab": {
     "base_uri": "https://localhost:8080/",
     "height": 254
    },
    "colab_type": "code",
    "id": "Spqym0zGT4KU",
    "outputId": "af979574-bf51-4142-ff6b-d8584ba8328f"
   },
   "outputs": [
    {
     "data": {
      "text/plain": [
       "Index(['encounter_id', 'patient_nbr', 'race', 'gender', 'age', 'weight',\n",
       "       'admission_type_id', 'discharge_disposition_id', 'admission_source_id',\n",
       "       'payer_code', 'medical_specialty', 'diag_1', 'diag_2', 'diag_3',\n",
       "       'max_glu_serum', 'a1c_result', 'metformin', 'repaglinide',\n",
       "       'nateglinide', 'chlorpropamide', 'glimepiride', 'acetohexamide',\n",
       "       'glipizide', 'glyburide', 'tolbutamide', 'pioglitazone',\n",
       "       'rosiglitazone', 'acarbose', 'miglitol', 'troglitazone', 'tolazamide',\n",
       "       'examide', 'citoglipton', 'insulin', 'glyburide_metformin',\n",
       "       'glipizide_metformin', 'glimepiride_pioglitazone',\n",
       "       'metformin_rosiglitazone', 'metformin_pioglitazone', 'change',\n",
       "       'diabetes_med', 'readmitted', 'description_x', 'description_y',\n",
       "       'description'],\n",
       "      dtype='object')"
      ]
     },
     "execution_count": 13,
     "metadata": {},
     "output_type": "execute_result"
    }
   ],
   "source": [
    "#Variables categoricas\n",
    "dfDiabetesFull.select_dtypes(\"object\").columns"
   ]
  },
  {
   "cell_type": "code",
   "execution_count": 14,
   "metadata": {
    "colab": {},
    "colab_type": "code",
    "id": "dBzIWU2-PNdh"
   },
   "outputs": [],
   "source": [
    "#Reemplazamos los valores que deben ser nulos\n",
    "for columnName in dfDiabetesFull.select_dtypes(\"object\").columns:\n",
    "    dfDiabetesFull[columnName] = dfDiabetesFull[columnName].replace([\"?\"], [np.nan])\n",
    "    dfDiabetesFull[columnName] = dfDiabetesFull[columnName].replace([\"None\"], [np.nan])"
   ]
  },
  {
   "cell_type": "markdown",
   "metadata": {
    "colab_type": "text",
    "id": "rXbSF6YROONo"
   },
   "source": [
    "### estudiar si hay registros repetidos"
   ]
  },
  {
   "cell_type": "code",
   "execution_count": 15,
   "metadata": {
    "colab": {
     "base_uri": "https://localhost:8080/",
     "height": 35
    },
    "colab_type": "code",
    "id": "ho_eg_BXPN98",
    "outputId": "973aa6c8-6280-4c33-acd4-3221f634688b"
   },
   "outputs": [
    {
     "data": {
      "text/plain": [
       "False"
      ]
     },
     "execution_count": 15,
     "metadata": {},
     "output_type": "execute_result"
    }
   ],
   "source": [
    "#La primary key es encounter_id, entonces\n",
    "dfDiabetesFull[[\"encounter_id\"]].duplicated().any()"
   ]
  },
  {
   "cell_type": "markdown",
   "metadata": {
    "colab_type": "text",
    "id": "6rL0ZSiKXTj2"
   },
   "source": [
    "No existen valores duplicados por la llave"
   ]
  },
  {
   "cell_type": "markdown",
   "metadata": {
    "colab_type": "text",
    "id": "BUuK1OGIORO5"
   },
   "source": [
    "### estudiar si hay variables que siempre o prácticamente siempre toman el mismo valor: tomar siempre el mismo valor no aporta información al modelo"
   ]
  },
  {
   "cell_type": "markdown",
   "metadata": {
    "colab_type": "text",
    "id": "JUYgGcwjWEH1"
   },
   "source": [
    "Definimos las variables numéricas y categóricas (despues se irán eliminando algunas en el camino)"
   ]
  },
  {
   "cell_type": "code",
   "execution_count": 16,
   "metadata": {
    "colab": {},
    "colab_type": "code",
    "id": "KuW9Pj3iWImP"
   },
   "outputs": [],
   "source": [
    "columnsNumeric = [\"time_in_hospital\", \"num_lab_procedures\", \"num_procedures\", \"num_medications\", \"number_outpatient\", \"number_emergency\",\n",
    "                   \"number_inpatient\", \"number_diagnoses\"]\n",
    "columnsString = [\"race\", \"gender\", \"age\", \"weight\", \"payer_code\", \"medical_specialty\", \"diag_1\", \"diag_2\", \"diag_3\",\n",
    "                   \"max_glu_serum\", \"a1c_result\", \"metformin\", \"repaglinide\", \"nateglinide\", \"chlorpropamide\", \"glimepiride\", \"acetohexamide\",\n",
    "                   \"glipizide\", \"glyburide\", \"tolbutamide\", \"pioglitazone\", \"rosiglitazone\", \"acarbose\", \"miglitol\", \"troglitazone\", \"tolazamide\",\n",
    "                   \"examide\", \"citoglipton\", \"insulin\", \"glyburide_metformin\", \"glipizide_metformin\", \"glimepiride_pioglitazone\", \"metformin_rosiglitazone\",\n",
    "                   \"metformin_pioglitazone\", \"change\", \"diabetes_med\", \"description_x\", \"description_y\", \"description\"]\n",
    "columnTarget = \"target\""
   ]
  },
  {
   "cell_type": "markdown",
   "metadata": {
    "colab_type": "text",
    "id": "MpVMKZL6V5qm"
   },
   "source": [
    "Estudiamos las variables numéricas con la varianza, a varianza más cerca de 0, dicha varianza no aporta al modelo."
   ]
  },
  {
   "cell_type": "code",
   "execution_count": 17,
   "metadata": {
    "colab": {
     "base_uri": "https://localhost:8080/",
     "height": 181
    },
    "colab_type": "code",
    "id": "Pgq7GWP9g_Kg",
    "outputId": "d7e45b61-c0a5-4966-ff64-b28f0e6b684a"
   },
   "outputs": [
    {
     "data": {
      "text/plain": [
       "num_lab_procedures    387.080530\n",
       "num_medications        66.057332\n",
       "time_in_hospital        8.910868\n",
       "number_diagnoses        3.738810\n",
       "num_procedures          2.909777\n",
       "number_outpatient       1.605961\n",
       "number_inpatient        1.594824\n",
       "number_emergency        0.865779\n",
       "dtype: float64"
      ]
     },
     "execution_count": 17,
     "metadata": {},
     "output_type": "execute_result"
    }
   ],
   "source": [
    "dfDiabetesFull[columnsNumeric].var().sort_values(ascending = False)"
   ]
  },
  {
   "cell_type": "markdown",
   "metadata": {
    "colab_type": "text",
    "id": "xZNdMMLzXc8F"
   },
   "source": [
    "La variable que tiene varianza más pequeña es \"number_emergency\"  \n",
    "Realizamos un analisis de frecuencia para ver donde se acumula"
   ]
  },
  {
   "cell_type": "code",
   "execution_count": 18,
   "metadata": {
    "colab": {
     "base_uri": "https://localhost:8080/",
     "height": 545
    },
    "colab_type": "code",
    "id": "HcOpdEYJX1EF",
    "outputId": "64c9ff14-04b8-4b35-c23e-6432ea731bd4"
   },
   "outputs": [
    {
     "data": {
      "text/plain": [
       "array([[<matplotlib.axes._subplots.AxesSubplot object at 0x00000194E0DA88D0>,\n",
       "        <matplotlib.axes._subplots.AxesSubplot object at 0x00000194E1416128>,\n",
       "        <matplotlib.axes._subplots.AxesSubplot object at 0x00000194E143CBA8>],\n",
       "       [<matplotlib.axes._subplots.AxesSubplot object at 0x00000194E146B668>,\n",
       "        <matplotlib.axes._subplots.AxesSubplot object at 0x00000194E1497048>,\n",
       "        <matplotlib.axes._subplots.AxesSubplot object at 0x00000194E1497080>],\n",
       "       [<matplotlib.axes._subplots.AxesSubplot object at 0x00000194E14EB588>,\n",
       "        <matplotlib.axes._subplots.AxesSubplot object at 0x00000194E173A048>,\n",
       "        <matplotlib.axes._subplots.AxesSubplot object at 0x00000194E175DAC8>]],\n",
       "      dtype=object)"
      ]
     },
     "execution_count": 18,
     "metadata": {},
     "output_type": "execute_result"
    },
    {
     "data": {
      "image/png": "[encoded data removed]",
      "text/plain": [
       "<Figure size 432x288 with 9 Axes>"
      ]
     },
     "metadata": {},
     "output_type": "display_data"
    }
   ],
   "source": [
    "dfDiabetesFull[columnsNumeric].hist(bins = 40)"
   ]
  },
  {
   "cell_type": "markdown",
   "metadata": {
    "colab_type": "text",
    "id": "aXiTSY8bYQUs"
   },
   "source": [
    "A las variables \"number_outpatient\", \"number_emergency\" y \"number_inpatient\" hacemos un analisis de frecuencia"
   ]
  },
  {
   "cell_type": "code",
   "execution_count": 19,
   "metadata": {
    "colab": {
     "base_uri": "https://localhost:8080/",
     "height": 1926
    },
    "colab_type": "code",
    "id": "-EytF89AYO_H",
    "outputId": "d570c08c-a6a9-4a22-bc4d-cb3815f48d9d"
   },
   "outputs": [
    {
     "name": "stdout",
     "output_type": "stream",
     "text": [
      "number_outpatient\n",
      "0     83.551481\n",
      "1      8.398679\n",
      "2      3.531631\n",
      "3      2.006564\n",
      "4      1.079928\n",
      "5      0.523751\n",
      "6      0.297742\n",
      "7      0.152310\n",
      "8      0.096299\n",
      "9      0.081560\n",
      "10     0.056011\n",
      "11     0.041271\n",
      "12     0.029479\n",
      "13     0.030462\n",
      "14     0.027514\n",
      "15     0.019653\n",
      "16     0.014740\n",
      "17     0.007861\n",
      "18     0.004913\n",
      "19     0.002948\n",
      "20     0.006879\n",
      "21     0.006879\n",
      "22     0.004913\n",
      "23     0.001965\n",
      "24     0.002948\n",
      "25     0.001965\n",
      "26     0.001965\n",
      "27     0.002948\n",
      "28     0.000983\n",
      "29     0.001965\n",
      "33     0.001965\n",
      "34     0.000983\n",
      "35     0.001965\n",
      "36     0.001965\n",
      "37     0.000983\n",
      "38     0.000983\n",
      "39     0.000983\n",
      "40     0.000983\n",
      "42     0.000983\n",
      "Name: number_outpatient, dtype: float64\n",
      "\n",
      "\n",
      "number_emergency\n",
      "0     88.814535\n",
      "1      7.543777\n",
      "2      2.006564\n",
      "3      0.712419\n",
      "4      0.367510\n",
      "5      0.188668\n",
      "6      0.092369\n",
      "7      0.071733\n",
      "8      0.049132\n",
      "9      0.032427\n",
      "10     0.033410\n",
      "11     0.022601\n",
      "12     0.009826\n",
      "13     0.011792\n",
      "14     0.002948\n",
      "15     0.002948\n",
      "16     0.004913\n",
      "18     0.004913\n",
      "19     0.003931\n",
      "20     0.003931\n",
      "21     0.001965\n",
      "22     0.005896\n",
      "24     0.000983\n",
      "25     0.001965\n",
      "28     0.000983\n",
      "29     0.000983\n",
      "37     0.000983\n",
      "42     0.000983\n",
      "46     0.000983\n",
      "54     0.000983\n",
      "63     0.000983\n",
      "64     0.000983\n",
      "76     0.000983\n",
      "Name: number_emergency, dtype: float64\n",
      "\n",
      "\n",
      "number_inpatient\n",
      "0     66.456380\n",
      "1     19.182242\n",
      "2      7.434703\n",
      "3      3.351807\n",
      "4      1.593853\n",
      "5      0.797909\n",
      "6      0.471670\n",
      "7      0.263349\n",
      "8      0.148380\n",
      "9      0.109074\n",
      "10     0.059941\n",
      "11     0.048150\n",
      "12     0.033410\n",
      "13     0.019653\n",
      "14     0.009826\n",
      "15     0.008844\n",
      "16     0.005896\n",
      "17     0.000983\n",
      "18     0.000983\n",
      "19     0.001965\n",
      "21     0.000983\n",
      "Name: number_inpatient, dtype: float64\n",
      "\n",
      "\n"
     ]
    }
   ],
   "source": [
    "for columnName in [\"number_outpatient\", \"number_emergency\", \"number_inpatient\"]:\n",
    "  print(dfDiabetesFull.fillna(\"--NULL\").groupby(columnName)[columnName].count() / dfDiabetesFull.shape[0] * 100)\n",
    "  print(\"\\n\")"
   ]
  },
  {
   "cell_type": "markdown",
   "metadata": {
    "colab_type": "text",
    "id": "azAvjQEARkfw"
   },
   "source": [
    "Observamos que se acumulan en 0 pero no en un 90% (no en la gran mayoria), lo tendremos en cuenta en la exploración de datos para descartarlas de ser necesario con más evidencia (mean encoding)"
   ]
  },
  {
   "cell_type": "markdown",
   "metadata": {
    "colab_type": "text",
    "id": "SwwwJ2DcXmcD"
   },
   "source": [
    "#### Para las variables categoricas vemos sus distribuciones"
   ]
  },
  {
   "cell_type": "code",
   "execution_count": 20,
   "metadata": {
    "colab": {
     "base_uri": "https://localhost:8080/",
     "height": 10581
    },
    "colab_type": "code",
    "id": "bBUX3iqymCU6",
    "outputId": "40f043ee-8614-4949-8074-6fba711af344"
   },
   "outputs": [
    {
     "name": "stdout",
     "output_type": "stream",
     "text": [
      "race\n",
      "Caucasian          74.778413\n",
      "AfricanAmerican    18.876639\n",
      "--NULL              2.233555\n",
      "Hispanic            2.001651\n",
      "Other               1.479866\n",
      "Asian               0.629876\n",
      "Name: race, dtype: float64\n",
      "\n",
      "\n",
      "gender\n",
      "Female             53.758623\n",
      "Male               46.238429\n",
      "Unknown/Invalid     0.002948\n",
      "Name: gender, dtype: float64\n",
      "\n",
      "\n",
      "age\n",
      "[70-80)     25.615628\n",
      "[60-70)     22.092840\n",
      "[50-60)     16.956547\n",
      "[80-90)     16.898571\n",
      "[40-50)      9.516931\n",
      "[30-40)      3.709490\n",
      "[90-100)     2.744532\n",
      "[20-30)      1.628245\n",
      "[10-20)      0.679009\n",
      "[0-10)       0.158206\n",
      "Name: age, dtype: float64\n",
      "\n",
      "\n",
      "weight\n",
      "--NULL       96.858479\n",
      "[75-100)      1.312816\n",
      "[50-75)       0.881434\n",
      "[100-125)     0.614154\n",
      "[125-150)     0.142484\n",
      "[25-50)       0.095317\n",
      "[0-25)        0.047167\n",
      "[150-175)     0.034393\n",
      "[175-200)     0.010809\n",
      ">200          0.002948\n",
      "Name: weight, dtype: float64\n",
      "\n",
      "\n",
      "payer_code\n",
      "--NULL    39.557416\n",
      "MC        31.876069\n",
      "HM         6.165124\n",
      "SP         4.920111\n",
      "BC         4.574219\n",
      "MD         3.470707\n",
      "CP         2.489043\n",
      "UN         2.405519\n",
      "CM         1.903386\n",
      "OG         1.015074\n",
      "PO         0.581727\n",
      "DM         0.539473\n",
      "CH         0.143466\n",
      "WC         0.132657\n",
      "OT         0.093351\n",
      "MP         0.077629\n",
      "SI         0.054046\n",
      "FR         0.000983\n",
      "Name: payer_code, dtype: float64\n",
      "\n",
      "\n",
      "medical_specialty\n",
      "--NULL                               49.082208\n",
      "InternalMedicine                     14.381031\n",
      "Emergency/Trauma                      7.433720\n",
      "Family/GeneralPractice                7.310890\n",
      "Cardiology                            5.259124\n",
      "Surgery-General                       3.045221\n",
      "Nephrology                            1.585009\n",
      "Orthopedics                           1.375705\n",
      "Orthopedics-Reconstructive            1.211603\n",
      "Radiologist                           1.120217\n",
      "Pulmonology                           0.855885\n",
      "Psychiatry                            0.839180\n",
      "Urology                               0.673113\n",
      "ObstetricsandGynecology               0.659356\n",
      "Surgery-Cardiovascular/Thoracic       0.640685\n",
      "Gastroenterology                      0.554213\n",
      "Surgery-Vascular                      0.523751\n",
      "Surgery-Neuro                         0.459879\n",
      "PhysicalMedicineandRehabilitation     0.384215\n",
      "Oncology                              0.341961\n",
      "Pediatrics                            0.249592\n",
      "Hematology/Oncology                   0.203408\n",
      "Neurology                             0.199477\n",
      "Pediatrics-Endocrinology              0.156241\n",
      "Otolaryngology                        0.122831\n",
      "Endocrinology                         0.117918\n",
      "Surgery-Thoracic                      0.107108\n",
      "Psychology                            0.099247\n",
      "Podiatry                              0.098265\n",
      "Surgery-Cardiovascular                0.096299\n",
      "                                       ...    \n",
      "Anesthesiology-Pediatric              0.018670\n",
      "Obstetrics                            0.018670\n",
      "Pathology                             0.016705\n",
      "Rheumatology                          0.016705\n",
      "Anesthesiology                        0.011792\n",
      "OutreachServices                      0.011792\n",
      "Surgery-Colon&Rectal                  0.010809\n",
      "PhysicianNotFound                     0.010809\n",
      "Surgery-Maxillofacial                 0.010809\n",
      "Pediatrics-Neurology                  0.009826\n",
      "Surgery-Pediatric                     0.007861\n",
      "Endocrinology-Metabolism              0.007861\n",
      "AllergyandImmunology                  0.006879\n",
      "Cardiology-Pediatric                  0.006879\n",
      "Psychiatry-Child/Adolescent           0.006879\n",
      "DCPTEAM                               0.005896\n",
      "Dentistry                             0.003931\n",
      "Pediatrics-Hematology-Oncology        0.003931\n",
      "Pediatrics-EmergencyMedicine          0.002948\n",
      "Pediatrics-AllergyandImmunology       0.002948\n",
      "Resident                              0.001965\n",
      "Surgery-PlasticwithinHeadandNeck      0.000983\n",
      "Psychiatry-Addictive                  0.000983\n",
      "Dermatology                           0.000983\n",
      "Neurophysiology                       0.000983\n",
      "Proctology                            0.000983\n",
      "Perinatology                          0.000983\n",
      "Speech                                0.000983\n",
      "Pediatrics-InfectiousDiseases         0.000983\n",
      "SportsMedicine                        0.000983\n",
      "Name: medical_specialty, Length: 73, dtype: float64\n",
      "\n",
      "\n",
      "diag_1\n",
      "428       6.742920\n",
      "414       6.466796\n",
      "786       3.946308\n",
      "410       3.551284\n",
      "486       3.447124\n",
      "427       2.718000\n",
      "491       2.235521\n",
      "715       2.113673\n",
      "682       2.006564\n",
      "434       1.992807\n",
      "780       1.983963\n",
      "996       1.932866\n",
      "276       1.856219\n",
      "38        1.658707\n",
      "250.8     1.650846\n",
      "599       1.567321\n",
      "584       1.493623\n",
      "V57       1.186054\n",
      "250.6     1.162471\n",
      "518       1.095651\n",
      "820       1.063223\n",
      "577       1.038657\n",
      "493       1.037675\n",
      "435       0.998369\n",
      "562       0.971837\n",
      "574       0.948254\n",
      "296       0.880451\n",
      "560       0.860798\n",
      "250.7     0.855885\n",
      "250.13    0.836232\n",
      "            ...   \n",
      "671       0.000983\n",
      "325       0.000983\n",
      "649       0.000983\n",
      "939       0.000983\n",
      "373       0.000983\n",
      "375       0.000983\n",
      "982       0.000983\n",
      "98        0.000983\n",
      "207       0.000983\n",
      "834       0.000983\n",
      "391       0.000983\n",
      "389       0.000983\n",
      "216       0.000983\n",
      "217       0.000983\n",
      "976       0.000983\n",
      "219       0.000983\n",
      "837       0.000983\n",
      "974       0.000983\n",
      "97        0.000983\n",
      "314       0.000983\n",
      "381       0.000983\n",
      "637       0.000983\n",
      "838       0.000983\n",
      "543       0.000983\n",
      "839       0.000983\n",
      "957       0.000983\n",
      "955       0.000983\n",
      "698       0.000983\n",
      "640       0.000983\n",
      "911       0.000983\n",
      "Name: diag_1, Length: 717, dtype: float64\n",
      "\n",
      "\n",
      "diag_2\n",
      "276       6.634829\n",
      "428       6.546391\n",
      "250       5.965647\n",
      "427       4.948608\n",
      "401       3.671167\n",
      "496       3.247647\n",
      "599       3.230942\n",
      "403       2.774011\n",
      "414       2.604013\n",
      "411       2.521471\n",
      "250.02    2.038009\n",
      "707       1.964310\n",
      "585       1.838532\n",
      "584       1.620384\n",
      "491       1.518189\n",
      "250.01    1.496571\n",
      "285       1.493623\n",
      "780       1.465126\n",
      "425       1.409115\n",
      "682       1.408132\n",
      "486       1.355069\n",
      "518       1.331486\n",
      "424       1.052414\n",
      "413       1.023918\n",
      "250.6     0.879469\n",
      "493       0.865712\n",
      "305       0.689818\n",
      "786       0.632824\n",
      "280       0.595484\n",
      "998       0.561091\n",
      "            ...   \n",
      "894       0.000983\n",
      "893       0.000983\n",
      "884       0.000983\n",
      "880       0.000983\n",
      "88        0.000983\n",
      "879       0.000983\n",
      "V69       0.000983\n",
      "871       0.000983\n",
      "863       0.000983\n",
      "843       0.000983\n",
      "833       0.000983\n",
      "832       0.000983\n",
      "811       0.000983\n",
      "800       0.000983\n",
      "670       0.000983\n",
      "E945      0.000983\n",
      "E965      0.000983\n",
      "754       0.000983\n",
      "752       0.000983\n",
      "748       0.000983\n",
      "734       0.000983\n",
      "E968      0.000983\n",
      "704       0.000983\n",
      "703       0.000983\n",
      "702       0.000983\n",
      "7         0.000983\n",
      "683       0.000983\n",
      "E980      0.000983\n",
      "674       0.000983\n",
      "846       0.000983\n",
      "Name: diag_2, Length: 749, dtype: float64\n",
      "\n",
      "\n",
      "diag_3\n",
      "250       11.354480\n",
      "401        8.145157\n",
      "276        5.085195\n",
      "428        4.497573\n",
      "427        3.886367\n",
      "414        3.600417\n",
      "496        2.559794\n",
      "403        2.316098\n",
      "585        1.957432\n",
      "272        1.934831\n",
      "599        1.907317\n",
      "--NULL     1.398306\n",
      "V45        1.364896\n",
      "250.02     1.345243\n",
      "707        1.336399\n",
      "780        1.310850\n",
      "285        1.179176\n",
      "425        1.116286\n",
      "250.6      1.061258\n",
      "424        1.044553\n",
      "584        0.946289\n",
      "305        0.907965\n",
      "250.01     0.899122\n",
      "682        0.871607\n",
      "518        0.839180\n",
      "41         0.714384\n",
      "493        0.681957\n",
      "278        0.668200\n",
      "530        0.614154\n",
      "786        0.573866\n",
      "            ...    \n",
      "E987       0.000983\n",
      "V01        0.000983\n",
      "V07        0.000983\n",
      "27         0.000983\n",
      "E915       0.000983\n",
      "463        0.000983\n",
      "E828       0.000983\n",
      "47         0.000983\n",
      "E853       0.000983\n",
      "E854       0.000983\n",
      "E861       0.000983\n",
      "57         0.000983\n",
      "E864       0.000983\n",
      "E865       0.000983\n",
      "E876       0.000983\n",
      "542        0.000983\n",
      "540        0.000983\n",
      "538        0.000983\n",
      "E882       0.000983\n",
      "E883       0.000983\n",
      "524        0.000983\n",
      "E886       0.000983\n",
      "E892       0.000983\n",
      "E894       0.000983\n",
      "49         0.000983\n",
      "E904       0.000983\n",
      "485        0.000983\n",
      "484        0.000983\n",
      "475        0.000983\n",
      "E900       0.000983\n",
      "Name: diag_3, Length: 790, dtype: float64\n",
      "\n",
      "\n",
      "max_glu_serum\n",
      "--NULL    94.746772\n",
      "Norm       2.551933\n",
      ">200       1.459230\n",
      ">300       1.242065\n",
      "Name: max_glu_serum, dtype: float64\n",
      "\n",
      "\n",
      "a1c_result\n",
      "--NULL    83.277322\n",
      ">8         8.073423\n",
      "Norm       4.903406\n",
      ">7         3.745848\n",
      "Name: a1c_result, dtype: float64\n",
      "\n",
      "\n",
      "metformin\n",
      "No        80.358862\n",
      "Steady    18.027632\n",
      "Up         1.048484\n",
      "Down       0.565022\n",
      "Name: metformin, dtype: float64\n",
      "\n",
      "\n"
     ]
    },
    {
     "name": "stdout",
     "output_type": "stream",
     "text": [
      "repaglinide\n",
      "No        98.487707\n",
      "Steady     1.359983\n",
      "Up         0.108091\n",
      "Down       0.044219\n",
      "Name: repaglinide, dtype: float64\n",
      "\n",
      "\n",
      "nateglinide\n",
      "No        99.309200\n",
      "Steady     0.656408\n",
      "Up         0.023584\n",
      "Down       0.010809\n",
      "Name: nateglinide, dtype: float64\n",
      "\n",
      "\n",
      "chlorpropamide\n",
      "No        99.915492\n",
      "Steady     0.077629\n",
      "Up         0.005896\n",
      "Down       0.000983\n",
      "Name: chlorpropamide, dtype: float64\n",
      "\n",
      "\n",
      "glimepiride\n",
      "No        94.899082\n",
      "Steady     4.588959\n",
      "Up         0.321325\n",
      "Down       0.190633\n",
      "Name: glimepiride, dtype: float64\n",
      "\n",
      "\n",
      "acetohexamide\n",
      "No        99.999017\n",
      "Steady     0.000983\n",
      "Name: acetohexamide, dtype: float64\n",
      "\n",
      "\n",
      "glipizide\n",
      "No        87.534147\n",
      "Steady    11.158933\n",
      "Up         0.756638\n",
      "Down       0.550282\n",
      "Name: glipizide, dtype: float64\n",
      "\n",
      "\n",
      "glyburide\n",
      "No        89.534815\n",
      "Steady     9.113063\n",
      "Up         0.797909\n",
      "Down       0.554213\n",
      "Name: glyburide, dtype: float64\n",
      "\n",
      "\n",
      "tolbutamide\n",
      "No        99.977399\n",
      "Steady     0.022601\n",
      "Name: tolbutamide, dtype: float64\n",
      "\n",
      "\n",
      "pioglitazone\n",
      "No        92.799167\n",
      "Steady     6.854942\n",
      "Up         0.229939\n",
      "Down       0.115952\n",
      "Name: pioglitazone, dtype: float64\n",
      "\n",
      "\n",
      "rosiglitazone\n",
      "No        93.745455\n",
      "Steady     5.994143\n",
      "Up         0.174911\n",
      "Down       0.085490\n",
      "Name: rosiglitazone, dtype: float64\n",
      "\n",
      "\n",
      "acarbose\n",
      "No        99.697345\n",
      "Steady     0.289881\n",
      "Up         0.009826\n",
      "Down       0.002948\n",
      "Name: acarbose, dtype: float64\n",
      "\n",
      "\n",
      "miglitol\n",
      "No        99.962659\n",
      "Steady     0.030462\n",
      "Down       0.004913\n",
      "Up         0.001965\n",
      "Name: miglitol, dtype: float64\n",
      "\n",
      "\n",
      "troglitazone\n",
      "No        99.997052\n",
      "Steady     0.002948\n",
      "Name: troglitazone, dtype: float64\n",
      "\n",
      "\n",
      "tolazamide\n",
      "No        99.961677\n",
      "Steady     0.037341\n",
      "Up         0.000983\n",
      "Name: tolazamide, dtype: float64\n",
      "\n",
      "\n",
      "examide\n",
      "No    100.0\n",
      "Name: examide, dtype: float64\n",
      "\n",
      "\n",
      "citoglipton\n",
      "No    100.0\n",
      "Name: citoglipton, dtype: float64\n",
      "\n",
      "\n",
      "insulin\n",
      "No        46.560737\n",
      "Steady    30.313661\n",
      "Down      12.005974\n",
      "Up        11.119627\n",
      "Name: insulin, dtype: float64\n",
      "\n",
      "\n",
      "glyburide_metformin\n",
      "No        99.306252\n",
      "Steady     0.679991\n",
      "Up         0.007861\n",
      "Down       0.005896\n",
      "Name: glyburide_metformin, dtype: float64\n",
      "\n",
      "\n",
      "glipizide_metformin\n",
      "No        99.987226\n",
      "Steady     0.012774\n",
      "Name: glipizide_metformin, dtype: float64\n",
      "\n",
      "\n",
      "glimepiride_pioglitazone\n",
      "No        99.999017\n",
      "Steady     0.000983\n",
      "Name: glimepiride_pioglitazone, dtype: float64\n",
      "\n",
      "\n",
      "metformin_rosiglitazone\n",
      "No        99.998035\n",
      "Steady     0.001965\n",
      "Name: metformin_rosiglitazone, dtype: float64\n",
      "\n",
      "\n",
      "metformin_pioglitazone\n",
      "No        99.999017\n",
      "Steady     0.000983\n",
      "Name: metformin_pioglitazone, dtype: float64\n",
      "\n",
      "\n",
      "change\n",
      "No    53.804807\n",
      "Ch    46.195193\n",
      "Name: change, dtype: float64\n",
      "\n",
      "\n",
      "diabetes_med\n",
      "Yes    77.003125\n",
      "No     22.996875\n",
      "Name: diabetes_med, dtype: float64\n",
      "\n",
      "\n",
      "description_x\n",
      " Emergency Room                                               56.496276\n",
      " Physician Referral                                           29.051943\n",
      "--NULL                                                         6.663326\n",
      "Transfer from a hospital                                       3.131694\n",
      " Transfer from another health care facility                    2.224712\n",
      "Clinic Referral                                                1.084842\n",
      " Transfer from a Skilled Nursing Facility (SNF)                0.840163\n",
      "HMO Referral                                                   0.183755\n",
      " Not Mapped                                                    0.158206\n",
      " Not Available                                                 0.122831\n",
      " Court/Law Enforcement                                         0.015722\n",
      " Transfer from hospital inpt/same fac reslt in a sep claim     0.011792\n",
      " Transfer from critial access hospital                         0.007861\n",
      "Normal Delivery                                                0.001965\n",
      " Transfer from Ambulatory Surgery Center                       0.001965\n",
      " Extramural Birth                                              0.001965\n",
      " Sick Baby                                                     0.000983\n",
      "Name: description_x, dtype: float64\n",
      "\n",
      "\n",
      "description_y\n",
      "Emergency        53.053083\n",
      "Elective         18.541556\n",
      "Urgent           18.159307\n",
      "--NULL            5.199182\n",
      "Not Available     4.701963\n",
      "Not Mapped        0.314447\n",
      "Trauma Center     0.020636\n",
      "Newborn           0.009826\n",
      "Name: description_y, dtype: float64\n",
      "\n",
      "\n",
      "description\n",
      "Discharged to home                                                                                           59.188727\n",
      "Discharged/transferred to SNF                                                                                13.711849\n",
      "Discharged/transferred to home with home health service                                                      12.678105\n",
      "--NULL                                                                                                        3.626948\n",
      "Discharged/transferred to another short term hospital                                                         2.091072\n",
      "Discharged/transferred to another rehab fac including rehab units of a hospital .                             1.958414\n",
      "Expired                                                                                                       1.613505\n",
      "Discharged/transferred to another type of inpatient care institution                                          1.163453\n",
      "Not Mapped                                                                                                    0.971837\n",
      "Discharged/transferred to ICF                                                                                 0.800857\n",
      "Left AMA                                                                                                      0.612189\n",
      "Discharged/transferred to a long term care hospital.                                                          0.404850\n",
      "Hospice / home                                                                                                0.392076\n",
      "Hospice / medical facility                                                                                    0.365544\n",
      "Discharged/transferred/referred to a psychiatric hospital of psychiatric distinct part unit of a hospital     0.136588\n",
      "Discharged/transferred to home under care of Home IV provider                                                 0.106126\n",
      "Discharged/transferred within this institution to Medicare approved swing bed                                 0.061907\n",
      "Discharged/transferred to a nursing facility certified under Medicaid but not certified under Medicare.       0.047167\n",
      "Admitted as an inpatient to this hospital                                                                     0.020636\n",
      "Discharged/transferred/referred to this institution for outpatient services                                   0.013757\n",
      "Discharged/transferred/referred another institution for outpatient services                                   0.010809\n",
      "Expired at home. Medicaid only, hospice.                                                                      0.007861\n",
      "Neonate discharged to another hospital for neonatal aftercare                                                 0.005896\n",
      "Discharged/transferred to a federal health care facility.                                                     0.004913\n",
      "Still patient or expected to return for outpatient services                                                   0.002948\n",
      "Expired in a medical facility. Medicaid only, hospice.                                                        0.001965\n",
      "Name: description, dtype: float64\n",
      "\n",
      "\n"
     ]
    }
   ],
   "source": [
    "for columnName in columnsString:\n",
    "  print(dfDiabetesFull.fillna(\"--NULL\").groupby(columnName)[columnName].count().sort_values(ascending = False) / dfDiabetesFull.shape[0] * 100)\n",
    "  print(\"\\n\")"
   ]
  },
  {
   "cell_type": "markdown",
   "metadata": {
    "colab_type": "text",
    "id": "jr21AR4Rpo2i"
   },
   "source": [
    "Consideramos que si se acumula mayor o igual del 90% en su distribución la variable no aporta  \n",
    "Agregamos a la lista \"columnsStringDrop\" aquellas donde se acumule más del 90%"
   ]
  },
  {
   "cell_type": "code",
   "execution_count": 21,
   "metadata": {
    "colab": {
     "base_uri": "https://localhost:8080/",
     "height": 74
    },
    "colab_type": "code",
    "id": "1QMI26kHTNbd",
    "outputId": "17a907b7-fa6f-40b5-c4ab-22b5f7659229"
   },
   "outputs": [
    {
     "name": "stdout",
     "output_type": "stream",
     "text": [
      "variables donde se acumula en un solo rango más del 90% de población (incluyendo nulos): ['weight', 'max_glu_serum', 'repaglinide', 'nateglinide', 'chlorpropamide', 'glimepiride', 'acetohexamide', 'tolbutamide', 'pioglitazone', 'rosiglitazone', 'acarbose', 'miglitol', 'troglitazone', 'tolazamide', 'examide', 'citoglipton', 'glyburide_metformin', 'glipizide_metformin', 'glimepiride_pioglitazone', 'metformin_rosiglitazone', 'metformin_pioglitazone']\n",
      "Variables categoricas: ['gender', 'a1c_result', 'description_y', 'glyburide', 'metformin', 'age', 'diag_2', 'glipizide', 'diag_3', 'insulin', 'payer_code', 'description_x', 'diabetes_med', 'medical_specialty', 'description', 'race', 'diag_1', 'change']\n"
     ]
    }
   ],
   "source": [
    "limite = 0.9\n",
    "columnsStringDrop = []\n",
    "for columnName in columnsString:\n",
    "  tmp = dfDiabetesFull.fillna(\"NULL\").groupby(columnName)[columnName].count() / dfDiabetesFull.shape[0]\n",
    "  for value in tmp:\n",
    "    if value >= limite:\n",
    "      columnsStringDrop.append(columnName)\n",
    "      break\n",
    "\n",
    "columnsString = list(set(columnsString) - set(columnsStringDrop))\n",
    "print(\"variables donde se acumula en un solo rango más del 90% de población (incluyendo nulos): \" + str(columnsStringDrop))\n",
    "print(\"Variables categoricas: \" + str(columnsString))"
   ]
  },
  {
   "cell_type": "code",
   "execution_count": 22,
   "metadata": {
    "colab": {},
    "colab_type": "code",
    "id": "VHpT9PjEtCuK"
   },
   "outputs": [],
   "source": [
    "dfDiabetesFull[\"gender\"] = dfDiabetesFull[\"gender\"].replace(\"Unknown/Invalid\", np.nan)"
   ]
  },
  {
   "cell_type": "code",
   "execution_count": 23,
   "metadata": {},
   "outputs": [],
   "source": [
    "for columnName in columnsString:\n",
    "  dfDiabetesFull[columnsString] = dfDiabetesFull[columnsString].fillna(\"NONE\")"
   ]
  },
  {
   "cell_type": "markdown",
   "metadata": {
    "colab_type": "text",
    "id": "36bX3Culs93S"
   },
   "source": [
    "Para la variable gender reemplazamos el valor undefined por NULL"
   ]
  },
  {
   "cell_type": "markdown",
   "metadata": {
    "colab_type": "text",
    "id": "skTpL9FKxk8F"
   },
   "source": [
    "Graficamos con un diagrama de barras cada variable categoirica sin considerar las que tienen acumulación >= 90% en un rango"
   ]
  },
  {
   "cell_type": "code",
   "execution_count": 24,
   "metadata": {},
   "outputs": [
    {
     "data": {
      "image/png": "[encoded data removed]",
      "text/plain": [
       "<Figure size 432x288 with 1 Axes>"
      ]
     },
     "metadata": {},
     "output_type": "display_data"
    },
    {
     "data": {
      "image/png": "[encoded data removed]",
      "text/plain": [
       "<Figure size 432x288 with 1 Axes>"
      ]
     },
     "metadata": {},
     "output_type": "display_data"
    },
    {
     "data": {
      "image/png": "[encoded data removed]",
      "text/plain": [
       "<Figure size 432x288 with 1 Axes>"
      ]
     },
     "metadata": {},
     "output_type": "display_data"
    },
    {
     "data": {
      "image/png": "[encoded data removed]",
      "text/plain": [
       "<Figure size 432x288 with 1 Axes>"
      ]
     },
     "metadata": {},
     "output_type": "display_data"
    },
    {
     "data": {
      "image/png": "[encoded data removed]",
      "text/plain": [
       "<Figure size 432x288 with 1 Axes>"
      ]
     },
     "metadata": {},
     "output_type": "display_data"
    },
    {
     "data": {
      "image/png": "[encoded data removed]",
      "text/plain": [
       "<Figure size 432x288 with 1 Axes>"
      ]
     },
     "metadata": {},
     "output_type": "display_data"
    },
    {
     "data": {
      "image/png": "[encoded data removed]",
      "text/plain": [
       "<Figure size 432x288 with 1 Axes>"
      ]
     },
     "metadata": {},
     "output_type": "display_data"
    },
    {
     "data": {
      "image/png": "[encoded data removed]",
      "text/plain": [
       "<Figure size 432x288 with 1 Axes>"
      ]
     },
     "metadata": {},
     "output_type": "display_data"
    },
    {
     "data": {
      "image/png": "[encoded data removed]",
      "text/plain": [
       "<Figure size 432x288 with 1 Axes>"
      ]
     },
     "metadata": {},
     "output_type": "display_data"
    },
    {
     "data": {
      "image/png": "[encoded data removed]",
      "text/plain": [
       "<Figure size 432x288 with 1 Axes>"
      ]
     },
     "metadata": {},
     "output_type": "display_data"
    },
    {
     "data": {
      "image/png": "[encoded data removed]",
      "text/plain": [
       "<Figure size 432x288 with 1 Axes>"
      ]
     },
     "metadata": {},
     "output_type": "display_data"
    },
    {
     "data": {
      "image/png": "[encoded data removed]",
      "text/plain": [
       "<Figure size 432x288 with 1 Axes>"
      ]
     },
     "metadata": {},
     "output_type": "display_data"
    },
    {
     "data": {
      "image/png": "[encoded data removed]",
      "text/plain": [
       "<Figure size 432x288 with 1 Axes>"
      ]
     },
     "metadata": {},
     "output_type": "display_data"
    },
    {
     "data": {
      "image/png": "[encoded data removed]",
      "text/plain": [
       "<Figure size 432x288 with 1 Axes>"
      ]
     },
     "metadata": {},
     "output_type": "display_data"
    },
    {
     "data": {
      "image/png": "[encoded data removed]",
      "text/plain": [
       "<Figure size 432x288 with 1 Axes>"
      ]
     },
     "metadata": {},
     "output_type": "display_data"
    },
    {
     "data": {
      "image/png": "[encoded data removed]",
      "text/plain": [
       "<Figure size 432x288 with 1 Axes>"
      ]
     },
     "metadata": {},
     "output_type": "display_data"
    },
    {
     "data": {
      "image/png": "[encoded data removed]",
      "text/plain": [
       "<Figure size 432x288 with 1 Axes>"
      ]
     },
     "metadata": {},
     "output_type": "display_data"
    },
    {
     "data": {
      "image/png": "[encoded data removed]",
      "text/plain": [
       "<Figure size 432x288 with 1 Axes>"
      ]
     },
     "metadata": {},
     "output_type": "display_data"
    }
   ],
   "source": [
    "for columnName in columnsString:\n",
    "  plt.title(columnName)\n",
    "  dfDiabetesFull.groupby(columnName)[columnName].count().plot(kind = \"bar\")\n",
    "  plt.show()"
   ]
  },
  {
   "cell_type": "markdown",
   "metadata": {
    "colab_type": "text",
    "id": "tQ0HUvSWSzcL"
   },
   "source": [
    "Se observa que las variables diag_1, diag_2 y diag_3 son en su mayoria numéricas, revisamos el porcentaje de numéricas, no numericas y nulos."
   ]
  },
  {
   "cell_type": "code",
   "execution_count": 25,
   "metadata": {
    "colab": {},
    "colab_type": "code",
    "id": "gRU3xQSLS9kJ"
   },
   "outputs": [],
   "source": [
    "def changeType(x):\n",
    "  try:\n",
    "    a = float(x)\n",
    "    if(np.isnan(a)):\n",
    "      return -1\n",
    "    else:\n",
    "      return 1\n",
    "  except:\n",
    "    return 0\n",
    "  \n",
    "def diagToNumber(x):\n",
    "  try:\n",
    "    a = float(x)\n",
    "    if(np.isnan(a)):\n",
    "      return float(\"nan\")\n",
    "    else:\n",
    "      return a\n",
    "  except:\n",
    "    return float(\"nan\")"
   ]
  },
  {
   "cell_type": "code",
   "execution_count": 26,
   "metadata": {
    "colab": {
     "base_uri": "https://localhost:8080/",
     "height": 345
    },
    "colab_type": "code",
    "id": "3cnAX46LVj54",
    "outputId": "a25bed53-cac8-4e2a-8777-b6f87c8745e0"
   },
   "outputs": [
    {
     "name": "stdout",
     "output_type": "stream",
     "text": [
      "diag_1\n",
      "Numeros: 98.36%\n",
      "String: 1.64%\n",
      "Nulos: 0.0%\n",
      "\n",
      "\n",
      "diag_2\n",
      "Numeros: 97.16%\n",
      "String: 2.84%\n",
      "Nulos: 0.0%\n",
      "\n",
      "\n",
      "diag_3\n",
      "Numeros: 93.63%\n",
      "String: 6.37%\n",
      "Nulos: 0.0%\n",
      "\n",
      "\n"
     ]
    }
   ],
   "source": [
    "for columnName in [\"diag_1\", \"diag_2\", \"diag_3\"]:\n",
    "  numNumeric = dfDiabetesFull[dfDiabetesFull[columnName].apply(changeType) == 1].shape[0]\n",
    "  numString = dfDiabetesFull[dfDiabetesFull[columnName].apply(changeType) == 0].shape[0]\n",
    "  numNull = dfDiabetesFull[dfDiabetesFull[columnName].apply(changeType) == -1].shape[0]\n",
    "  print(columnName)\n",
    "  print(\"Numeros: \" + str(np.round(numNumeric / dfDiabetesFull.shape[0] * 100, 2)) + \"%\")\n",
    "  print(\"String: \" + str(np.round(numString / dfDiabetesFull.shape[0] * 100, 2)) + \"%\")\n",
    "  print(\"Nulos: \" + str(np.round(numNull / dfDiabetesFull.shape[0] * 100, 2)) + \"%\")\n",
    "  print(\"\\n\")"
   ]
  },
  {
   "cell_type": "markdown",
   "metadata": {
    "colab_type": "text",
    "id": "EoP30bayZKK7"
   },
   "source": [
    "Todos los numéricos son mayores a 90%, tomamos estos para transformar a numéricas estas variables"
   ]
  },
  {
   "cell_type": "code",
   "execution_count": 27,
   "metadata": {
    "colab": {},
    "colab_type": "code",
    "id": "JgWB895zZSTB"
   },
   "outputs": [],
   "source": [
    "for columnName in [\"diag_1\", \"diag_2\", \"diag_3\"]:\n",
    "  dfDiabetesFull[columnName] = dfDiabetesFull[columnName].apply(diagToNumber)\n",
    "  dfDiabetesFull[columnName] = dfDiabetesFull[columnName].apply(float)"
   ]
  },
  {
   "cell_type": "code",
   "execution_count": 28,
   "metadata": {
    "colab": {},
    "colab_type": "code",
    "id": "rnsXtzSD7aNl"
   },
   "outputs": [],
   "source": [
    "columnsNumeric.append(\"diag_1\")\n",
    "columnsNumeric.append(\"diag_2\")\n",
    "columnsNumeric.append(\"diag_3\")"
   ]
  },
  {
   "cell_type": "markdown",
   "metadata": {
    "colab_type": "text",
    "id": "7iThmTi6an-C"
   },
   "source": [
    "Quitamos de las categoricas"
   ]
  },
  {
   "cell_type": "code",
   "execution_count": 29,
   "metadata": {
    "colab": {},
    "colab_type": "code",
    "id": "nvIQEjiHanVu"
   },
   "outputs": [],
   "source": [
    "columnsString.remove(\"diag_1\")\n",
    "columnsString.remove(\"diag_2\")\n",
    "columnsString.remove(\"diag_3\")"
   ]
  },
  {
   "cell_type": "code",
   "execution_count": 30,
   "metadata": {
    "colab": {
     "base_uri": "https://localhost:8080/",
     "height": 74
    },
    "colab_type": "code",
    "id": "s1gftPC1aIrV",
    "outputId": "cd6db1a4-cd8b-4818-d235-c4f4a81e5f1e"
   },
   "outputs": [
    {
     "name": "stdout",
     "output_type": "stream",
     "text": [
      "columnas numéricas: ['time_in_hospital', 'num_lab_procedures', 'num_procedures', 'num_medications', 'number_outpatient', 'number_emergency', 'number_inpatient', 'number_diagnoses', 'diag_1', 'diag_2', 'diag_3']\n",
      "columnas string: ['gender', 'a1c_result', 'description_y', 'glyburide', 'metformin', 'age', 'glipizide', 'insulin', 'payer_code', 'description_x', 'diabetes_med', 'medical_specialty', 'description', 'race', 'change']\n"
     ]
    }
   ],
   "source": [
    "print(\"columnas numéricas: \" + str(columnsNumeric))\n",
    "print(\"columnas string: \" + str(columnsString))"
   ]
  },
  {
   "cell_type": "markdown",
   "metadata": {
    "colab_type": "text",
    "id": "AZaWXReOp4LN"
   },
   "source": [
    "Graficamos las variables numéricas"
   ]
  },
  {
   "cell_type": "code",
   "execution_count": 31,
   "metadata": {
    "colab": {
     "base_uri": "https://localhost:8080/",
     "height": 1135
    },
    "colab_type": "code",
    "id": "t8CZsGDDpMPe",
    "outputId": "905e78d9-a3a5-4f84-b150-466a71bdc12a"
   },
   "outputs": [
    {
     "data": {
      "text/plain": [
       "array([[<matplotlib.axes._subplots.AxesSubplot object at 0x00000194E17DAB38>,\n",
       "        <matplotlib.axes._subplots.AxesSubplot object at 0x00000194E0851128>,\n",
       "        <matplotlib.axes._subplots.AxesSubplot object at 0x00000194E1B45BA8>],\n",
       "       [<matplotlib.axes._subplots.AxesSubplot object at 0x00000194E1B67668>,\n",
       "        <matplotlib.axes._subplots.AxesSubplot object at 0x00000194E1CE3128>,\n",
       "        <matplotlib.axes._subplots.AxesSubplot object at 0x00000194E1CE3160>],\n",
       "       [<matplotlib.axes._subplots.AxesSubplot object at 0x00000194E1BE2668>,\n",
       "        <matplotlib.axes._subplots.AxesSubplot object at 0x00000194E1BDA128>,\n",
       "        <matplotlib.axes._subplots.AxesSubplot object at 0x00000194E1D06B38>],\n",
       "       [<matplotlib.axes._subplots.AxesSubplot object at 0x00000194E1D365F8>,\n",
       "        <matplotlib.axes._subplots.AxesSubplot object at 0x00000194E1D660B8>,\n",
       "        <matplotlib.axes._subplots.AxesSubplot object at 0x00000194E1DCBB38>]],\n",
       "      dtype=object)"
      ]
     },
     "execution_count": 31,
     "metadata": {},
     "output_type": "execute_result"
    },
    {
     "data": {
      "image/png": "[encoded data removed]",
      "text/plain": [
       "<Figure size 1440x1080 with 12 Axes>"
      ]
     },
     "metadata": {},
     "output_type": "display_data"
    }
   ],
   "source": [
    "dfDiabetesFull[columnsNumeric].hist(bins = 100, figsize=(20,15))"
   ]
  },
  {
   "cell_type": "markdown",
   "metadata": {
    "colab_type": "text",
    "id": "BwEl0I65a-fE"
   },
   "source": [
    "Columnas categoricas"
   ]
  },
  {
   "cell_type": "code",
   "execution_count": 32,
   "metadata": {
    "colab": {
     "base_uri": "https://localhost:8080/",
     "height": 6548
    },
    "colab_type": "code",
    "id": "YaKzUs7Ja9g6",
    "outputId": "083f6e0f-8d63-4c9c-eafd-f27be99e3c39"
   },
   "outputs": [
    {
     "data": {
      "image/png": "[encoded data removed]",
      "text/plain": [
       "<Figure size 432x288 with 1 Axes>"
      ]
     },
     "metadata": {},
     "output_type": "display_data"
    },
    {
     "data": {
      "image/png": "[encoded data removed]",
      "text/plain": [
       "<Figure size 432x288 with 1 Axes>"
      ]
     },
     "metadata": {},
     "output_type": "display_data"
    },
    {
     "data": {
      "image/png": "[encoded data removed]",
      "text/plain": [
       "<Figure size 432x288 with 1 Axes>"
      ]
     },
     "metadata": {},
     "output_type": "display_data"
    },
    {
     "data": {
      "image/png": "[encoded data removed]",
      "text/plain": [
       "<Figure size 432x288 with 1 Axes>"
      ]
     },
     "metadata": {},
     "output_type": "display_data"
    },
    {
     "data": {
      "image/png": "[encoded data removed]",
      "text/plain": [
       "<Figure size 432x288 with 1 Axes>"
      ]
     },
     "metadata": {},
     "output_type": "display_data"
    },
    {
     "data": {
      "image/png": "[encoded data removed]",
      "text/plain": [
       "<Figure size 432x288 with 1 Axes>"
      ]
     },
     "metadata": {},
     "output_type": "display_data"
    },
    {
     "data": {
      "image/png": "[encoded data removed]",
      "text/plain": [
       "<Figure size 432x288 with 1 Axes>"
      ]
     },
     "metadata": {},
     "output_type": "display_data"
    },
    {
     "data": {
      "image/png": "[encoded data removed]",
      "text/plain": [
       "<Figure size 432x288 with 1 Axes>"
      ]
     },
     "metadata": {},
     "output_type": "display_data"
    },
    {
     "data": {
      "image/png": "[encoded data removed]",
      "text/plain": [
       "<Figure size 432x288 with 1 Axes>"
      ]
     },
     "metadata": {},
     "output_type": "display_data"
    },
    {
     "data": {
      "image/png": "[encoded data removed]",
      "text/plain": [
       "<Figure size 432x288 with 1 Axes>"
      ]
     },
     "metadata": {},
     "output_type": "display_data"
    },
    {
     "data": {
      "image/png": "[encoded data removed]",
      "text/plain": [
       "<Figure size 432x288 with 1 Axes>"
      ]
     },
     "metadata": {},
     "output_type": "display_data"
    },
    {
     "data": {
      "image/png": "[encoded data removed]",
      "text/plain": [
       "<Figure size 432x288 with 1 Axes>"
      ]
     },
     "metadata": {},
     "output_type": "display_data"
    },
    {
     "data": {
      "image/png": "[encoded data removed]",
      "text/plain": [
       "<Figure size 432x288 with 1 Axes>"
      ]
     },
     "metadata": {},
     "output_type": "display_data"
    },
    {
     "data": {
      "image/png": "[encoded data removed]",
      "text/plain": [
       "<Figure size 432x288 with 1 Axes>"
      ]
     },
     "metadata": {},
     "output_type": "display_data"
    },
    {
     "data": {
      "image/png": "[encoded data removed]",
      "text/plain": [
       "<Figure size 432x288 with 1 Axes>"
      ]
     },
     "metadata": {},
     "output_type": "display_data"
    }
   ],
   "source": [
    "for columnName in columnsString:\n",
    "  plt.title(columnName)\n",
    "  dfDiabetesFull.fillna(\"--NULL\").groupby(columnName)[columnName].count().plot(kind = \"bar\")\n",
    "  plt.show()"
   ]
  },
  {
   "cell_type": "markdown",
   "metadata": {
    "colab_type": "text",
    "id": "KVSmkMfDOTiB"
   },
   "source": [
    "### estudiar los nulos en el dataset"
   ]
  },
  {
   "cell_type": "markdown",
   "metadata": {
    "colab_type": "text",
    "id": "mrqn7Ld7pOzh"
   },
   "source": [
    "De las districuciones anteriores tenemos ya una idea del impacto de los nulos, repasando:"
   ]
  },
  {
   "cell_type": "code",
   "execution_count": 33,
   "metadata": {
    "colab": {
     "base_uri": "https://localhost:8080/",
     "height": 290
    },
    "colab_type": "code",
    "id": "3hMH-oZUPO0z",
    "outputId": "3df887ee-c744-4d86-f9d7-45c74a7f29d3"
   },
   "outputs": [
    {
     "name": "stdout",
     "output_type": "stream",
     "text": [
      "diag_2\n",
      "Número de valores null: 2894\n",
      "Porcentaje: 2.84%\n",
      "\n",
      "\n",
      "diag_3\n",
      "Número de valores null: 6481\n",
      "Porcentaje: 6.37%\n",
      "\n",
      "\n",
      "diag_1\n",
      "Número de valores null: 1666\n",
      "Porcentaje: 1.64%\n",
      "\n",
      "\n"
     ]
    }
   ],
   "source": [
    "#Porcentaje y número de nulos por variables\n",
    "numTotal = dfDiabetesFull.shape[0]\n",
    "for columnName in list(set(columnsString).union(set(columnsNumeric))):\n",
    "  numNull = dfDiabetesFull[dfDiabetesFull[columnName].isnull()].shape[0]\n",
    "  if numNull > 0:\n",
    "    print(columnName)\n",
    "    print(\"Número de valores null: \" + str(numNull))\n",
    "    print(\"Porcentaje: \" + str(np.round(numNull * 100 / numTotal, 2)) + \"%\")\n",
    "    print(\"\\n\")"
   ]
  },
  {
   "cell_type": "markdown",
   "metadata": {
    "colab_type": "text",
    "id": "k1ey6fcxccw6"
   },
   "source": [
    "Eliminamos las vriables con más de 50% de nulos"
   ]
  },
  {
   "cell_type": "code",
   "execution_count": 34,
   "metadata": {
    "colab": {
     "base_uri": "https://localhost:8080/",
     "height": 55
    },
    "colab_type": "code",
    "id": "sUPFc56UcgLj",
    "outputId": "e2281206-8ae5-4663-800f-418a9c042a0d"
   },
   "outputs": [
    {
     "name": "stdout",
     "output_type": "stream",
     "text": [
      "Variables categoricas: ['diag_2', 'glipizide', 'number_diagnoses', 'num_medications', 'description_x', 'diabetes_med', 'medical_specialty', 'number_inpatient', 'description', 'time_in_hospital', 'race', 'number_outpatient', 'description_y', 'gender', 'glyburide', 'number_emergency', 'metformin', 'age', 'diag_3', 'num_lab_procedures', 'insulin', 'payer_code', 'num_procedures', 'change', 'diag_1']\n"
     ]
    }
   ],
   "source": [
    "#Eliminamos las variables con más de 50%\n",
    "columnsModel = list(set(columnsString).union(set(columnsNumeric)))\n",
    "columnsModel.remove(\"a1c_result\")\n",
    "columnsString.remove(\"a1c_result\")\n",
    "print(\"Variables categoricas: \" + str(columnsModel))"
   ]
  },
  {
   "cell_type": "markdown",
   "metadata": {
    "colab_type": "text",
    "id": "Y9NWtyL8d9Mq"
   },
   "source": [
    "Para los demás solo inputo la media"
   ]
  },
  {
   "cell_type": "code",
   "execution_count": 35,
   "metadata": {
    "colab": {},
    "colab_type": "code",
    "id": "sqZRbsWXd8Zr"
   },
   "outputs": [],
   "source": [
    "for columnName in columnsNumeric:\n",
    "  dfDiabetesFull[columnName].fillna(dfDiabetesFull[columnName].mean(), inplace = True)"
   ]
  },
  {
   "cell_type": "markdown",
   "metadata": {
    "colab_type": "text",
    "id": "zkA3kgJsxDd6"
   },
   "source": [
    "Para la variable \"gender\" ignoramos estos 3 valores nulos"
   ]
  },
  {
   "cell_type": "code",
   "execution_count": 36,
   "metadata": {
    "colab": {},
    "colab_type": "code",
    "id": "_-56-Wefzlw7"
   },
   "outputs": [],
   "source": [
    "dfDiabetesFull = dfDiabetesFull[~dfDiabetesFull[\"gender\"].isnull()]"
   ]
  },
  {
   "cell_type": "markdown",
   "metadata": {
    "colab_type": "text",
    "id": "hzr5_qEeOWeI"
   },
   "source": [
    "### 4. Estudiar los outliers"
   ]
  },
  {
   "cell_type": "code",
   "execution_count": 37,
   "metadata": {
    "colab": {
     "base_uri": "https://localhost:8080/",
     "height": 3817
    },
    "colab_type": "code",
    "id": "dccZNa2hj_bS",
    "outputId": "879b5e08-9d3c-4641-f7cb-dd3d25bfffc7"
   },
   "outputs": [
    {
     "data": {
      "image/png": "[encoded data removed]",
      "text/plain": [
       "<Figure size 432x288 with 1 Axes>"
      ]
     },
     "metadata": {},
     "output_type": "display_data"
    },
    {
     "data": {
      "image/png": "[encoded data removed]",
      "text/plain": [
       "<Figure size 432x288 with 1 Axes>"
      ]
     },
     "metadata": {},
     "output_type": "display_data"
    },
    {
     "data": {
      "image/png": "[encoded data removed]",
      "text/plain": [
       "<Figure size 432x288 with 1 Axes>"
      ]
     },
     "metadata": {},
     "output_type": "display_data"
    },
    {
     "data": {
      "image/png": "[encoded data removed]",
      "text/plain": [
       "<Figure size 432x288 with 1 Axes>"
      ]
     },
     "metadata": {},
     "output_type": "display_data"
    },
    {
     "data": {
      "image/png": "[encoded data removed]",
      "text/plain": [
       "<Figure size 432x288 with 1 Axes>"
      ]
     },
     "metadata": {},
     "output_type": "display_data"
    },
    {
     "data": {
      "image/png": "[encoded data removed]",
      "text/plain": [
       "<Figure size 432x288 with 1 Axes>"
      ]
     },
     "metadata": {},
     "output_type": "display_data"
    },
    {
     "data": {
      "image/png": "[encoded data removed]",
      "text/plain": [
       "<Figure size 432x288 with 1 Axes>"
      ]
     },
     "metadata": {},
     "output_type": "display_data"
    },
    {
     "data": {
      "image/png": "[encoded data removed]",
      "text/plain": [
       "<Figure size 432x288 with 1 Axes>"
      ]
     },
     "metadata": {},
     "output_type": "display_data"
    },
    {
     "data": {
      "image/png": "[encoded data removed]",
      "text/plain": [
       "<Figure size 432x288 with 1 Axes>"
      ]
     },
     "metadata": {},
     "output_type": "display_data"
    },
    {
     "data": {
      "image/png": "[encoded data removed]",
      "text/plain": [
       "<Figure size 432x288 with 1 Axes>"
      ]
     },
     "metadata": {},
     "output_type": "display_data"
    },
    {
     "data": {
      "image/png": "[encoded data removed]",
      "text/plain": [
       "<Figure size 432x288 with 1 Axes>"
      ]
     },
     "metadata": {},
     "output_type": "display_data"
    }
   ],
   "source": [
    "for columnName in dfDiabetesFull[columnsNumeric].columns:\n",
    "  plt.title(columnName)\n",
    "  \n",
    "  plt.boxplot(dfDiabetesFull[columnName], 0, 'gD')\n",
    "  \n",
    "  plt.show()"
   ]
  },
  {
   "cell_type": "code",
   "execution_count": 38,
   "metadata": {},
   "outputs": [],
   "source": [
    "# Función de Identificar Outliers:\n",
    "def calculateNumOutliars(serie):\n",
    "  Q01 = serie.quantile(0.25)\n",
    "  Q03 = serie.quantile(0.75)\n",
    "  IQR = Q03 - Q01\n",
    "  a = (serie < (Q01 - 1.5 * IQR)) | (serie > (Q03 + 1.5 * IQR))\n",
    "  numOutliars = a[a == True].shape[0]\n",
    "  return numOutliars"
   ]
  },
  {
   "cell_type": "code",
   "execution_count": 39,
   "metadata": {
    "colab": {
     "base_uri": "https://localhost:8080/",
     "height": 1145
    },
    "colab_type": "code",
    "id": "GOf6WgLKNV_S",
    "outputId": "e879d420-48de-4a56-9a94-f554ed9cec99"
   },
   "outputs": [
    {
     "name": "stdout",
     "output_type": "stream",
     "text": [
      "time_in_hospital\n",
      "****aplicar log\n",
      "\n",
      "\n",
      "num_lab_procedures\n",
      "Número de valores outliars: 143\n",
      "Porcentaje: 0.14%\n",
      "Número de valores outliars con log: 9578\n",
      "Porcentaje con log: 9.41%\n",
      "\n",
      "\n",
      "num_procedures\n",
      "****aplicar log\n",
      "\n",
      "\n",
      "num_medications\n",
      "Número de valores outliars: 2557\n",
      "Porcentaje: 2.51%\n",
      "Número de valores outliars con log: 1823\n",
      "Porcentaje con log: 1.79%\n",
      "\n",
      "\n",
      "number_outpatient\n",
      "****aplicar log\n",
      "\n",
      "\n",
      "number_emergency\n",
      "****aplicar log\n",
      "\n",
      "\n",
      "number_inpatient\n",
      "****aplicar log\n",
      "\n",
      "\n",
      "number_diagnoses\n",
      "Número de valores outliars: 281\n",
      "Porcentaje: 0.28%\n",
      "Número de valores outliars con log: 4077\n",
      "Porcentaje con log: 4.01%\n",
      "\n",
      "\n",
      "diag_1\n",
      "Número de valores outliars: 6696\n",
      "Porcentaje: 6.58%\n",
      "Número de valores outliars con log: 6096\n",
      "Porcentaje con log: 5.99%\n",
      "\n",
      "\n",
      "diag_2\n",
      "Número de valores outliars: 1795\n",
      "Porcentaje: 1.76%\n",
      "Número de valores outliars con log: 1560\n",
      "Porcentaje con log: 1.53%\n",
      "\n",
      "\n",
      "diag_3\n",
      "Número de valores outliars: 1752\n",
      "Porcentaje: 1.72%\n",
      "Número de valores outliars con log: 1754\n",
      "Porcentaje con log: 1.72%\n",
      "\n",
      "\n"
     ]
    }
   ],
   "source": [
    "#Porcentaje y número de outliars\n",
    "numTotal = dfDiabetesFull.shape[0]\n",
    "for columnName in columnsNumeric:\n",
    "  numOutliars = calculateNumOutliars(dfDiabetesFull[columnName])\n",
    "  if numOutliars > 0:\n",
    "    \n",
    "    numOutliarsLog = calculateNumOutliars(dfDiabetesFull[columnName].apply(np.log))\n",
    "    \n",
    "    print(columnName)\n",
    "    if numOutliarsLog > 0:\n",
    "      print(\"Número de valores outliars: \" + str(numOutliars))\n",
    "      print(\"Porcentaje: \" + str(np.round(numOutliars * 100 / numTotal, 2)) + \"%\")\n",
    "      print(\"Número de valores outliars con log: \" + str(numOutliarsLog))\n",
    "      print(\"Porcentaje con log: \" + str(np.round(numOutliarsLog * 100 / numTotal, 2)) + \"%\")\n",
    "    else:\n",
    "      print(\"****aplicar log\")\n",
    "    \n",
    "    print(\"\\n\")"
   ]
  },
  {
   "cell_type": "markdown",
   "metadata": {
    "colab_type": "text",
    "id": "cLKGXDEgOY0x"
   },
   "source": [
    "### crear variables dummy en caso que sea conveniente"
   ]
  },
  {
   "cell_type": "markdown",
   "metadata": {
    "colab_type": "text",
    "id": "hoRT7Z_F49ZM"
   },
   "source": [
    "Para las variables categoricas se ha usado mean encoding"
   ]
  },
  {
   "cell_type": "markdown",
   "metadata": {
    "colab_type": "text",
    "id": "E0V3PYa8ObDT"
   },
   "source": [
    "### estudiar que todas las variables ahora sí tengan el formato y contenido adecuado. si todavía no, arreglarlas."
   ]
  },
  {
   "cell_type": "markdown",
   "metadata": {
    "colab_type": "text",
    "id": "6LhlINlyJw36"
   },
   "source": [
    "Se verifica que los valores de las variables sean los adecuados"
   ]
  },
  {
   "cell_type": "code",
   "execution_count": 40,
   "metadata": {
    "colab": {
     "base_uri": "https://localhost:8080/",
     "height": 1072
    },
    "colab_type": "code",
    "id": "1wKbYiicq8Vp",
    "outputId": "86d791f9-3ff0-4970-d9a4-5a289d18ec62"
   },
   "outputs": [
    {
     "name": "stdout",
     "output_type": "stream",
     "text": [
      "<class 'pandas.core.frame.DataFrame'>\n",
      "Int64Index: 101766 entries, 0 to 101765\n",
      "Data columns (total 53 columns):\n",
      "encounter_id                101766 non-null object\n",
      "patient_nbr                 101766 non-null object\n",
      "race                        101766 non-null object\n",
      "gender                      101766 non-null object\n",
      "age                         101766 non-null object\n",
      "weight                      3197 non-null object\n",
      "admission_type_id           101766 non-null object\n",
      "discharge_disposition_id    101766 non-null object\n",
      "admission_source_id         101766 non-null object\n",
      "time_in_hospital            101766 non-null int64\n",
      "payer_code                  101766 non-null object\n",
      "medical_specialty           101766 non-null object\n",
      "num_lab_procedures          101766 non-null int64\n",
      "num_procedures              101766 non-null int64\n",
      "num_medications             101766 non-null int64\n",
      "number_outpatient           101766 non-null int64\n",
      "number_emergency            101766 non-null int64\n",
      "number_inpatient            101766 non-null int64\n",
      "diag_1                      101766 non-null float64\n",
      "diag_2                      101766 non-null float64\n",
      "diag_3                      101766 non-null float64\n",
      "number_diagnoses            101766 non-null int64\n",
      "max_glu_serum               5346 non-null object\n",
      "a1c_result                  101766 non-null object\n",
      "metformin                   101766 non-null object\n",
      "repaglinide                 101766 non-null object\n",
      "nateglinide                 101766 non-null object\n",
      "chlorpropamide              101766 non-null object\n",
      "glimepiride                 101766 non-null object\n",
      "acetohexamide               101766 non-null object\n",
      "glipizide                   101766 non-null object\n",
      "glyburide                   101766 non-null object\n",
      "tolbutamide                 101766 non-null object\n",
      "pioglitazone                101766 non-null object\n",
      "rosiglitazone               101766 non-null object\n",
      "acarbose                    101766 non-null object\n",
      "miglitol                    101766 non-null object\n",
      "troglitazone                101766 non-null object\n",
      "tolazamide                  101766 non-null object\n",
      "examide                     101766 non-null object\n",
      "citoglipton                 101766 non-null object\n",
      "insulin                     101766 non-null object\n",
      "glyburide_metformin         101766 non-null object\n",
      "glipizide_metformin         101766 non-null object\n",
      "glimepiride_pioglitazone    101766 non-null object\n",
      "metformin_rosiglitazone     101766 non-null object\n",
      "metformin_pioglitazone      101766 non-null object\n",
      "change                      101766 non-null object\n",
      "diabetes_med                101766 non-null object\n",
      "readmitted                  101766 non-null object\n",
      "description_x               101766 non-null object\n",
      "description_y               101766 non-null object\n",
      "description                 101766 non-null object\n",
      "dtypes: float64(3), int64(8), object(42)\n",
      "memory usage: 41.9+ MB\n"
     ]
    }
   ],
   "source": [
    "dfDiabetesFull.info()"
   ]
  },
  {
   "cell_type": "markdown",
   "metadata": {
    "colab_type": "text",
    "id": "AJH2S-oLOdtD"
   },
   "source": [
    "### Antes de estudiar el comportamiento de las variables, veremos si hay alguna variable derivada a crear\n",
    "### Definición de Target:"
   ]
  },
  {
   "cell_type": "markdown",
   "metadata": {
    "colab_type": "text",
    "id": "HAKqAeyG65hG"
   },
   "source": [
    "Ya se agregaron las variables necesarias en pasos anteriores."
   ]
  },
  {
   "cell_type": "code",
   "execution_count": 41,
   "metadata": {
    "colab": {},
    "colab_type": "code",
    "id": "FFmTw_N_q0ka"
   },
   "outputs": [],
   "source": [
    "dfDiabetesFull[columnTarget] = dfDiabetesFull[\"readmitted\"].map({\"NO\" : 0, \">30\" : 1, \"<30\" : 1}).apply(int)"
   ]
  },
  {
   "cell_type": "code",
   "execution_count": 42,
   "metadata": {
    "colab": {
     "base_uri": "https://localhost:8080/",
     "height": 35
    },
    "colab_type": "code",
    "id": "9PhNq1W0u7Oo",
    "outputId": "fd794309-b8a5-44e7-b1bd-b3e723b7ea80"
   },
   "outputs": [
    {
     "name": "stdout",
     "output_type": "stream",
     "text": [
      "Porcentaje de target: 46.09%\n"
     ]
    }
   ],
   "source": [
    "print(\"Porcentaje de target: \" + str(np.round(dfDiabetesFull[columnTarget].sum() * 100 / dfDiabetesFull.shape[0], 2)) + \"%\")"
   ]
  },
  {
   "cell_type": "markdown",
   "metadata": {
    "colab_type": "text",
    "id": "rYxZoIQCOwxX"
   },
   "source": [
    "# 5. Exploratory Data Analysis"
   ]
  },
  {
   "cell_type": "markdown",
   "metadata": {
    "colab_type": "text",
    "id": "c--gac6NZc2y"
   },
   "source": [
    "  Para la variable \"number_outpatient\" agrupamos en solo 3 grupos en los que se distribuye mejor la frecuencia\n",
    "\n",
    "\n",
    "1.   0: 83.5% --- label 0\n",
    "2.   1: 8.4% --- label 1\n",
    "3.   otros: 8.05% --- label 2\n",
    "\n"
   ]
  },
  {
   "cell_type": "code",
   "execution_count": 43,
   "metadata": {
    "colab": {},
    "colab_type": "code",
    "id": "TbC0r5y2aa6H"
   },
   "outputs": [],
   "source": [
    "funNumberOutpatient = lambda x : 2 if x > 2 else x\n",
    "    \n",
    "dfDiabetesFull[\"number_outpatient\"] = dfDiabetesFull[\"number_outpatient\"].apply(funNumberOutpatient)\n",
    "dfDiabetesFull[\"number_outpatient\"] = dfDiabetesFull[\"number_outpatient\"].apply(str)"
   ]
  },
  {
   "cell_type": "markdown",
   "metadata": {
    "colab_type": "text",
    "id": "SFPUyr7jbgU2"
   },
   "source": [
    "Para la variable \"number_emergency\" agrupamos en solo 3 grupos en los que se distribuye mejor la frecuencia\n",
    "\n",
    "\n",
    "1.   0: 88.81% --- label 0\n",
    "2.   1: 7.54% --- label 1\n",
    "3.   otros: 3.64% --- label 2"
   ]
  },
  {
   "cell_type": "code",
   "execution_count": 44,
   "metadata": {
    "colab": {},
    "colab_type": "code",
    "id": "aV_E3Kv2bb6G"
   },
   "outputs": [],
   "source": [
    "funNumberEmergency = lambda x : 2 if x > 2 else x\n",
    "    \n",
    "dfDiabetesFull[\"number_emergency\"] = dfDiabetesFull[\"number_emergency\"].apply(funNumberEmergency)\n",
    "dfDiabetesFull[\"number_emergency\"] = dfDiabetesFull[\"number_emergency\"].apply(str)"
   ]
  },
  {
   "cell_type": "markdown",
   "metadata": {
    "colab_type": "text",
    "id": "FgBT3aead9In"
   },
   "source": [
    "Para la variable \"number_inpatient\" agrupamos en solo 3 grupos en los que se distribuye mejor la frecuencia\n",
    "\n",
    "\n",
    "1.   0: 66.46% --- label 0\n",
    "2.   1: 19.18% --- label 1\n",
    "3.   2: 7.43% --- label 2\n",
    "4.   3: 3.35% --- label 3\n",
    "5.   4: 3.47% --- label 4\n"
   ]
  },
  {
   "cell_type": "code",
   "execution_count": 45,
   "metadata": {
    "colab": {},
    "colab_type": "code",
    "id": "HbuXMS1GfKtD"
   },
   "outputs": [],
   "source": [
    "funNumberInpatient = lambda x : 4 if x > 4 else x\n",
    "    \n",
    "dfDiabetesFull[\"number_inpatient\"] = dfDiabetesFull[\"number_inpatient\"].apply(funNumberInpatient)\n",
    "dfDiabetesFull[\"number_inpatient\"] = dfDiabetesFull[\"number_inpatient\"].apply(str)"
   ]
  },
  {
   "cell_type": "markdown",
   "metadata": {
    "colab_type": "text",
    "id": "NabMR_ILFjmW"
   },
   "source": [
    "Agregamos las variables creadas al ColumnsString"
   ]
  },
  {
   "cell_type": "code",
   "execution_count": 46,
   "metadata": {
    "colab": {},
    "colab_type": "code",
    "id": "qZruYNOlhuh7"
   },
   "outputs": [],
   "source": [
    "columnsNumeric.remove(\"number_inpatient\")\n",
    "columnsNumeric.remove(\"number_emergency\")\n",
    "columnsNumeric.remove(\"number_outpatient\")\n",
    "\n",
    "columnsString.append(\"number_inpatient\")\n",
    "columnsString.append(\"number_emergency\")\n",
    "columnsString.append(\"number_outpatient\")"
   ]
  },
  {
   "cell_type": "markdown",
   "metadata": {
    "colab_type": "text",
    "id": "3MOH_mvjjSD2"
   },
   "source": [
    "Ejecutamos mean encoder"
   ]
  },
  {
   "cell_type": "code",
   "execution_count": 47,
   "metadata": {},
   "outputs": [],
   "source": [
    "#Mean encoder\n",
    "for columnName in columnsString:\n",
    "  mapColumn = dfDiabetesFull.groupby(columnName)[columnTarget].mean()\n",
    "  dfDiabetesFull[columnName + \"_number\"] = dfDiabetesFull[columnName].map(mapColumn)"
   ]
  },
  {
   "cell_type": "code",
   "execution_count": 48,
   "metadata": {
    "colab": {
     "base_uri": "https://localhost:8080/",
     "height": 55
    },
    "colab_type": "code",
    "id": "utMDZVCjfbg1",
    "outputId": "e1ec2a49-e21c-46b1-876f-391193653833"
   },
   "outputs": [
    {
     "name": "stdout",
     "output_type": "stream",
     "text": [
      "Variables a evaluar: ['time_in_hospital', 'num_lab_procedures', 'num_procedures', 'num_medications', 'number_diagnoses', 'diag_1', 'diag_2', 'diag_3', 'gender_number', 'description_y_number', 'glyburide_number', 'metformin_number', 'age_number', 'glipizide_number', 'insulin_number', 'payer_code_number', 'description_x_number', 'diabetes_med_number', 'medical_specialty_number', 'description_number', 'race_number', 'change_number', 'number_inpatient_number', 'number_emergency_number', 'number_outpatient_number']\n"
     ]
    }
   ],
   "source": [
    "columnsToEvaluate = columnsNumeric + [columnName + \"_number\" for columnName in columnsString]\n",
    "print(\"Variables a evaluar: \" + str(columnsToEvaluate))"
   ]
  },
  {
   "cell_type": "code",
   "execution_count": 49,
   "metadata": {
    "colab": {},
    "colab_type": "code",
    "id": "H5-DkKRYlZf6"
   },
   "outputs": [],
   "source": [
    "for columnName in columnsNumeric:\n",
    "  dfDiabetesFull[columnName].fillna(dfDiabetesFull[columnName].mean(), inplace = True)"
   ]
  },
  {
   "cell_type": "code",
   "execution_count": 50,
   "metadata": {},
   "outputs": [
    {
     "data": {
      "text/html": [
       "<div>\n",
       "<style scoped>\n",
       "    .dataframe tbody tr th:only-of-type {\n",
       "        vertical-align: middle;\n",
       "    }\n",
       "\n",
       "    .dataframe tbody tr th {\n",
       "        vertical-align: top;\n",
       "    }\n",
       "\n",
       "    .dataframe thead th {\n",
       "        text-align: right;\n",
       "    }\n",
       "</style>\n",
       "<table border=\"1\" class=\"dataframe\">\n",
       "  <thead>\n",
       "    <tr style=\"text-align: right;\">\n",
       "      <th></th>\n",
       "      <th>encounter_id</th>\n",
       "      <th>patient_nbr</th>\n",
       "      <th>race</th>\n",
       "      <th>gender</th>\n",
       "      <th>age</th>\n",
       "      <th>weight</th>\n",
       "      <th>admission_type_id</th>\n",
       "      <th>discharge_disposition_id</th>\n",
       "      <th>admission_source_id</th>\n",
       "      <th>time_in_hospital</th>\n",
       "      <th>...</th>\n",
       "      <th>payer_code_number</th>\n",
       "      <th>description_x_number</th>\n",
       "      <th>diabetes_med_number</th>\n",
       "      <th>medical_specialty_number</th>\n",
       "      <th>description_number</th>\n",
       "      <th>race_number</th>\n",
       "      <th>change_number</th>\n",
       "      <th>number_inpatient_number</th>\n",
       "      <th>number_emergency_number</th>\n",
       "      <th>number_outpatient_number</th>\n",
       "    </tr>\n",
       "  </thead>\n",
       "  <tbody>\n",
       "    <tr>\n",
       "      <th>0</th>\n",
       "      <td>2278392</td>\n",
       "      <td>8222157</td>\n",
       "      <td>Caucasian</td>\n",
       "      <td>Female</td>\n",
       "      <td>[0-10)</td>\n",
       "      <td>NaN</td>\n",
       "      <td>6</td>\n",
       "      <td>25</td>\n",
       "      <td>1</td>\n",
       "      <td>1</td>\n",
       "      <td>...</td>\n",
       "      <td>0.458441</td>\n",
       "      <td>0.431930</td>\n",
       "      <td>0.404777</td>\n",
       "      <td>0.150943</td>\n",
       "      <td>0.473205</td>\n",
       "      <td>0.469336</td>\n",
       "      <td>0.439631</td>\n",
       "      <td>0.384948</td>\n",
       "      <td>0.438943</td>\n",
       "      <td>0.436508</td>\n",
       "    </tr>\n",
       "    <tr>\n",
       "      <th>1</th>\n",
       "      <td>149190</td>\n",
       "      <td>55629189</td>\n",
       "      <td>Caucasian</td>\n",
       "      <td>Female</td>\n",
       "      <td>[10-20)</td>\n",
       "      <td>NaN</td>\n",
       "      <td>1</td>\n",
       "      <td>1</td>\n",
       "      <td>7</td>\n",
       "      <td>3</td>\n",
       "      <td>...</td>\n",
       "      <td>0.458441</td>\n",
       "      <td>0.493738</td>\n",
       "      <td>0.477636</td>\n",
       "      <td>0.480430</td>\n",
       "      <td>0.450227</td>\n",
       "      <td>0.469336</td>\n",
       "      <td>0.485631</td>\n",
       "      <td>0.384948</td>\n",
       "      <td>0.438943</td>\n",
       "      <td>0.436508</td>\n",
       "    </tr>\n",
       "    <tr>\n",
       "      <th>2</th>\n",
       "      <td>64410</td>\n",
       "      <td>86047875</td>\n",
       "      <td>AfricanAmerican</td>\n",
       "      <td>Female</td>\n",
       "      <td>[20-30)</td>\n",
       "      <td>NaN</td>\n",
       "      <td>1</td>\n",
       "      <td>1</td>\n",
       "      <td>7</td>\n",
       "      <td>2</td>\n",
       "      <td>...</td>\n",
       "      <td>0.458441</td>\n",
       "      <td>0.493738</td>\n",
       "      <td>0.477636</td>\n",
       "      <td>0.480430</td>\n",
       "      <td>0.450227</td>\n",
       "      <td>0.457522</td>\n",
       "      <td>0.439631</td>\n",
       "      <td>0.547615</td>\n",
       "      <td>0.438943</td>\n",
       "      <td>0.596069</td>\n",
       "    </tr>\n",
       "    <tr>\n",
       "      <th>3</th>\n",
       "      <td>500364</td>\n",
       "      <td>82442376</td>\n",
       "      <td>Caucasian</td>\n",
       "      <td>Male</td>\n",
       "      <td>[30-40)</td>\n",
       "      <td>NaN</td>\n",
       "      <td>1</td>\n",
       "      <td>1</td>\n",
       "      <td>7</td>\n",
       "      <td>2</td>\n",
       "      <td>...</td>\n",
       "      <td>0.458441</td>\n",
       "      <td>0.493738</td>\n",
       "      <td>0.477636</td>\n",
       "      <td>0.480430</td>\n",
       "      <td>0.450227</td>\n",
       "      <td>0.469336</td>\n",
       "      <td>0.485631</td>\n",
       "      <td>0.384948</td>\n",
       "      <td>0.438943</td>\n",
       "      <td>0.436508</td>\n",
       "    </tr>\n",
       "  </tbody>\n",
       "</table>\n",
       "<p>4 rows × 71 columns</p>\n",
       "</div>"
      ],
      "text/plain": [
       "  encounter_id patient_nbr             race  gender      age weight  \\\n",
       "0      2278392     8222157        Caucasian  Female   [0-10)    NaN   \n",
       "1       149190    55629189        Caucasian  Female  [10-20)    NaN   \n",
       "2        64410    86047875  AfricanAmerican  Female  [20-30)    NaN   \n",
       "3       500364    82442376        Caucasian    Male  [30-40)    NaN   \n",
       "\n",
       "  admission_type_id discharge_disposition_id admission_source_id  \\\n",
       "0                 6                       25                   1   \n",
       "1                 1                        1                   7   \n",
       "2                 1                        1                   7   \n",
       "3                 1                        1                   7   \n",
       "\n",
       "   time_in_hospital            ...            payer_code_number  \\\n",
       "0                 1            ...                     0.458441   \n",
       "1                 3            ...                     0.458441   \n",
       "2                 2            ...                     0.458441   \n",
       "3                 2            ...                     0.458441   \n",
       "\n",
       "  description_x_number  diabetes_med_number  medical_specialty_number  \\\n",
       "0             0.431930             0.404777                  0.150943   \n",
       "1             0.493738             0.477636                  0.480430   \n",
       "2             0.493738             0.477636                  0.480430   \n",
       "3             0.493738             0.477636                  0.480430   \n",
       "\n",
       "   description_number race_number change_number number_inpatient_number  \\\n",
       "0            0.473205    0.469336      0.439631                0.384948   \n",
       "1            0.450227    0.469336      0.485631                0.384948   \n",
       "2            0.450227    0.457522      0.439631                0.547615   \n",
       "3            0.450227    0.469336      0.485631                0.384948   \n",
       "\n",
       "   number_emergency_number  number_outpatient_number  \n",
       "0                 0.438943                  0.436508  \n",
       "1                 0.438943                  0.436508  \n",
       "2                 0.438943                  0.596069  \n",
       "3                 0.438943                  0.436508  \n",
       "\n",
       "[4 rows x 71 columns]"
      ]
     },
     "execution_count": 50,
     "metadata": {},
     "output_type": "execute_result"
    }
   ],
   "source": [
    "dfDiabetesFull.head(4)"
   ]
  },
  {
   "cell_type": "code",
   "execution_count": 51,
   "metadata": {
    "colab": {
     "base_uri": "https://localhost:8080/",
     "height": 345
    },
    "colab_type": "code",
    "id": "SyzeyNmSbgSf",
    "outputId": "9ef65829-c6b0-4c85-c052-b16b4a1d07d5"
   },
   "outputs": [
    {
     "data": {
      "text/plain": [
       "gender_number               0.000087\n",
       "description_y_number        0.000939\n",
       "glyburide_number            0.000011\n",
       "metformin_number            0.000205\n",
       "age_number                  0.000602\n",
       "glipizide_number            0.000111\n",
       "insulin_number              0.001165\n",
       "payer_code_number           0.001168\n",
       "description_x_number        0.002645\n",
       "diabetes_med_number         0.000940\n",
       "medical_specialty_number    0.002794\n",
       "description_number          0.005857\n",
       "race_number                 0.000681\n",
       "change_number               0.000526\n",
       "number_inpatient_number     0.013744\n",
       "number_emergency_number     0.004233\n",
       "number_outpatient_number    0.003038\n",
       "dtype: float64"
      ]
     },
     "execution_count": 51,
     "metadata": {},
     "output_type": "execute_result"
    }
   ],
   "source": [
    "#Evaluamos la varianza de las variables nuevas categoricas\n",
    "dfDiabetesFull[[x + \"_number\" for x in columnsString]].var()"
   ]
  },
  {
   "cell_type": "code",
   "execution_count": 52,
   "metadata": {
    "colab": {
     "base_uri": "https://localhost:8080/",
     "height": 1280
    },
    "colab_type": "code",
    "id": "k_XaiDZpcBC3",
    "outputId": "39a8ec3a-f46d-4888-a21a-2827555a2e5d"
   },
   "outputs": [
    {
     "data": {
      "text/plain": [
       "array([[<matplotlib.axes._subplots.AxesSubplot object at 0x00000194E2CF62E8>,\n",
       "        <matplotlib.axes._subplots.AxesSubplot object at 0x00000194E2CFF0B8>,\n",
       "        <matplotlib.axes._subplots.AxesSubplot object at 0x00000194E2D067B8>,\n",
       "        <matplotlib.axes._subplots.AxesSubplot object at 0x00000194E2D0DEB8>],\n",
       "       [<matplotlib.axes._subplots.AxesSubplot object at 0x00000194E2D155F8>,\n",
       "        <matplotlib.axes._subplots.AxesSubplot object at 0x00000194E2D15630>,\n",
       "        <matplotlib.axes._subplots.AxesSubplot object at 0x00000194E2D3E438>,\n",
       "        <matplotlib.axes._subplots.AxesSubplot object at 0x00000194E2D5CB38>],\n",
       "       [<matplotlib.axes._subplots.AxesSubplot object at 0x00000194E2D81278>,\n",
       "        <matplotlib.axes._subplots.AxesSubplot object at 0x00000194E2DA0978>,\n",
       "        <matplotlib.axes._subplots.AxesSubplot object at 0x00000194E2DC90B8>,\n",
       "        <matplotlib.axes._subplots.AxesSubplot object at 0x00000194E2DE97B8>],\n",
       "       [<matplotlib.axes._subplots.AxesSubplot object at 0x00000194E2E08EB8>,\n",
       "        <matplotlib.axes._subplots.AxesSubplot object at 0x00000194E2E365F8>,\n",
       "        <matplotlib.axes._subplots.AxesSubplot object at 0x00000194E2E5DCF8>,\n",
       "        <matplotlib.axes._subplots.AxesSubplot object at 0x00000194E2E8F438>],\n",
       "       [<matplotlib.axes._subplots.AxesSubplot object at 0x00000194E2EB5B38>,\n",
       "        <matplotlib.axes._subplots.AxesSubplot object at 0x00000194E2EE7278>,\n",
       "        <matplotlib.axes._subplots.AxesSubplot object at 0x00000194E2F0D978>,\n",
       "        <matplotlib.axes._subplots.AxesSubplot object at 0x00000194E2F3F0B8>]],\n",
       "      dtype=object)"
      ]
     },
     "execution_count": 52,
     "metadata": {},
     "output_type": "execute_result"
    },
    {
     "data": {
      "image/png": "[encoded data removed]",
      "text/plain": [
       "<Figure size 1440x1080 with 20 Axes>"
      ]
     },
     "metadata": {},
     "output_type": "display_data"
    }
   ],
   "source": [
    "dfDiabetesFull[[x + \"_number\" for x in columnsString]].hist(bins = 20, figsize=(20,15))"
   ]
  },
  {
   "cell_type": "code",
   "execution_count": 53,
   "metadata": {
    "colab": {},
    "colab_type": "code",
    "id": "XUodzqN-cJaA"
   },
   "outputs": [],
   "source": [
    "#Eliminamos gender_number\n",
    "columnsToEvaluate.remove(\"gender_number\")"
   ]
  },
  {
   "cell_type": "markdown",
   "metadata": {
    "colab_type": "text",
    "id": "UXcXfhlTjqsn"
   },
   "source": [
    "## 6. Estandarizamos"
   ]
  },
  {
   "cell_type": "code",
   "execution_count": 54,
   "metadata": {
    "colab": {
     "base_uri": "https://localhost:8080/",
     "height": 74
    },
    "colab_type": "code",
    "id": "o28VBG6Ojp85",
    "outputId": "d875d9ce-12ee-4bd8-a097-4afacc2a5f8c"
   },
   "outputs": [
    {
     "name": "stderr",
     "output_type": "stream",
     "text": [
      "C:\\Anaconda3\\lib\\site-packages\\sklearn\\utils\\validation.py:475: DataConversionWarning: Data with input dtype int64 was converted to float64 by StandardScaler.\n",
      "  warnings.warn(msg, DataConversionWarning)\n",
      "C:\\Anaconda3\\lib\\site-packages\\sklearn\\utils\\validation.py:475: DataConversionWarning: Data with input dtype int64 was converted to float64 by StandardScaler.\n",
      "  warnings.warn(msg, DataConversionWarning)\n",
      "C:\\Anaconda3\\lib\\site-packages\\sklearn\\utils\\validation.py:475: DataConversionWarning: Data with input dtype int64 was converted to float64 by StandardScaler.\n",
      "  warnings.warn(msg, DataConversionWarning)\n",
      "C:\\Anaconda3\\lib\\site-packages\\sklearn\\utils\\validation.py:475: DataConversionWarning: Data with input dtype int64 was converted to float64 by StandardScaler.\n",
      "  warnings.warn(msg, DataConversionWarning)\n",
      "C:\\Anaconda3\\lib\\site-packages\\sklearn\\utils\\validation.py:475: DataConversionWarning: Data with input dtype int64 was converted to float64 by StandardScaler.\n",
      "  warnings.warn(msg, DataConversionWarning)\n",
      "C:\\Anaconda3\\lib\\site-packages\\sklearn\\utils\\validation.py:475: DataConversionWarning: Data with input dtype int64 was converted to float64 by StandardScaler.\n",
      "  warnings.warn(msg, DataConversionWarning)\n",
      "C:\\Anaconda3\\lib\\site-packages\\sklearn\\utils\\validation.py:475: DataConversionWarning: Data with input dtype int64 was converted to float64 by StandardScaler.\n",
      "  warnings.warn(msg, DataConversionWarning)\n",
      "C:\\Anaconda3\\lib\\site-packages\\sklearn\\utils\\validation.py:475: DataConversionWarning: Data with input dtype int64 was converted to float64 by StandardScaler.\n",
      "  warnings.warn(msg, DataConversionWarning)\n",
      "C:\\Anaconda3\\lib\\site-packages\\sklearn\\utils\\validation.py:475: DataConversionWarning: Data with input dtype int64 was converted to float64 by StandardScaler.\n",
      "  warnings.warn(msg, DataConversionWarning)\n",
      "C:\\Anaconda3\\lib\\site-packages\\sklearn\\utils\\validation.py:475: DataConversionWarning: Data with input dtype int64 was converted to float64 by StandardScaler.\n",
      "  warnings.warn(msg, DataConversionWarning)\n"
     ]
    }
   ],
   "source": [
    "# Creamos el objeto para escalar\n",
    "#scaler = preprocessing.MinMaxScaler(feature_range=(0, 1))\n",
    "scaler = preprocessing.StandardScaler()\n",
    "\n",
    "# Lo aplicamos\n",
    "for columnName in columnsNumeric:\n",
    "  dfDiabetesFull[columnName] = scaler.fit_transform(dfDiabetesFull[columnName].values.reshape(-1, 1))"
   ]
  },
  {
   "cell_type": "code",
   "execution_count": 55,
   "metadata": {
    "scrolled": true
   },
   "outputs": [
    {
     "data": {
      "text/html": [
       "<div>\n",
       "<style scoped>\n",
       "    .dataframe tbody tr th:only-of-type {\n",
       "        vertical-align: middle;\n",
       "    }\n",
       "\n",
       "    .dataframe tbody tr th {\n",
       "        vertical-align: top;\n",
       "    }\n",
       "\n",
       "    .dataframe thead th {\n",
       "        text-align: right;\n",
       "    }\n",
       "</style>\n",
       "<table border=\"1\" class=\"dataframe\">\n",
       "  <thead>\n",
       "    <tr style=\"text-align: right;\">\n",
       "      <th></th>\n",
       "      <th>time_in_hospital</th>\n",
       "      <th>num_lab_procedures</th>\n",
       "      <th>num_procedures</th>\n",
       "      <th>num_medications</th>\n",
       "      <th>number_diagnoses</th>\n",
       "      <th>diag_1</th>\n",
       "      <th>diag_2</th>\n",
       "      <th>diag_3</th>\n",
       "    </tr>\n",
       "  </thead>\n",
       "  <tbody>\n",
       "    <tr>\n",
       "      <th>0</th>\n",
       "      <td>-1.137649</td>\n",
       "      <td>-0.106517</td>\n",
       "      <td>-0.785398</td>\n",
       "      <td>-1.848268</td>\n",
       "      <td>-3.321596</td>\n",
       "      <td>-1.184073</td>\n",
       "      <td>6.769429e-14</td>\n",
       "      <td>5.201202e-14</td>\n",
       "    </tr>\n",
       "    <tr>\n",
       "      <th>1</th>\n",
       "      <td>-0.467653</td>\n",
       "      <td>0.808384</td>\n",
       "      <td>-0.785398</td>\n",
       "      <td>0.243390</td>\n",
       "      <td>0.815784</td>\n",
       "      <td>-1.061302</td>\n",
       "      <td>-1.069901e+00</td>\n",
       "      <td>-9.510184e-01</td>\n",
       "    </tr>\n",
       "    <tr>\n",
       "      <th>2</th>\n",
       "      <td>-0.802651</td>\n",
       "      <td>-1.631351</td>\n",
       "      <td>2.145781</td>\n",
       "      <td>-0.371804</td>\n",
       "      <td>-0.735733</td>\n",
       "      <td>0.753197</td>\n",
       "      <td>-1.069958e+00</td>\n",
       "      <td>5.201202e-14</td>\n",
       "    </tr>\n",
       "    <tr>\n",
       "      <th>3</th>\n",
       "      <td>-0.802651</td>\n",
       "      <td>0.045967</td>\n",
       "      <td>-0.199162</td>\n",
       "      <td>-0.002688</td>\n",
       "      <td>-0.218561</td>\n",
       "      <td>-2.368522</td>\n",
       "      <td>-1.067519e+00</td>\n",
       "      <td>-8.846576e-02</td>\n",
       "    </tr>\n",
       "    <tr>\n",
       "      <th>4</th>\n",
       "      <td>-1.137649</td>\n",
       "      <td>0.401761</td>\n",
       "      <td>-0.785398</td>\n",
       "      <td>-0.986997</td>\n",
       "      <td>-1.252906</td>\n",
       "      <td>-1.446639</td>\n",
       "      <td>-1.597352e+00</td>\n",
       "      <td>-9.801587e-01</td>\n",
       "    </tr>\n",
       "  </tbody>\n",
       "</table>\n",
       "</div>"
      ],
      "text/plain": [
       "   time_in_hospital  num_lab_procedures  num_procedures  num_medications  \\\n",
       "0         -1.137649           -0.106517       -0.785398        -1.848268   \n",
       "1         -0.467653            0.808384       -0.785398         0.243390   \n",
       "2         -0.802651           -1.631351        2.145781        -0.371804   \n",
       "3         -0.802651            0.045967       -0.199162        -0.002688   \n",
       "4         -1.137649            0.401761       -0.785398        -0.986997   \n",
       "\n",
       "   number_diagnoses    diag_1        diag_2        diag_3  \n",
       "0         -3.321596 -1.184073  6.769429e-14  5.201202e-14  \n",
       "1          0.815784 -1.061302 -1.069901e+00 -9.510184e-01  \n",
       "2         -0.735733  0.753197 -1.069958e+00  5.201202e-14  \n",
       "3         -0.218561 -2.368522 -1.067519e+00 -8.846576e-02  \n",
       "4         -1.252906 -1.446639 -1.597352e+00 -9.801587e-01  "
      ]
     },
     "execution_count": 55,
     "metadata": {},
     "output_type": "execute_result"
    }
   ],
   "source": [
    "dfDiabetesFull[columnsNumeric].head()"
   ]
  },
  {
   "cell_type": "markdown",
   "metadata": {},
   "source": [
    "## 7. Asignación de Muestra Train - Test"
   ]
  },
  {
   "cell_type": "markdown",
   "metadata": {
    "colab_type": "text",
    "id": "l4805B0QjkAq"
   },
   "source": [
    "Selecionamos una muestra"
   ]
  },
  {
   "cell_type": "code",
   "execution_count": 56,
   "metadata": {
    "colab": {},
    "colab_type": "code",
    "id": "YbCZQD8MhqGu"
   },
   "outputs": [],
   "source": [
    "X = dfDiabetesFull[columnsToEvaluate].values\n",
    "y = dfDiabetesFull[[columnTarget]].values\n",
    "X_train, X_test, y_train, y_test = train_test_split(X, y, test_size = 0.3, random_state = 43)"
   ]
  },
  {
   "cell_type": "markdown",
   "metadata": {
    "colab_type": "text",
    "id": "UfaFtMVBfchk"
   },
   "source": [
    "Aplicamos mean encoder a las variables categoricas"
   ]
  },
  {
   "cell_type": "markdown",
   "metadata": {
    "colab_type": "text",
    "id": "nO_tXKnZO1bn"
   },
   "source": [
    "### crear la matriz de correlación"
   ]
  },
  {
   "cell_type": "code",
   "execution_count": 57,
   "metadata": {
    "colab": {},
    "colab_type": "code",
    "id": "8Xann1pEthiw"
   },
   "outputs": [],
   "source": [
    "pdX_train = pd.DataFrame(X_train, columns = columnsToEvaluate)\n",
    "pdy_train = pd.DataFrame(y_train, columns = [\"target\"])\n",
    "pdX_test = pd.DataFrame(X_test, columns = columnsToEvaluate)\n",
    "pdy_test = pd.DataFrame(y_test, columns = [\"target\"])"
   ]
  },
  {
   "cell_type": "markdown",
   "metadata": {
    "colab_type": "text",
    "id": "bdTlliKDO1_2"
   },
   "source": [
    "### pintar la matriz de correlación"
   ]
  },
  {
   "cell_type": "code",
   "execution_count": 58,
   "metadata": {
    "colab": {
     "base_uri": "https://localhost:8080/",
     "height": 817
    },
    "colab_type": "code",
    "id": "WVBwvT9lOywN",
    "outputId": "32f8b7ab-6423-4153-a513-152e9572b80f"
   },
   "outputs": [
    {
     "data": {
      "text/html": [
       "<div>\n",
       "<style scoped>\n",
       "    .dataframe tbody tr th:only-of-type {\n",
       "        vertical-align: middle;\n",
       "    }\n",
       "\n",
       "    .dataframe tbody tr th {\n",
       "        vertical-align: top;\n",
       "    }\n",
       "\n",
       "    .dataframe thead th {\n",
       "        text-align: right;\n",
       "    }\n",
       "</style>\n",
       "<table border=\"1\" class=\"dataframe\">\n",
       "  <thead>\n",
       "    <tr style=\"text-align: right;\">\n",
       "      <th></th>\n",
       "      <th>time_in_hospital</th>\n",
       "      <th>num_lab_procedures</th>\n",
       "      <th>num_procedures</th>\n",
       "      <th>num_medications</th>\n",
       "      <th>number_diagnoses</th>\n",
       "      <th>diag_1</th>\n",
       "      <th>diag_2</th>\n",
       "      <th>diag_3</th>\n",
       "      <th>description_y_number</th>\n",
       "      <th>glyburide_number</th>\n",
       "      <th>...</th>\n",
       "      <th>payer_code_number</th>\n",
       "      <th>description_x_number</th>\n",
       "      <th>diabetes_med_number</th>\n",
       "      <th>medical_specialty_number</th>\n",
       "      <th>description_number</th>\n",
       "      <th>race_number</th>\n",
       "      <th>change_number</th>\n",
       "      <th>number_inpatient_number</th>\n",
       "      <th>number_emergency_number</th>\n",
       "      <th>number_outpatient_number</th>\n",
       "    </tr>\n",
       "  </thead>\n",
       "  <tbody>\n",
       "    <tr>\n",
       "      <th>time_in_hospital</th>\n",
       "      <td>1.000000</td>\n",
       "      <td>0.317390</td>\n",
       "      <td>0.189580</td>\n",
       "      <td>0.465542</td>\n",
       "      <td>0.218447</td>\n",
       "      <td>-0.088885</td>\n",
       "      <td>0.072395</td>\n",
       "      <td>0.085505</td>\n",
       "      <td>0.019935</td>\n",
       "      <td>-0.006601</td>\n",
       "      <td>...</td>\n",
       "      <td>0.056450</td>\n",
       "      <td>-0.041758</td>\n",
       "      <td>0.063685</td>\n",
       "      <td>0.043720</td>\n",
       "      <td>0.075939</td>\n",
       "      <td>0.009356</td>\n",
       "      <td>0.109697</td>\n",
       "      <td>0.090020</td>\n",
       "      <td>-0.008169</td>\n",
       "      <td>-0.019463</td>\n",
       "    </tr>\n",
       "    <tr>\n",
       "      <th>num_lab_procedures</th>\n",
       "      <td>0.317390</td>\n",
       "      <td>1.000000</td>\n",
       "      <td>0.054441</td>\n",
       "      <td>0.267431</td>\n",
       "      <td>0.153616</td>\n",
       "      <td>-0.082610</td>\n",
       "      <td>0.010253</td>\n",
       "      <td>0.030304</td>\n",
       "      <td>0.223676</td>\n",
       "      <td>0.007425</td>\n",
       "      <td>...</td>\n",
       "      <td>0.021360</td>\n",
       "      <td>0.110319</td>\n",
       "      <td>0.033423</td>\n",
       "      <td>0.064674</td>\n",
       "      <td>-0.029040</td>\n",
       "      <td>-0.007776</td>\n",
       "      <td>0.062106</td>\n",
       "      <td>0.043573</td>\n",
       "      <td>0.004460</td>\n",
       "      <td>-0.030481</td>\n",
       "    </tr>\n",
       "    <tr>\n",
       "      <th>num_procedures</th>\n",
       "      <td>0.189580</td>\n",
       "      <td>0.054441</td>\n",
       "      <td>1.000000</td>\n",
       "      <td>0.381687</td>\n",
       "      <td>0.074793</td>\n",
       "      <td>-0.009251</td>\n",
       "      <td>0.061101</td>\n",
       "      <td>0.049142</td>\n",
       "      <td>-0.167232</td>\n",
       "      <td>0.000192</td>\n",
       "      <td>...</td>\n",
       "      <td>-0.046571</td>\n",
       "      <td>-0.150700</td>\n",
       "      <td>-0.008652</td>\n",
       "      <td>-0.096481</td>\n",
       "      <td>-0.032934</td>\n",
       "      <td>0.010267</td>\n",
       "      <td>0.003168</td>\n",
       "      <td>-0.073386</td>\n",
       "      <td>-0.052784</td>\n",
       "      <td>-0.035912</td>\n",
       "    </tr>\n",
       "    <tr>\n",
       "      <th>num_medications</th>\n",
       "      <td>0.465542</td>\n",
       "      <td>0.267431</td>\n",
       "      <td>0.381687</td>\n",
       "      <td>1.000000</td>\n",
       "      <td>0.261420</td>\n",
       "      <td>0.002437</td>\n",
       "      <td>0.076628</td>\n",
       "      <td>0.069168</td>\n",
       "      <td>-0.113417</td>\n",
       "      <td>-0.014740</td>\n",
       "      <td>...</td>\n",
       "      <td>0.036293</td>\n",
       "      <td>-0.049014</td>\n",
       "      <td>0.186806</td>\n",
       "      <td>-0.063955</td>\n",
       "      <td>0.055043</td>\n",
       "      <td>0.033737</td>\n",
       "      <td>0.244196</td>\n",
       "      <td>0.075587</td>\n",
       "      <td>0.026588</td>\n",
       "      <td>0.057331</td>\n",
       "    </tr>\n",
       "    <tr>\n",
       "      <th>number_diagnoses</th>\n",
       "      <td>0.218447</td>\n",
       "      <td>0.153616</td>\n",
       "      <td>0.074793</td>\n",
       "      <td>0.261420</td>\n",
       "      <td>1.000000</td>\n",
       "      <td>0.008692</td>\n",
       "      <td>0.150554</td>\n",
       "      <td>0.156958</td>\n",
       "      <td>0.039103</td>\n",
       "      <td>0.019032</td>\n",
       "      <td>...</td>\n",
       "      <td>0.100441</td>\n",
       "      <td>0.163604</td>\n",
       "      <td>0.023707</td>\n",
       "      <td>0.204908</td>\n",
       "      <td>0.035427</td>\n",
       "      <td>0.080154</td>\n",
       "      <td>0.054160</td>\n",
       "      <td>0.133624</td>\n",
       "      <td>0.082356</td>\n",
       "      <td>0.109104</td>\n",
       "    </tr>\n",
       "    <tr>\n",
       "      <th>diag_1</th>\n",
       "      <td>-0.088885</td>\n",
       "      <td>-0.082610</td>\n",
       "      <td>-0.009251</td>\n",
       "      <td>0.002437</td>\n",
       "      <td>0.008692</td>\n",
       "      <td>1.000000</td>\n",
       "      <td>-0.001578</td>\n",
       "      <td>-0.018622</td>\n",
       "      <td>-0.023458</td>\n",
       "      <td>-0.007872</td>\n",
       "      <td>...</td>\n",
       "      <td>-0.019682</td>\n",
       "      <td>0.004531</td>\n",
       "      <td>-0.031841</td>\n",
       "      <td>-0.083480</td>\n",
       "      <td>0.068119</td>\n",
       "      <td>0.004507</td>\n",
       "      <td>-0.034478</td>\n",
       "      <td>-0.018780</td>\n",
       "      <td>-0.015473</td>\n",
       "      <td>0.001344</td>\n",
       "    </tr>\n",
       "    <tr>\n",
       "      <th>diag_2</th>\n",
       "      <td>0.072395</td>\n",
       "      <td>0.010253</td>\n",
       "      <td>0.061101</td>\n",
       "      <td>0.076628</td>\n",
       "      <td>0.150554</td>\n",
       "      <td>-0.001578</td>\n",
       "      <td>1.000000</td>\n",
       "      <td>0.067390</td>\n",
       "      <td>-0.025854</td>\n",
       "      <td>0.001534</td>\n",
       "      <td>...</td>\n",
       "      <td>0.011613</td>\n",
       "      <td>-0.009434</td>\n",
       "      <td>-0.008095</td>\n",
       "      <td>0.010596</td>\n",
       "      <td>0.026741</td>\n",
       "      <td>0.001914</td>\n",
       "      <td>-0.004004</td>\n",
       "      <td>0.020870</td>\n",
       "      <td>0.004057</td>\n",
       "      <td>0.022457</td>\n",
       "    </tr>\n",
       "    <tr>\n",
       "      <th>diag_3</th>\n",
       "      <td>0.085505</td>\n",
       "      <td>0.030304</td>\n",
       "      <td>0.049142</td>\n",
       "      <td>0.069168</td>\n",
       "      <td>0.156958</td>\n",
       "      <td>-0.018622</td>\n",
       "      <td>0.067390</td>\n",
       "      <td>1.000000</td>\n",
       "      <td>-0.013761</td>\n",
       "      <td>0.009821</td>\n",
       "      <td>...</td>\n",
       "      <td>0.012774</td>\n",
       "      <td>0.003225</td>\n",
       "      <td>-0.002689</td>\n",
       "      <td>0.012547</td>\n",
       "      <td>0.017364</td>\n",
       "      <td>0.001027</td>\n",
       "      <td>0.004171</td>\n",
       "      <td>0.020015</td>\n",
       "      <td>0.008937</td>\n",
       "      <td>0.021595</td>\n",
       "    </tr>\n",
       "    <tr>\n",
       "      <th>description_y_number</th>\n",
       "      <td>0.019935</td>\n",
       "      <td>0.223676</td>\n",
       "      <td>-0.167232</td>\n",
       "      <td>-0.113417</td>\n",
       "      <td>0.039103</td>\n",
       "      <td>-0.023458</td>\n",
       "      <td>-0.025854</td>\n",
       "      <td>-0.013761</td>\n",
       "      <td>1.000000</td>\n",
       "      <td>0.000345</td>\n",
       "      <td>...</td>\n",
       "      <td>0.029328</td>\n",
       "      <td>0.308829</td>\n",
       "      <td>-0.023719</td>\n",
       "      <td>0.154674</td>\n",
       "      <td>-0.024076</td>\n",
       "      <td>-0.011953</td>\n",
       "      <td>-0.044810</td>\n",
       "      <td>0.039825</td>\n",
       "      <td>0.028589</td>\n",
       "      <td>0.006112</td>\n",
       "    </tr>\n",
       "    <tr>\n",
       "      <th>glyburide_number</th>\n",
       "      <td>-0.006601</td>\n",
       "      <td>0.007425</td>\n",
       "      <td>0.000192</td>\n",
       "      <td>-0.014740</td>\n",
       "      <td>0.019032</td>\n",
       "      <td>-0.007872</td>\n",
       "      <td>0.001534</td>\n",
       "      <td>0.009821</td>\n",
       "      <td>0.000345</td>\n",
       "      <td>1.000000</td>\n",
       "      <td>...</td>\n",
       "      <td>-0.001384</td>\n",
       "      <td>0.005209</td>\n",
       "      <td>-0.106080</td>\n",
       "      <td>0.012747</td>\n",
       "      <td>-0.007112</td>\n",
       "      <td>-0.002547</td>\n",
       "      <td>-0.089209</td>\n",
       "      <td>0.025095</td>\n",
       "      <td>0.022333</td>\n",
       "      <td>0.006486</td>\n",
       "    </tr>\n",
       "    <tr>\n",
       "      <th>metformin_number</th>\n",
       "      <td>0.001877</td>\n",
       "      <td>0.044017</td>\n",
       "      <td>0.036614</td>\n",
       "      <td>-0.069919</td>\n",
       "      <td>0.067633</td>\n",
       "      <td>-0.032460</td>\n",
       "      <td>0.007098</td>\n",
       "      <td>0.022185</td>\n",
       "      <td>0.047930</td>\n",
       "      <td>0.085610</td>\n",
       "      <td>...</td>\n",
       "      <td>0.045077</td>\n",
       "      <td>0.007325</td>\n",
       "      <td>-0.265009</td>\n",
       "      <td>0.042135</td>\n",
       "      <td>-0.041934</td>\n",
       "      <td>0.005337</td>\n",
       "      <td>-0.320226</td>\n",
       "      <td>0.075002</td>\n",
       "      <td>0.016234</td>\n",
       "      <td>0.003298</td>\n",
       "    </tr>\n",
       "    <tr>\n",
       "      <th>age_number</th>\n",
       "      <td>0.080288</td>\n",
       "      <td>0.007240</td>\n",
       "      <td>0.020601</td>\n",
       "      <td>0.071414</td>\n",
       "      <td>0.185838</td>\n",
       "      <td>0.032972</td>\n",
       "      <td>0.044532</td>\n",
       "      <td>0.022627</td>\n",
       "      <td>-0.006719</td>\n",
       "      <td>-0.031793</td>\n",
       "      <td>...</td>\n",
       "      <td>0.169194</td>\n",
       "      <td>-0.008606</td>\n",
       "      <td>0.005070</td>\n",
       "      <td>0.099001</td>\n",
       "      <td>0.030824</td>\n",
       "      <td>0.028378</td>\n",
       "      <td>0.003070</td>\n",
       "      <td>0.020753</td>\n",
       "      <td>-0.039907</td>\n",
       "      <td>0.037546</td>\n",
       "    </tr>\n",
       "    <tr>\n",
       "      <th>glipizide_number</th>\n",
       "      <td>0.035444</td>\n",
       "      <td>0.027037</td>\n",
       "      <td>0.011535</td>\n",
       "      <td>0.068310</td>\n",
       "      <td>0.000321</td>\n",
       "      <td>0.003846</td>\n",
       "      <td>0.000910</td>\n",
       "      <td>0.001428</td>\n",
       "      <td>0.003033</td>\n",
       "      <td>0.056660</td>\n",
       "      <td>...</td>\n",
       "      <td>0.013280</td>\n",
       "      <td>-0.002365</td>\n",
       "      <td>0.195061</td>\n",
       "      <td>-0.011185</td>\n",
       "      <td>0.035942</td>\n",
       "      <td>-0.002269</td>\n",
       "      <td>0.205666</td>\n",
       "      <td>-0.012163</td>\n",
       "      <td>-0.003865</td>\n",
       "      <td>0.009676</td>\n",
       "    </tr>\n",
       "    <tr>\n",
       "      <th>insulin_number</th>\n",
       "      <td>0.124471</td>\n",
       "      <td>0.103476</td>\n",
       "      <td>0.010536</td>\n",
       "      <td>0.231296</td>\n",
       "      <td>0.095946</td>\n",
       "      <td>-0.076169</td>\n",
       "      <td>-0.001720</td>\n",
       "      <td>0.020383</td>\n",
       "      <td>-0.032427</td>\n",
       "      <td>0.047814</td>\n",
       "      <td>...</td>\n",
       "      <td>0.023447</td>\n",
       "      <td>0.072907</td>\n",
       "      <td>0.382385</td>\n",
       "      <td>0.075731</td>\n",
       "      <td>0.026339</td>\n",
       "      <td>-0.006721</td>\n",
       "      <td>0.623341</td>\n",
       "      <td>0.092973</td>\n",
       "      <td>0.090562</td>\n",
       "      <td>0.034279</td>\n",
       "    </tr>\n",
       "    <tr>\n",
       "      <th>payer_code_number</th>\n",
       "      <td>0.056450</td>\n",
       "      <td>0.021360</td>\n",
       "      <td>-0.046571</td>\n",
       "      <td>0.036293</td>\n",
       "      <td>0.100441</td>\n",
       "      <td>-0.019682</td>\n",
       "      <td>0.011613</td>\n",
       "      <td>0.012774</td>\n",
       "      <td>0.029328</td>\n",
       "      <td>-0.001384</td>\n",
       "      <td>...</td>\n",
       "      <td>1.000000</td>\n",
       "      <td>0.045578</td>\n",
       "      <td>0.007875</td>\n",
       "      <td>0.049562</td>\n",
       "      <td>0.032279</td>\n",
       "      <td>0.027008</td>\n",
       "      <td>0.006982</td>\n",
       "      <td>0.064690</td>\n",
       "      <td>0.034915</td>\n",
       "      <td>0.055707</td>\n",
       "    </tr>\n",
       "    <tr>\n",
       "      <th>description_x_number</th>\n",
       "      <td>-0.041758</td>\n",
       "      <td>0.110319</td>\n",
       "      <td>-0.150700</td>\n",
       "      <td>-0.049014</td>\n",
       "      <td>0.163604</td>\n",
       "      <td>0.004531</td>\n",
       "      <td>-0.009434</td>\n",
       "      <td>0.003225</td>\n",
       "      <td>0.308829</td>\n",
       "      <td>0.005209</td>\n",
       "      <td>...</td>\n",
       "      <td>0.045578</td>\n",
       "      <td>1.000000</td>\n",
       "      <td>-0.004279</td>\n",
       "      <td>0.165637</td>\n",
       "      <td>-0.008915</td>\n",
       "      <td>0.082655</td>\n",
       "      <td>0.035496</td>\n",
       "      <td>0.065332</td>\n",
       "      <td>0.094963</td>\n",
       "      <td>0.052219</td>\n",
       "    </tr>\n",
       "    <tr>\n",
       "      <th>diabetes_med_number</th>\n",
       "      <td>0.063685</td>\n",
       "      <td>0.033423</td>\n",
       "      <td>-0.008652</td>\n",
       "      <td>0.186806</td>\n",
       "      <td>0.023707</td>\n",
       "      <td>-0.031841</td>\n",
       "      <td>-0.008095</td>\n",
       "      <td>-0.002689</td>\n",
       "      <td>-0.023719</td>\n",
       "      <td>-0.106080</td>\n",
       "      <td>...</td>\n",
       "      <td>0.007875</td>\n",
       "      <td>-0.004279</td>\n",
       "      <td>1.000000</td>\n",
       "      <td>-0.001212</td>\n",
       "      <td>0.050159</td>\n",
       "      <td>-0.015462</td>\n",
       "      <td>0.506878</td>\n",
       "      <td>0.030098</td>\n",
       "      <td>0.034434</td>\n",
       "      <td>0.017313</td>\n",
       "    </tr>\n",
       "    <tr>\n",
       "      <th>medical_specialty_number</th>\n",
       "      <td>0.043720</td>\n",
       "      <td>0.064674</td>\n",
       "      <td>-0.096481</td>\n",
       "      <td>-0.063955</td>\n",
       "      <td>0.204908</td>\n",
       "      <td>-0.083480</td>\n",
       "      <td>0.010596</td>\n",
       "      <td>0.012547</td>\n",
       "      <td>0.154674</td>\n",
       "      <td>0.012747</td>\n",
       "      <td>...</td>\n",
       "      <td>0.049562</td>\n",
       "      <td>0.165637</td>\n",
       "      <td>-0.001212</td>\n",
       "      <td>1.000000</td>\n",
       "      <td>-0.012509</td>\n",
       "      <td>0.011286</td>\n",
       "      <td>0.030723</td>\n",
       "      <td>0.091499</td>\n",
       "      <td>0.078635</td>\n",
       "      <td>0.062435</td>\n",
       "    </tr>\n",
       "    <tr>\n",
       "      <th>description_number</th>\n",
       "      <td>0.075939</td>\n",
       "      <td>-0.029040</td>\n",
       "      <td>-0.032934</td>\n",
       "      <td>0.055043</td>\n",
       "      <td>0.035427</td>\n",
       "      <td>0.068119</td>\n",
       "      <td>0.026741</td>\n",
       "      <td>0.017364</td>\n",
       "      <td>-0.024076</td>\n",
       "      <td>-0.007112</td>\n",
       "      <td>...</td>\n",
       "      <td>0.032279</td>\n",
       "      <td>-0.008915</td>\n",
       "      <td>0.050159</td>\n",
       "      <td>-0.012509</td>\n",
       "      <td>1.000000</td>\n",
       "      <td>0.010336</td>\n",
       "      <td>0.059874</td>\n",
       "      <td>0.013462</td>\n",
       "      <td>0.018790</td>\n",
       "      <td>0.049072</td>\n",
       "    </tr>\n",
       "    <tr>\n",
       "      <th>race_number</th>\n",
       "      <td>0.009356</td>\n",
       "      <td>-0.007776</td>\n",
       "      <td>0.010267</td>\n",
       "      <td>0.033737</td>\n",
       "      <td>0.080154</td>\n",
       "      <td>0.004507</td>\n",
       "      <td>0.001914</td>\n",
       "      <td>0.001027</td>\n",
       "      <td>-0.011953</td>\n",
       "      <td>-0.002547</td>\n",
       "      <td>...</td>\n",
       "      <td>0.027008</td>\n",
       "      <td>0.082655</td>\n",
       "      <td>-0.015462</td>\n",
       "      <td>0.011286</td>\n",
       "      <td>0.010336</td>\n",
       "      <td>1.000000</td>\n",
       "      <td>-0.008684</td>\n",
       "      <td>0.044103</td>\n",
       "      <td>0.024840</td>\n",
       "      <td>0.043343</td>\n",
       "    </tr>\n",
       "    <tr>\n",
       "      <th>change_number</th>\n",
       "      <td>0.109697</td>\n",
       "      <td>0.062106</td>\n",
       "      <td>0.003168</td>\n",
       "      <td>0.244196</td>\n",
       "      <td>0.054160</td>\n",
       "      <td>-0.034478</td>\n",
       "      <td>-0.004004</td>\n",
       "      <td>0.004171</td>\n",
       "      <td>-0.044810</td>\n",
       "      <td>-0.089209</td>\n",
       "      <td>...</td>\n",
       "      <td>0.006982</td>\n",
       "      <td>0.035496</td>\n",
       "      <td>0.506878</td>\n",
       "      <td>0.030723</td>\n",
       "      <td>0.059874</td>\n",
       "      <td>-0.008684</td>\n",
       "      <td>1.000000</td>\n",
       "      <td>0.024518</td>\n",
       "      <td>0.053564</td>\n",
       "      <td>0.031561</td>\n",
       "    </tr>\n",
       "    <tr>\n",
       "      <th>number_inpatient_number</th>\n",
       "      <td>0.090020</td>\n",
       "      <td>0.043573</td>\n",
       "      <td>-0.073386</td>\n",
       "      <td>0.075587</td>\n",
       "      <td>0.133624</td>\n",
       "      <td>-0.018780</td>\n",
       "      <td>0.020870</td>\n",
       "      <td>0.020015</td>\n",
       "      <td>0.039825</td>\n",
       "      <td>0.025095</td>\n",
       "      <td>...</td>\n",
       "      <td>0.064690</td>\n",
       "      <td>0.065332</td>\n",
       "      <td>0.030098</td>\n",
       "      <td>0.091499</td>\n",
       "      <td>0.013462</td>\n",
       "      <td>0.044103</td>\n",
       "      <td>0.024518</td>\n",
       "      <td>1.000000</td>\n",
       "      <td>0.246239</td>\n",
       "      <td>0.161920</td>\n",
       "    </tr>\n",
       "    <tr>\n",
       "      <th>number_emergency_number</th>\n",
       "      <td>-0.008169</td>\n",
       "      <td>0.004460</td>\n",
       "      <td>-0.052784</td>\n",
       "      <td>0.026588</td>\n",
       "      <td>0.082356</td>\n",
       "      <td>-0.015473</td>\n",
       "      <td>0.004057</td>\n",
       "      <td>0.008937</td>\n",
       "      <td>0.028589</td>\n",
       "      <td>0.022333</td>\n",
       "      <td>...</td>\n",
       "      <td>0.034915</td>\n",
       "      <td>0.094963</td>\n",
       "      <td>0.034434</td>\n",
       "      <td>0.078635</td>\n",
       "      <td>0.018790</td>\n",
       "      <td>0.024840</td>\n",
       "      <td>0.053564</td>\n",
       "      <td>0.246239</td>\n",
       "      <td>1.000000</td>\n",
       "      <td>0.181936</td>\n",
       "    </tr>\n",
       "    <tr>\n",
       "      <th>number_outpatient_number</th>\n",
       "      <td>-0.019463</td>\n",
       "      <td>-0.030481</td>\n",
       "      <td>-0.035912</td>\n",
       "      <td>0.057331</td>\n",
       "      <td>0.109104</td>\n",
       "      <td>0.001344</td>\n",
       "      <td>0.022457</td>\n",
       "      <td>0.021595</td>\n",
       "      <td>0.006112</td>\n",
       "      <td>0.006486</td>\n",
       "      <td>...</td>\n",
       "      <td>0.055707</td>\n",
       "      <td>0.052219</td>\n",
       "      <td>0.017313</td>\n",
       "      <td>0.062435</td>\n",
       "      <td>0.049072</td>\n",
       "      <td>0.043343</td>\n",
       "      <td>0.031561</td>\n",
       "      <td>0.161920</td>\n",
       "      <td>0.181936</td>\n",
       "      <td>1.000000</td>\n",
       "    </tr>\n",
       "  </tbody>\n",
       "</table>\n",
       "<p>24 rows × 24 columns</p>\n",
       "</div>"
      ],
      "text/plain": [
       "                          time_in_hospital  num_lab_procedures  \\\n",
       "time_in_hospital                  1.000000            0.317390   \n",
       "num_lab_procedures                0.317390            1.000000   \n",
       "num_procedures                    0.189580            0.054441   \n",
       "num_medications                   0.465542            0.267431   \n",
       "number_diagnoses                  0.218447            0.153616   \n",
       "diag_1                           -0.088885           -0.082610   \n",
       "diag_2                            0.072395            0.010253   \n",
       "diag_3                            0.085505            0.030304   \n",
       "description_y_number              0.019935            0.223676   \n",
       "glyburide_number                 -0.006601            0.007425   \n",
       "metformin_number                  0.001877            0.044017   \n",
       "age_number                        0.080288            0.007240   \n",
       "glipizide_number                  0.035444            0.027037   \n",
       "insulin_number                    0.124471            0.103476   \n",
       "payer_code_number                 0.056450            0.021360   \n",
       "description_x_number             -0.041758            0.110319   \n",
       "diabetes_med_number               0.063685            0.033423   \n",
       "medical_specialty_number          0.043720            0.064674   \n",
       "description_number                0.075939           -0.029040   \n",
       "race_number                       0.009356           -0.007776   \n",
       "change_number                     0.109697            0.062106   \n",
       "number_inpatient_number           0.090020            0.043573   \n",
       "number_emergency_number          -0.008169            0.004460   \n",
       "number_outpatient_number         -0.019463           -0.030481   \n",
       "\n",
       "                          num_procedures  num_medications  number_diagnoses  \\\n",
       "time_in_hospital                0.189580         0.465542          0.218447   \n",
       "num_lab_procedures              0.054441         0.267431          0.153616   \n",
       "num_procedures                  1.000000         0.381687          0.074793   \n",
       "num_medications                 0.381687         1.000000          0.261420   \n",
       "number_diagnoses                0.074793         0.261420          1.000000   \n",
       "diag_1                         -0.009251         0.002437          0.008692   \n",
       "diag_2                          0.061101         0.076628          0.150554   \n",
       "diag_3                          0.049142         0.069168          0.156958   \n",
       "description_y_number           -0.167232        -0.113417          0.039103   \n",
       "glyburide_number                0.000192        -0.014740          0.019032   \n",
       "metformin_number                0.036614        -0.069919          0.067633   \n",
       "age_number                      0.020601         0.071414          0.185838   \n",
       "glipizide_number                0.011535         0.068310          0.000321   \n",
       "insulin_number                  0.010536         0.231296          0.095946   \n",
       "payer_code_number              -0.046571         0.036293          0.100441   \n",
       "description_x_number           -0.150700        -0.049014          0.163604   \n",
       "diabetes_med_number            -0.008652         0.186806          0.023707   \n",
       "medical_specialty_number       -0.096481        -0.063955          0.204908   \n",
       "description_number             -0.032934         0.055043          0.035427   \n",
       "race_number                     0.010267         0.033737          0.080154   \n",
       "change_number                   0.003168         0.244196          0.054160   \n",
       "number_inpatient_number        -0.073386         0.075587          0.133624   \n",
       "number_emergency_number        -0.052784         0.026588          0.082356   \n",
       "number_outpatient_number       -0.035912         0.057331          0.109104   \n",
       "\n",
       "                            diag_1    diag_2    diag_3  description_y_number  \\\n",
       "time_in_hospital         -0.088885  0.072395  0.085505              0.019935   \n",
       "num_lab_procedures       -0.082610  0.010253  0.030304              0.223676   \n",
       "num_procedures           -0.009251  0.061101  0.049142             -0.167232   \n",
       "num_medications           0.002437  0.076628  0.069168             -0.113417   \n",
       "number_diagnoses          0.008692  0.150554  0.156958              0.039103   \n",
       "diag_1                    1.000000 -0.001578 -0.018622             -0.023458   \n",
       "diag_2                   -0.001578  1.000000  0.067390             -0.025854   \n",
       "diag_3                   -0.018622  0.067390  1.000000             -0.013761   \n",
       "description_y_number     -0.023458 -0.025854 -0.013761              1.000000   \n",
       "glyburide_number         -0.007872  0.001534  0.009821              0.000345   \n",
       "metformin_number         -0.032460  0.007098  0.022185              0.047930   \n",
       "age_number                0.032972  0.044532  0.022627             -0.006719   \n",
       "glipizide_number          0.003846  0.000910  0.001428              0.003033   \n",
       "insulin_number           -0.076169 -0.001720  0.020383             -0.032427   \n",
       "payer_code_number        -0.019682  0.011613  0.012774              0.029328   \n",
       "description_x_number      0.004531 -0.009434  0.003225              0.308829   \n",
       "diabetes_med_number      -0.031841 -0.008095 -0.002689             -0.023719   \n",
       "medical_specialty_number -0.083480  0.010596  0.012547              0.154674   \n",
       "description_number        0.068119  0.026741  0.017364             -0.024076   \n",
       "race_number               0.004507  0.001914  0.001027             -0.011953   \n",
       "change_number            -0.034478 -0.004004  0.004171             -0.044810   \n",
       "number_inpatient_number  -0.018780  0.020870  0.020015              0.039825   \n",
       "number_emergency_number  -0.015473  0.004057  0.008937              0.028589   \n",
       "number_outpatient_number  0.001344  0.022457  0.021595              0.006112   \n",
       "\n",
       "                          glyburide_number            ...             \\\n",
       "time_in_hospital                 -0.006601            ...              \n",
       "num_lab_procedures                0.007425            ...              \n",
       "num_procedures                    0.000192            ...              \n",
       "num_medications                  -0.014740            ...              \n",
       "number_diagnoses                  0.019032            ...              \n",
       "diag_1                           -0.007872            ...              \n",
       "diag_2                            0.001534            ...              \n",
       "diag_3                            0.009821            ...              \n",
       "description_y_number              0.000345            ...              \n",
       "glyburide_number                  1.000000            ...              \n",
       "metformin_number                  0.085610            ...              \n",
       "age_number                       -0.031793            ...              \n",
       "glipizide_number                  0.056660            ...              \n",
       "insulin_number                    0.047814            ...              \n",
       "payer_code_number                -0.001384            ...              \n",
       "description_x_number              0.005209            ...              \n",
       "diabetes_med_number              -0.106080            ...              \n",
       "medical_specialty_number          0.012747            ...              \n",
       "description_number               -0.007112            ...              \n",
       "race_number                      -0.002547            ...              \n",
       "change_number                    -0.089209            ...              \n",
       "number_inpatient_number           0.025095            ...              \n",
       "number_emergency_number           0.022333            ...              \n",
       "number_outpatient_number          0.006486            ...              \n",
       "\n",
       "                          payer_code_number  description_x_number  \\\n",
       "time_in_hospital                   0.056450             -0.041758   \n",
       "num_lab_procedures                 0.021360              0.110319   \n",
       "num_procedures                    -0.046571             -0.150700   \n",
       "num_medications                    0.036293             -0.049014   \n",
       "number_diagnoses                   0.100441              0.163604   \n",
       "diag_1                            -0.019682              0.004531   \n",
       "diag_2                             0.011613             -0.009434   \n",
       "diag_3                             0.012774              0.003225   \n",
       "description_y_number               0.029328              0.308829   \n",
       "glyburide_number                  -0.001384              0.005209   \n",
       "metformin_number                   0.045077              0.007325   \n",
       "age_number                         0.169194             -0.008606   \n",
       "glipizide_number                   0.013280             -0.002365   \n",
       "insulin_number                     0.023447              0.072907   \n",
       "payer_code_number                  1.000000              0.045578   \n",
       "description_x_number               0.045578              1.000000   \n",
       "diabetes_med_number                0.007875             -0.004279   \n",
       "medical_specialty_number           0.049562              0.165637   \n",
       "description_number                 0.032279             -0.008915   \n",
       "race_number                        0.027008              0.082655   \n",
       "change_number                      0.006982              0.035496   \n",
       "number_inpatient_number            0.064690              0.065332   \n",
       "number_emergency_number            0.034915              0.094963   \n",
       "number_outpatient_number           0.055707              0.052219   \n",
       "\n",
       "                          diabetes_med_number  medical_specialty_number  \\\n",
       "time_in_hospital                     0.063685                  0.043720   \n",
       "num_lab_procedures                   0.033423                  0.064674   \n",
       "num_procedures                      -0.008652                 -0.096481   \n",
       "num_medications                      0.186806                 -0.063955   \n",
       "number_diagnoses                     0.023707                  0.204908   \n",
       "diag_1                              -0.031841                 -0.083480   \n",
       "diag_2                              -0.008095                  0.010596   \n",
       "diag_3                              -0.002689                  0.012547   \n",
       "description_y_number                -0.023719                  0.154674   \n",
       "glyburide_number                    -0.106080                  0.012747   \n",
       "metformin_number                    -0.265009                  0.042135   \n",
       "age_number                           0.005070                  0.099001   \n",
       "glipizide_number                     0.195061                 -0.011185   \n",
       "insulin_number                       0.382385                  0.075731   \n",
       "payer_code_number                    0.007875                  0.049562   \n",
       "description_x_number                -0.004279                  0.165637   \n",
       "diabetes_med_number                  1.000000                 -0.001212   \n",
       "medical_specialty_number            -0.001212                  1.000000   \n",
       "description_number                   0.050159                 -0.012509   \n",
       "race_number                         -0.015462                  0.011286   \n",
       "change_number                        0.506878                  0.030723   \n",
       "number_inpatient_number              0.030098                  0.091499   \n",
       "number_emergency_number              0.034434                  0.078635   \n",
       "number_outpatient_number             0.017313                  0.062435   \n",
       "\n",
       "                          description_number  race_number  change_number  \\\n",
       "time_in_hospital                    0.075939     0.009356       0.109697   \n",
       "num_lab_procedures                 -0.029040    -0.007776       0.062106   \n",
       "num_procedures                     -0.032934     0.010267       0.003168   \n",
       "num_medications                     0.055043     0.033737       0.244196   \n",
       "number_diagnoses                    0.035427     0.080154       0.054160   \n",
       "diag_1                              0.068119     0.004507      -0.034478   \n",
       "diag_2                              0.026741     0.001914      -0.004004   \n",
       "diag_3                              0.017364     0.001027       0.004171   \n",
       "description_y_number               -0.024076    -0.011953      -0.044810   \n",
       "glyburide_number                   -0.007112    -0.002547      -0.089209   \n",
       "metformin_number                   -0.041934     0.005337      -0.320226   \n",
       "age_number                          0.030824     0.028378       0.003070   \n",
       "glipizide_number                    0.035942    -0.002269       0.205666   \n",
       "insulin_number                      0.026339    -0.006721       0.623341   \n",
       "payer_code_number                   0.032279     0.027008       0.006982   \n",
       "description_x_number               -0.008915     0.082655       0.035496   \n",
       "diabetes_med_number                 0.050159    -0.015462       0.506878   \n",
       "medical_specialty_number           -0.012509     0.011286       0.030723   \n",
       "description_number                  1.000000     0.010336       0.059874   \n",
       "race_number                         0.010336     1.000000      -0.008684   \n",
       "change_number                       0.059874    -0.008684       1.000000   \n",
       "number_inpatient_number             0.013462     0.044103       0.024518   \n",
       "number_emergency_number             0.018790     0.024840       0.053564   \n",
       "number_outpatient_number            0.049072     0.043343       0.031561   \n",
       "\n",
       "                          number_inpatient_number  number_emergency_number  \\\n",
       "time_in_hospital                         0.090020                -0.008169   \n",
       "num_lab_procedures                       0.043573                 0.004460   \n",
       "num_procedures                          -0.073386                -0.052784   \n",
       "num_medications                          0.075587                 0.026588   \n",
       "number_diagnoses                         0.133624                 0.082356   \n",
       "diag_1                                  -0.018780                -0.015473   \n",
       "diag_2                                   0.020870                 0.004057   \n",
       "diag_3                                   0.020015                 0.008937   \n",
       "description_y_number                     0.039825                 0.028589   \n",
       "glyburide_number                         0.025095                 0.022333   \n",
       "metformin_number                         0.075002                 0.016234   \n",
       "age_number                               0.020753                -0.039907   \n",
       "glipizide_number                        -0.012163                -0.003865   \n",
       "insulin_number                           0.092973                 0.090562   \n",
       "payer_code_number                        0.064690                 0.034915   \n",
       "description_x_number                     0.065332                 0.094963   \n",
       "diabetes_med_number                      0.030098                 0.034434   \n",
       "medical_specialty_number                 0.091499                 0.078635   \n",
       "description_number                       0.013462                 0.018790   \n",
       "race_number                              0.044103                 0.024840   \n",
       "change_number                            0.024518                 0.053564   \n",
       "number_inpatient_number                  1.000000                 0.246239   \n",
       "number_emergency_number                  0.246239                 1.000000   \n",
       "number_outpatient_number                 0.161920                 0.181936   \n",
       "\n",
       "                          number_outpatient_number  \n",
       "time_in_hospital                         -0.019463  \n",
       "num_lab_procedures                       -0.030481  \n",
       "num_procedures                           -0.035912  \n",
       "num_medications                           0.057331  \n",
       "number_diagnoses                          0.109104  \n",
       "diag_1                                    0.001344  \n",
       "diag_2                                    0.022457  \n",
       "diag_3                                    0.021595  \n",
       "description_y_number                      0.006112  \n",
       "glyburide_number                          0.006486  \n",
       "metformin_number                          0.003298  \n",
       "age_number                                0.037546  \n",
       "glipizide_number                          0.009676  \n",
       "insulin_number                            0.034279  \n",
       "payer_code_number                         0.055707  \n",
       "description_x_number                      0.052219  \n",
       "diabetes_med_number                       0.017313  \n",
       "medical_specialty_number                  0.062435  \n",
       "description_number                        0.049072  \n",
       "race_number                               0.043343  \n",
       "change_number                             0.031561  \n",
       "number_inpatient_number                   0.161920  \n",
       "number_emergency_number                   0.181936  \n",
       "number_outpatient_number                  1.000000  \n",
       "\n",
       "[24 rows x 24 columns]"
      ]
     },
     "execution_count": 58,
     "metadata": {},
     "output_type": "execute_result"
    }
   ],
   "source": [
    "pdX_train.corr()"
   ]
  },
  {
   "cell_type": "markdown",
   "metadata": {
    "colab_type": "text",
    "id": "RQVJ-e8CO581"
   },
   "source": [
    "### determinar qué par de variables están correlacionadas"
   ]
  },
  {
   "cell_type": "code",
   "execution_count": 59,
   "metadata": {
    "colab": {
     "base_uri": "https://localhost:8080/",
     "height": 308
    },
    "colab_type": "code",
    "id": "9OGSLe_ztdac",
    "outputId": "5e2381d1-fed5-4eae-c4d0-766849a402c6"
   },
   "outputs": [
    {
     "name": "stdout",
     "output_type": "stream",
     "text": [
      "insulin_number\n",
      "change_number    0.623341\n",
      "Name: insulin_number, dtype: float64\n",
      "\n",
      "\n",
      "diabetes_med_number\n",
      "change_number    0.506878\n",
      "Name: diabetes_med_number, dtype: float64\n",
      "\n",
      "\n",
      "change_number\n",
      "insulin_number         0.623341\n",
      "diabetes_med_number    0.506878\n",
      "Name: change_number, dtype: float64\n",
      "\n",
      "\n"
     ]
    }
   ],
   "source": [
    "for columnName in columnsToEvaluate:\n",
    "  dfDiabetesFull_corr = pdX_train.corr()[columnName]\n",
    "  df_numerical_most_corr = dfDiabetesFull_corr[(abs(dfDiabetesFull_corr) > 0.5) & (abs(dfDiabetesFull_corr) < 1.0)]\n",
    "  if df_numerical_most_corr.shape[0] > 0:\n",
    "    print(columnName)\n",
    "    print(df_numerical_most_corr)\n",
    "    print(\"\\n\")"
   ]
  },
  {
   "cell_type": "markdown",
   "metadata": {
    "colab_type": "text",
    "id": "qTE3QuHMv8fj"
   },
   "source": [
    "Obtenemos el valor de significacia de cada variable"
   ]
  },
  {
   "cell_type": "markdown",
   "metadata": {
    "colab_type": "text",
    "id": "FUj6_fUPO8QV"
   },
   "source": [
    "### estudiar los pares de variables correlacionadas para quedarse solamente con una del par"
   ]
  },
  {
   "cell_type": "code",
   "execution_count": 60,
   "metadata": {
    "colab": {
     "base_uri": "https://localhost:8080/",
     "height": 126
    },
    "colab_type": "code",
    "id": "QG9eWT7lxhYs",
    "outputId": "76a0340c-6283-4251-ec72-2bc993f8e507"
   },
   "outputs": [
    {
     "name": "stdout",
     "output_type": "stream",
     "text": [
      "                insulin_number    target\n",
      "insulin_number        1.000000  0.066585\n",
      "target                0.066585  1.000000\n",
      "               change_number    target\n",
      "change_number       1.000000  0.044533\n",
      "target              0.044533  1.000000\n"
     ]
    }
   ],
   "source": [
    "pd1 = pdX_train.join(pd.DataFrame(y_train, columns = [\"target\"]))\n",
    "print(pd1[[\"insulin_number\", \"target\"]].corr())\n",
    "print(pd1[[\"change_number\", \"target\"]].corr())"
   ]
  },
  {
   "cell_type": "markdown",
   "metadata": {
    "colab_type": "text",
    "id": "il_c_Gf111Zc"
   },
   "source": [
    "Eliminamos \"change_number\" y con esto todas las correlaciones se resuelven"
   ]
  },
  {
   "cell_type": "code",
   "execution_count": 61,
   "metadata": {
    "colab": {},
    "colab_type": "code",
    "id": "H-HxIizY17-a"
   },
   "outputs": [],
   "source": [
    "columnsToEvaluate.remove(\"change_number\")"
   ]
  },
  {
   "cell_type": "markdown",
   "metadata": {
    "colab_type": "text",
    "id": "Ot8ytwqIOjyh"
   },
   "source": [
    "# 8. Modelado y Evaluación:"
   ]
  },
  {
   "cell_type": "markdown",
   "metadata": {
    "colab_type": "text",
    "id": "FWLJrQBJNw9v"
   },
   "source": [
    "### Estandarizar variables"
   ]
  },
  {
   "cell_type": "code",
   "execution_count": 62,
   "metadata": {
    "colab": {},
    "colab_type": "code",
    "id": "c_ayWKmRObA8"
   },
   "outputs": [],
   "source": [
    "#Ya está Estandarizado"
   ]
  },
  {
   "cell_type": "markdown",
   "metadata": {},
   "source": [
    "### 8.0 Random Forest (selección de variables):"
   ]
  },
  {
   "cell_type": "code",
   "execution_count": 63,
   "metadata": {},
   "outputs": [
    {
     "name": "stderr",
     "output_type": "stream",
     "text": [
      "C:\\Anaconda3\\lib\\site-packages\\ipykernel_launcher.py:4: DataConversionWarning: A column-vector y was passed when a 1d array was expected. Please change the shape of y to (n_samples,), for example using ravel().\n",
      "  after removing the cwd from sys.path.\n"
     ]
    }
   ],
   "source": [
    "rf = RandomForestClassifier(n_estimators = 10, random_state = 3)\n",
    "\n",
    "# Entrenamiento del modelo\n",
    "rf.fit(pdX_train[columnsToEvaluate], y_train);"
   ]
  },
  {
   "cell_type": "code",
   "execution_count": 64,
   "metadata": {},
   "outputs": [],
   "source": [
    "# Extrayendo la importancia de variables:\n",
    "importances = list(rf.feature_importances_)"
   ]
  },
  {
   "cell_type": "code",
   "execution_count": 65,
   "metadata": {},
   "outputs": [
    {
     "name": "stdout",
     "output_type": "stream",
     "text": [
      "Variable: num_lab_procedures             Importance: 0.1\n",
      "Variable: diag_1                         Importance: 0.09\n",
      "Variable: diag_2                         Importance: 0.09\n",
      "Variable: diag_3                         Importance: 0.09\n",
      "Variable: num_medications                Importance: 0.08\n",
      "Variable: time_in_hospital               Importance: 0.06\n",
      "Variable: medical_specialty_number       Importance: 0.05\n",
      "Variable: description_number             Importance: 0.05\n",
      "Variable: number_inpatient_number        Importance: 0.05\n",
      "Variable: num_procedures                 Importance: 0.04\n",
      "Variable: number_diagnoses               Importance: 0.04\n",
      "Variable: age_number                     Importance: 0.04\n",
      "Variable: payer_code_number              Importance: 0.04\n",
      "Variable: description_y_number           Importance: 0.03\n",
      "Variable: insulin_number                 Importance: 0.03\n",
      "Variable: metformin_number               Importance: 0.02\n",
      "Variable: description_x_number           Importance: 0.02\n",
      "Variable: race_number                    Importance: 0.02\n",
      "Variable: glyburide_number               Importance: 0.01\n",
      "Variable: glipizide_number               Importance: 0.01\n",
      "Variable: diabetes_med_number            Importance: 0.01\n",
      "Variable: number_emergency_number        Importance: 0.01\n",
      "Variable: number_outpatient_number       Importance: 0.01\n"
     ]
    }
   ],
   "source": [
    "# Ubicamos a la importancia y nombre de varoables en una lista\n",
    "feature_importances = [(feature, round(importance, 2)) for feature, importance in zip(columnsToEvaluate, importances)]\n",
    "\n",
    "# Ordenamos las variables conforme al grado de importancia\n",
    "feature_importances = sorted(feature_importances, key = lambda x: x[1], reverse = True)\n",
    "\n",
    "# Visualizamos la importancia de las variables:\n",
    "[print('Variable: {:30} Importance: {}'.format(*pair)) for pair in feature_importances];"
   ]
  },
  {
   "cell_type": "markdown",
   "metadata": {
    "colab_type": "text",
    "id": "j2yxlQTVNxAS"
   },
   "source": [
    "### 8.1 Regresión Logística:"
   ]
  },
  {
   "cell_type": "code",
   "execution_count": 66,
   "metadata": {
    "colab": {},
    "colab_type": "code",
    "id": "UZ6mYNpPOWiz"
   },
   "outputs": [
    {
     "name": "stderr",
     "output_type": "stream",
     "text": [
      "C:\\Anaconda3\\lib\\site-packages\\sklearn\\utils\\validation.py:578: DataConversionWarning: A column-vector y was passed when a 1d array was expected. Please change the shape of y to (n_samples, ), for example using ravel().\n",
      "  y = column_or_1d(y, warn=True)\n"
     ]
    },
    {
     "data": {
      "text/plain": [
       "LogisticRegression(C=1.0, class_weight=None, dual=False, fit_intercept=True,\n",
       "          intercept_scaling=1, max_iter=100, multi_class='ovr', n_jobs=1,\n",
       "          penalty='l2', random_state=None, solver='liblinear', tol=0.0001,\n",
       "          verbose=0, warm_start=False)"
      ]
     },
     "execution_count": 66,
     "metadata": {},
     "output_type": "execute_result"
    }
   ],
   "source": [
    "# Regresión Logístico:\n",
    "classifier = LogisticRegression()\n",
    "classifier.fit(pdX_train[columnsToEvaluate], y_train)"
   ]
  },
  {
   "cell_type": "markdown",
   "metadata": {},
   "source": [
    "Predicción:"
   ]
  },
  {
   "cell_type": "code",
   "execution_count": 67,
   "metadata": {},
   "outputs": [],
   "source": [
    "prediction_train = classifier.score(pdX_train[columnsToEvaluate], y_train)\n",
    "prediction_test = classifier.score(pdX_test[columnsToEvaluate], y_test)"
   ]
  },
  {
   "cell_type": "code",
   "execution_count": 68,
   "metadata": {
    "colab": {
     "base_uri": "https://localhost:8080/",
     "height": 110
    },
    "colab_type": "code",
    "id": "B1z1F0BnEhd2",
    "outputId": "48b62b78-40b4-4edd-8f50-2677a923b8f0"
   },
   "outputs": [
    {
     "name": "stdout",
     "output_type": "stream",
     "text": [
      "--------------------------\n",
      "    Indicador Training\n",
      "--------------------------\n",
      "\n",
      "Regresión logística - AUC: 63.3%\n",
      "Regresión logística - F1: 55.2%\n",
      "\n",
      "--------------------------\n",
      "    Indicador Testing\n",
      "--------------------------\n",
      "\n",
      "Regresión logística - AUC: 63.6%\n",
      "Regresión logística - F1: 55.3%\n"
     ]
    }
   ],
   "source": [
    "print('--------------------------')\n",
    "print('    Indicador Training')\n",
    "print('--------------------------\\n')\n",
    "print(\"Regresión logística - AUC: \" + str(np.round(prediction_train * 100, 1)) + \"%\")\n",
    "y_pred = classifier.predict(pdX_train[columnsToEvaluate])\n",
    "print(\"Regresión logística - F1: \" + str(np.round(f1_score(y_train, y_pred) * 100, 1)) + \"%\")\n",
    "\n",
    "print('\\n--------------------------')\n",
    "print('    Indicador Testing')\n",
    "print('--------------------------\\n')\n",
    "print(\"Regresión logística - AUC: \" + str(np.round(prediction_test * 100, 1)) + \"%\")\n",
    "y_pred = classifier.predict(pdX_test[columnsToEvaluate])\n",
    "print(\"Regresión logística - F1: \" + str(np.round(f1_score(y_test, y_pred) * 100, 1)) + \"%\")"
   ]
  },
  {
   "cell_type": "markdown",
   "metadata": {
    "colab_type": "text",
    "id": "LinmkOKqCmHj"
   },
   "source": [
    "### 8.2 Arboles de Decisiones:"
   ]
  },
  {
   "cell_type": "code",
   "execution_count": 69,
   "metadata": {},
   "outputs": [
    {
     "data": {
      "text/plain": [
       "DecisionTreeClassifier(class_weight=None, criterion='gini', max_depth=10,\n",
       "            max_features=None, max_leaf_nodes=None,\n",
       "            min_impurity_decrease=0.0, min_impurity_split=None,\n",
       "            min_samples_leaf=1, min_samples_split=2,\n",
       "            min_weight_fraction_leaf=0.0, presort=False, random_state=None,\n",
       "            splitter='best')"
      ]
     },
     "execution_count": 69,
     "metadata": {},
     "output_type": "execute_result"
    }
   ],
   "source": [
    "reg = DecisionTreeClassifier(max_depth = 10)\n",
    "reg.fit(pdX_train[columnsToEvaluate], y_train)"
   ]
  },
  {
   "cell_type": "code",
   "execution_count": 70,
   "metadata": {},
   "outputs": [],
   "source": [
    "prediction2_train = reg.score(pdX_train[columnsToEvaluate], y_train)\n",
    "prediction2_test = reg.score(pdX_test[columnsToEvaluate], y_test)"
   ]
  },
  {
   "cell_type": "code",
   "execution_count": 71,
   "metadata": {
    "colab": {
     "base_uri": "https://localhost:8080/",
     "height": 54
    },
    "colab_type": "code",
    "id": "xKXYl8zfClgO",
    "outputId": "46c7126a-e2f5-4fa4-d4dd-2ee9d43a895c"
   },
   "outputs": [
    {
     "name": "stdout",
     "output_type": "stream",
     "text": [
      "\n",
      "--------------------------\n",
      "    Indicador Training\n",
      "--------------------------\n",
      "\n",
      "Árbol de decisión - AUC: 64.8%\n",
      "Árbol de decisión - F1: 56.2%\n",
      "\n",
      "--------------------------\n",
      "    Indicador Testing\n",
      "--------------------------\n",
      "\n",
      "Árbol de decisión - AUC: 63.2%\n",
      "Árbol de decisión - F1: 53.9%\n"
     ]
    }
   ],
   "source": [
    "print('\\n--------------------------')\n",
    "print('    Indicador Training')\n",
    "print('--------------------------\\n')\n",
    "print(\"Árbol de decisión - AUC: \" + str(np.round(prediction2_train * 100, 1)) + \"%\")\n",
    "y_pred = reg.predict(pdX_train[columnsToEvaluate])\n",
    "print(\"Árbol de decisión - F1: \" + str(np.round(f1_score(y_train, y_pred) * 100, 1)) + \"%\")\n",
    "\n",
    "print('\\n--------------------------')\n",
    "print('    Indicador Testing')\n",
    "print('--------------------------\\n')\n",
    "print(\"Árbol de decisión - AUC: \" + str(np.round(prediction2_test * 100, 1)) + \"%\")\n",
    "y_pred = reg.predict(pdX_test[columnsToEvaluate])\n",
    "print(\"Árbol de decisión - F1: \" + str(np.round(f1_score(y_test, y_pred) * 100, 1)) + \"%\")"
   ]
  },
  {
   "cell_type": "markdown",
   "metadata": {
    "colab_type": "text",
    "id": "9Ee6XkjHOgOQ"
   },
   "source": [
    "### 8.3 Modelo GBoosting:"
   ]
  },
  {
   "cell_type": "code",
   "execution_count": 72,
   "metadata": {},
   "outputs": [
    {
     "name": "stderr",
     "output_type": "stream",
     "text": [
      "C:\\Anaconda3\\lib\\site-packages\\sklearn\\utils\\validation.py:578: DataConversionWarning: A column-vector y was passed when a 1d array was expected. Please change the shape of y to (n_samples, ), for example using ravel().\n",
      "  y = column_or_1d(y, warn=True)\n"
     ]
    },
    {
     "data": {
      "text/plain": [
       "GradientBoostingClassifier(criterion='friedman_mse', init=None,\n",
       "              learning_rate=0.4, loss='deviance', max_depth=4,\n",
       "              max_features=None, max_leaf_nodes=None,\n",
       "              min_impurity_decrease=0.0, min_impurity_split=None,\n",
       "              min_samples_leaf=1, min_samples_split=2,\n",
       "              min_weight_fraction_leaf=0.0, n_estimators=200,\n",
       "              presort='auto', random_state=None, subsample=1.0, verbose=0,\n",
       "              warm_start=False)"
      ]
     },
     "execution_count": 72,
     "metadata": {},
     "output_type": "execute_result"
    }
   ],
   "source": [
    "clf = GradientBoostingClassifier(n_estimators=200, max_depth = 4, learning_rate = .4)\n",
    "clf.fit(pdX_train[columnsToEvaluate], pdy_train)"
   ]
  },
  {
   "cell_type": "code",
   "execution_count": 73,
   "metadata": {},
   "outputs": [],
   "source": [
    "prediction3_train = clf.score(pdX_train[columnsToEvaluate], pdy_train)\n",
    "prediction3_test = clf.score(pdX_test[columnsToEvaluate], pdy_test)"
   ]
  },
  {
   "cell_type": "code",
   "execution_count": 74,
   "metadata": {
    "colab": {
     "base_uri": "https://localhost:8080/",
     "height": 110
    },
    "colab_type": "code",
    "id": "KSI3azFuEMJX",
    "outputId": "82d80370-bb72-4413-9571-5bbe25808916"
   },
   "outputs": [
    {
     "name": "stdout",
     "output_type": "stream",
     "text": [
      "\n",
      "--------------------------\n",
      "    Indicador Training\n",
      "--------------------------\n",
      "\n",
      "Modelo GBoost - AUC: 70.4%\n",
      "Modelo GBoost - F1: 66.5%\n",
      "\n",
      "--------------------------\n",
      "    Indicador Testing\n",
      "--------------------------\n",
      "\n",
      "Modelo GBoost - AUC: 65.2%\n",
      "Modelo GBoost - F1: 60.3%\n"
     ]
    }
   ],
   "source": [
    "print('\\n--------------------------')\n",
    "print('    Indicador Training')\n",
    "print('--------------------------\\n')\n",
    "print(\"Modelo GBoost - AUC: \" + str(np.round(prediction3_train * 100, 1)) + \"%\")\n",
    "y_pred = clf.predict(pdX_train[columnsToEvaluate])\n",
    "print(\"Modelo GBoost - F1: \" + str(np.round(f1_score(y_train, y_pred) * 100, 1)) + \"%\")\n",
    "\n",
    "print('\\n--------------------------')\n",
    "print('    Indicador Testing')\n",
    "print('--------------------------\\n')\n",
    "print(\"Modelo GBoost - AUC: \" + str(np.round(prediction3_test * 100, 1)) + \"%\")\n",
    "y_pred = clf.predict(pdX_test[columnsToEvaluate])\n",
    "print(\"Modelo GBoost - F1: \" + str(np.round(f1_score(y_test, y_pred) * 100, 1)) + \"%\")"
   ]
  },
  {
   "cell_type": "markdown",
   "metadata": {
    "colab_type": "text",
    "id": "P07Us_uINxCo"
   },
   "source": [
    "## 9. Decisión:"
   ]
  },
  {
   "cell_type": "markdown",
   "metadata": {
    "colab_type": "text",
    "id": "ST4-kjsCtmUf"
   },
   "source": [
    "De las ejecuciones hechas el mejor indicador sería el GBUST"
   ]
  },
  {
   "cell_type": "code",
   "execution_count": 75,
   "metadata": {
    "colab": {
     "base_uri": "https://localhost:8080/",
     "height": 35
    },
    "colab_type": "code",
    "id": "KQS9dBo3OEu6",
    "outputId": "065c6f12-4a0c-4c2f-aeb4-354044f6afaa"
   },
   "outputs": [
    {
     "name": "stdout",
     "output_type": "stream",
     "text": [
      "Mejor modelo => GBoost - AUC: 65.2%\n"
     ]
    }
   ],
   "source": [
    "print(\"Mejor modelo => GBoost - AUC: \" + str(np.round(prediction3_test * 100, 1)) + \"%\")"
   ]
  },
  {
   "cell_type": "markdown",
   "metadata": {},
   "source": [
    "## 10. Réplica del modelo elegido:"
   ]
  },
  {
   "cell_type": "code",
   "execution_count": 76,
   "metadata": {},
   "outputs": [],
   "source": [
    "# Luego de la elección del mejor modelo:\n",
    "prediction = classifier.predict(pdX_train[columnsToEvaluate])"
   ]
  },
  {
   "cell_type": "code",
   "execution_count": 77,
   "metadata": {},
   "outputs": [
    {
     "data": {
      "text/html": [
       "<div>\n",
       "<style scoped>\n",
       "    .dataframe tbody tr th:only-of-type {\n",
       "        vertical-align: middle;\n",
       "    }\n",
       "\n",
       "    .dataframe tbody tr th {\n",
       "        vertical-align: top;\n",
       "    }\n",
       "\n",
       "    .dataframe thead th {\n",
       "        text-align: right;\n",
       "    }\n",
       "</style>\n",
       "<table border=\"1\" class=\"dataframe\">\n",
       "  <thead>\n",
       "    <tr style=\"text-align: right;\">\n",
       "      <th></th>\n",
       "      <th>time_in_hospital</th>\n",
       "      <th>num_lab_procedures</th>\n",
       "      <th>num_procedures</th>\n",
       "      <th>num_medications</th>\n",
       "      <th>number_diagnoses</th>\n",
       "      <th>diag_1</th>\n",
       "      <th>diag_2</th>\n",
       "      <th>diag_3</th>\n",
       "      <th>description_y_number</th>\n",
       "      <th>glyburide_number</th>\n",
       "      <th>...</th>\n",
       "      <th>description_x_number</th>\n",
       "      <th>diabetes_med_number</th>\n",
       "      <th>medical_specialty_number</th>\n",
       "      <th>description_number</th>\n",
       "      <th>race_number</th>\n",
       "      <th>number_inpatient_number</th>\n",
       "      <th>number_emergency_number</th>\n",
       "      <th>number_outpatient_number</th>\n",
       "      <th>target</th>\n",
       "      <th>prediction</th>\n",
       "    </tr>\n",
       "  </thead>\n",
       "  <tbody>\n",
       "    <tr>\n",
       "      <th>0</th>\n",
       "      <td>-0.802651</td>\n",
       "      <td>-0.259000</td>\n",
       "      <td>2.145781</td>\n",
       "      <td>-0.986997</td>\n",
       "      <td>-1.770078</td>\n",
       "      <td>-0.388181</td>\n",
       "      <td>-0.945198</td>\n",
       "      <td>-6.596155e-01</td>\n",
       "      <td>0.532414</td>\n",
       "      <td>0.461522</td>\n",
       "      <td>...</td>\n",
       "      <td>0.431930</td>\n",
       "      <td>0.404777</td>\n",
       "      <td>0.476613</td>\n",
       "      <td>0.473205</td>\n",
       "      <td>0.469336</td>\n",
       "      <td>0.384948</td>\n",
       "      <td>0.438943</td>\n",
       "      <td>0.436508</td>\n",
       "      <td>0</td>\n",
       "      <td>0</td>\n",
       "    </tr>\n",
       "    <tr>\n",
       "      <th>1</th>\n",
       "      <td>-0.132655</td>\n",
       "      <td>-1.072245</td>\n",
       "      <td>-0.199162</td>\n",
       "      <td>0.735544</td>\n",
       "      <td>-1.770078</td>\n",
       "      <td>1.167801</td>\n",
       "      <td>-0.213651</td>\n",
       "      <td>-9.801587e-01</td>\n",
       "      <td>0.408448</td>\n",
       "      <td>0.461522</td>\n",
       "      <td>...</td>\n",
       "      <td>0.431930</td>\n",
       "      <td>0.477636</td>\n",
       "      <td>0.341429</td>\n",
       "      <td>0.450227</td>\n",
       "      <td>0.469336</td>\n",
       "      <td>0.384948</td>\n",
       "      <td>0.438943</td>\n",
       "      <td>0.436508</td>\n",
       "      <td>0</td>\n",
       "      <td>0</td>\n",
       "    </tr>\n",
       "    <tr>\n",
       "      <th>2</th>\n",
       "      <td>-0.467653</td>\n",
       "      <td>1.011695</td>\n",
       "      <td>2.145781</td>\n",
       "      <td>-0.740920</td>\n",
       "      <td>0.298612</td>\n",
       "      <td>-0.290627</td>\n",
       "      <td>-0.213651</td>\n",
       "      <td>-9.766619e-01</td>\n",
       "      <td>0.408448</td>\n",
       "      <td>0.454604</td>\n",
       "      <td>...</td>\n",
       "      <td>0.493738</td>\n",
       "      <td>0.477636</td>\n",
       "      <td>0.509187</td>\n",
       "      <td>0.498925</td>\n",
       "      <td>0.457522</td>\n",
       "      <td>0.384948</td>\n",
       "      <td>0.438943</td>\n",
       "      <td>0.436508</td>\n",
       "      <td>1</td>\n",
       "      <td>0</td>\n",
       "    </tr>\n",
       "    <tr>\n",
       "      <th>3</th>\n",
       "      <td>2.212331</td>\n",
       "      <td>1.723285</td>\n",
       "      <td>2.732016</td>\n",
       "      <td>0.735544</td>\n",
       "      <td>0.815784</td>\n",
       "      <td>0.182508</td>\n",
       "      <td>-0.060536</td>\n",
       "      <td>3.392346e-02</td>\n",
       "      <td>0.472865</td>\n",
       "      <td>0.461522</td>\n",
       "      <td>...</td>\n",
       "      <td>0.493738</td>\n",
       "      <td>0.404777</td>\n",
       "      <td>0.447886</td>\n",
       "      <td>0.450227</td>\n",
       "      <td>0.469336</td>\n",
       "      <td>0.384948</td>\n",
       "      <td>0.438943</td>\n",
       "      <td>0.436508</td>\n",
       "      <td>0</td>\n",
       "      <td>0</td>\n",
       "    </tr>\n",
       "    <tr>\n",
       "      <th>4</th>\n",
       "      <td>-1.137649</td>\n",
       "      <td>-0.106517</td>\n",
       "      <td>-0.785398</td>\n",
       "      <td>-1.233074</td>\n",
       "      <td>-1.252906</td>\n",
       "      <td>-1.061302</td>\n",
       "      <td>-0.037853</td>\n",
       "      <td>5.201202e-14</td>\n",
       "      <td>0.472865</td>\n",
       "      <td>0.461522</td>\n",
       "      <td>...</td>\n",
       "      <td>0.269435</td>\n",
       "      <td>0.404777</td>\n",
       "      <td>0.435190</td>\n",
       "      <td>0.450227</td>\n",
       "      <td>0.469336</td>\n",
       "      <td>0.384948</td>\n",
       "      <td>0.438943</td>\n",
       "      <td>0.436508</td>\n",
       "      <td>0</td>\n",
       "      <td>0</td>\n",
       "    </tr>\n",
       "  </tbody>\n",
       "</table>\n",
       "<p>5 rows × 25 columns</p>\n",
       "</div>"
      ],
      "text/plain": [
       "   time_in_hospital  num_lab_procedures  num_procedures  num_medications  \\\n",
       "0         -0.802651           -0.259000        2.145781        -0.986997   \n",
       "1         -0.132655           -1.072245       -0.199162         0.735544   \n",
       "2         -0.467653            1.011695        2.145781        -0.740920   \n",
       "3          2.212331            1.723285        2.732016         0.735544   \n",
       "4         -1.137649           -0.106517       -0.785398        -1.233074   \n",
       "\n",
       "   number_diagnoses    diag_1    diag_2        diag_3  description_y_number  \\\n",
       "0         -1.770078 -0.388181 -0.945198 -6.596155e-01              0.532414   \n",
       "1         -1.770078  1.167801 -0.213651 -9.801587e-01              0.408448   \n",
       "2          0.298612 -0.290627 -0.213651 -9.766619e-01              0.408448   \n",
       "3          0.815784  0.182508 -0.060536  3.392346e-02              0.472865   \n",
       "4         -1.252906 -1.061302 -0.037853  5.201202e-14              0.472865   \n",
       "\n",
       "   glyburide_number     ...      description_x_number  diabetes_med_number  \\\n",
       "0          0.461522     ...                  0.431930             0.404777   \n",
       "1          0.461522     ...                  0.431930             0.477636   \n",
       "2          0.454604     ...                  0.493738             0.477636   \n",
       "3          0.461522     ...                  0.493738             0.404777   \n",
       "4          0.461522     ...                  0.269435             0.404777   \n",
       "\n",
       "   medical_specialty_number  description_number  race_number  \\\n",
       "0                  0.476613            0.473205     0.469336   \n",
       "1                  0.341429            0.450227     0.469336   \n",
       "2                  0.509187            0.498925     0.457522   \n",
       "3                  0.447886            0.450227     0.469336   \n",
       "4                  0.435190            0.450227     0.469336   \n",
       "\n",
       "   number_inpatient_number  number_emergency_number  number_outpatient_number  \\\n",
       "0                 0.384948                 0.438943                  0.436508   \n",
       "1                 0.384948                 0.438943                  0.436508   \n",
       "2                 0.384948                 0.438943                  0.436508   \n",
       "3                 0.384948                 0.438943                  0.436508   \n",
       "4                 0.384948                 0.438943                  0.436508   \n",
       "\n",
       "   target  prediction  \n",
       "0       0           0  \n",
       "1       0           0  \n",
       "2       1           0  \n",
       "3       0           0  \n",
       "4       0           0  \n",
       "\n",
       "[5 rows x 25 columns]"
      ]
     },
     "execution_count": 77,
     "metadata": {},
     "output_type": "execute_result"
    }
   ],
   "source": [
    "dataBaseFinal = pdX_train[columnsToEvaluate] \n",
    "dataBaseFinal['target'] = pd.DataFrame(y_train)\n",
    "dataBaseFinal['prediction'] = pd.DataFrame(prediction)\n",
    "dataBaseFinal.head()"
   ]
  },
  {
   "cell_type": "code",
   "execution_count": null,
   "metadata": {},
   "outputs": [],
   "source": []
  }
 ],
 "metadata": {
  "colab": {
   "collapsed_sections": [],
   "name": "ws_python_01_oscar_dueñas_jean_perez.ipynb",
   "provenance": [],
   "version": "0.3.2"
  },
  "kernelspec": {
   "display_name": "Python 3",
   "language": "python",
   "name": "python3"
  },
  "language_info": {
   "codemirror_mode": {
    "name": "ipython",
    "version": 3
   },
   "file_extension": ".py",
   "mimetype": "text/x-python",
   "name": "python",
   "nbconvert_exporter": "python",
   "pygments_lexer": "ipython3",
   "version": "3.6.5"
  }
 },
 "nbformat": 4,
 "nbformat_minor": 1
}
